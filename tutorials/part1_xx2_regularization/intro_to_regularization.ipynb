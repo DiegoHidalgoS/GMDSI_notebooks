{
 "cells": [
  {
   "cell_type": "markdown",
   "metadata": {},
   "source": [
    "# Addressing the Ill-Posed Inverse Problem \n",
    "This tutorial picks up following the \"Freyberg pilot points\" tutorial in which we added a lot more adjustable parameters. We saw that this allowed us to get an excellent fit with measured data (too good!) but resulted in unrealistic parameter fields. Not to mention that we still underepresented forecast uncertainty.\n",
    "\n",
    "## Regularization\n",
    "\n",
    "We have more unkown parameters than observations. Thus, we have an ill-posed inverse problem. The mathematical term for the process through which a unique solution is sought for a nonunique inverse problem is “regularization”. The goal of regularised inversion is to seek a unique parameter field that results in a suitable fit between model outputs and field measurements, whilst minimizing the potential for wrongness in model predictions. That is, out of all the ways to fit a calibration dataset, regularized inversion seeks the parameter set of minimum error variance.\n",
    "\n",
    "There are two main approaches used to stabilize this problem: \n",
    " 1) adding soft knowledge and/or \n",
    " 2) reducing the problem dimensionality. \n",
    "\n",
    "These methods can be used by themselves, but are most commonly applied together.\n"
   ]
  },
  {
   "cell_type": "markdown",
   "metadata": {},
   "source": [
    "## 1. Tikhonov Regularization\n",
    "We have moved up the simplicity-complexity curve because now we have many more parameters, even more than our observations.  But have we passed the sweetspot? One way to seek a parameter field of minimum error variance is to seek a parameter field that allows the model to fit the calibration dataset, but whose values are also as close as possible to a set of “preferred parameter values”.\n",
    "\n",
    "<img src=\"intro_to_regularization\\Hunt1998_sweetspot.png\" style=\"float: center\">\n",
    "\n",
    "Again, it is not simply the number of parameters that is at issue.  The better way to think of it is that we just want to avoid \"living beyond our means\". That is, we do not bring more parameters to bear than we have the ability to constrain.  We constrain them observations as we have seen so far, but we also know things about the system that are not hard data like measurements.  This \"soft-knowledge\" can also be applied to  constrain our parameters through a mechanism called __\"Tikhonov regularization\"__.  In this formulation of the inverse problem, we add a second term to our \"best fit\" metric Phi. This second term reflects the deviation from our soft-knowledge of the system, and is a penalty to our fit. Here's how it looks using the Anderson et al. (2015) formulation:\n",
    "\n",
    "<img src=\"intro_to_regularization\\tik-reg_eq9.8.png\" style=\"float: center\">\n",
    "\n",
    "As first term after the equal sign is our __measurement objective function__, which we've been working with all week.  The last term on the right is called the __\"regularization objective function\"__. These 2 terms combine to create a __total Phi__ on the left.  __Now Total Phi is what we minimize__, which means we are minimizing our observed-to-simulated residuals __AND__ the deviation from soft-knowledge.  So in this way Tikhonov regularization is a \"dual-constrained minimization\".  "
   ]
  },
  {
   "cell_type": "markdown",
   "metadata": {},
   "source": [
    "Andrey Tikhonov\n",
    "<img src=\"intro_to_regularization\\Andrey_Tikhonov_picture.jpeg\" style=\"float: center\">"
   ]
  },
  {
   "cell_type": "markdown",
   "metadata": {},
   "source": [
    "Anderson et al. (2015) looks a little closer at this in equation 9.9:\n",
    "\n",
    "\n",
    "<img src=\"intro_to_regularization\\tik-reg_eq9.9.png\" style=\"float: center\">\n",
    "\n",
    "The first term to the right of the equals sign is the measurement objective function from\n",
    "Eqn (9.6), which is calculated as the sum of squared weighted residuals, where *n* residuals,\n",
    "*ri*, are calculated from hard knowledge and wi are their respective weights. The second\n",
    "term quantifies the penalty resulting from deviations from soft knowledge as the sum\n",
    "of *q* deviations from *j* soft knowledge conditions *fj*, where *fj* is a function of model parameters\n",
    "*p*. A calibrated model, therefore, is found by minimizing both the measurement\n",
    "objective function (hard data) and the soft knowledge penalty.\n",
    "\n",
    "> __Take-home point #1 from these equations:__\n",
    "> When Tikhonov is set up correctly, PEST should only deviate from the preferred condition when there is a > suffient improvement in our fit to the observations (= the measurement objective function).  \n",
    ">\n",
    "> __Take-home point #2 from these equations:__  \n",
    "> The two contributors to our total $Phi$ are __*carried separately in the parameter estimation*__.  \n",
    ">\n",
    "This is important. It allows us to control the balance between fitting measured data and respecting expert knowledge. This is how we avoid __overfitting__.\n"
   ]
  },
  {
   "cell_type": "markdown",
   "metadata": {},
   "source": [
    "### Prior Information\n",
    "\n",
    "How do we express soft-knowledge quantiatively so we can minimize it?\n",
    "\n",
    "PEST(++) provides a user with a great deal of flexibility in how Tikhonov constraints can be introduced to an inversion process. The easiest way is to do this is through the use of prior information equations. When prior information equations are employed, Tikhonov constraints are expressed through preferred values that are assigned to linear relationships between parameters. (Equality is the simplest type of linear relationship.) Weights must be assigned to these equations. As is described in PEST documentation, when PEST is run in “regularization” mode, it makes internal adjustments to the weights that are assigned to any observations or prior information equations that belong to special observation groups that are referred to as “regularization groups”. \n",
    "\n",
    "We add preferred conditions.  These are typically:\n",
    "\n",
    "1. *preferred  value* - \"I believe this Kh parameter is around 1 m/d\"\n",
    "2. *preferred difference* - \"I believe  this area has a Kh 10 m/d higher than that area\" \n",
    "\n",
    "One of the most useful preferred condition for collapsing all these parameters to fewer bins is a special case of preferred difference where the difference = 0.  This is often called: __\"preferred homogeneity\"__ -  which equates to something along the lines of \"I believe this area has homogeneous Kh\" \n",
    "\n",
    "Of these, __preferred value__ is the easiest implement, and least memory intensive, preferred condition.   `pyemu` implements this with functionality called \"*__zero_order_tikhonov__*\". (Mmake sure the initial values in the control file represent your soft-knowledge!) `pyemu` also has preferred difference available - look for *\"__first_order_pearson_tikhonov__\"*.  We'll see both of these in this notebook. We will demosntrate these functions further on."
   ]
  },
  {
   "cell_type": "markdown",
   "metadata": {},
   "source": [
    "### Pilot point regularization can be propogated to other pilot points, or not.\n",
    "\n",
    "Here are two examples from Anderson et al. (2015).  For \"preferred value\" __(below (a), left)__ there is no cross-talk between pilot points.  The initial parameter value of each pilot point is the preferred value.  For preferred difference __(below (a), right)__, there is a radius of influence that connects the pilot point regularization (think correlation length from geostatistics).  \n",
    "\n",
    "\n",
    "<img src=\"intro_to_regularization\\Fig9.15a_Muffles_pp.png\" style=\"float: center\">\n",
    "\n",
    "\n",
    "\n",
    "\n",
    "\n",
    "\n",
    "\n",
    "\n",
    "\n",
    "\n",
    "\n",
    "### Likewise, pilot-point regularization can also be grouped or limited to specific areas.  \n",
    "\n",
    "For example, if the geology of a site suggests distinct units you can only apply the preferred difference to just the zone:\n",
    "\n",
    "<img src=\"intro_to_regularization\\Fig9.15b_Kyle_Larry_pp.png\" style=\"float: center\">\n",
    "\n",
    "\n",
    "Here's the caption from Anderson et al. (2015) for posterity:  Figure 9.15 Pilot Points. (a) Network of pilot points in a watershed-scale groundwater flow model (left); linkages between pilot points (right) used to calculate Tikhonov regularization constraints for preferred homogeneity (modified from Muffels, 2008). (b) Network of pilot points used to represent two hydraulic conductivity zones where Tikhonov regularization is applied to pilot points within the same zone (modified from Davis and Putnam, 2013)."
   ]
  },
  {
   "cell_type": "markdown",
   "metadata": {},
   "source": [
    "### But there is more to think about:\n",
    "\n",
    "Just like our observations, our preferred conditions are given a weight.  Typically it is uniform (usually 1) - this is what the PEST utility *addreg1.exe* does. On top of this, typically we have the regularization objective function set up to adjust the weights of the different parameter groups during the course of the parameter estimation (IREGADJ variable = 1 in the PEST control file).  See pages 17, 20, and page 34 of SIR 2010-5169. \n",
    "\n",
    "__But this is critical__ - these typically end up having somewhat subtle effects; the final say in trade-off between the measurement objective function and the regularization objective function is in a *user specified variable* in the PEST control file called:\n",
    "\n",
    "### PHIMLIM\n",
    "\n",
    "Many people missed the importance of this variable in the original Doherty (2003) paper that first showed PEST's pilot points and Tikhonov capabilities. This missed importance was addressed in detail in Fienen et al. (2009).  So, for you to do good modeling with these approaches it is critically important that you take this away, so we will state it again in bigger font:  \n",
    "\n",
    "The final say in trade-off between the measurement objective function and the regularization objective function is in a *user specified variable* in the PEST control file called:\n",
    "\n",
    "### PHIMLIM\n",
    "\n",
    "PHIMLIM is the \"Target Measurement Objective Function\", which means rather than finding the best fit to the observations, PEST will hit this new PHIMLIM level and  *then find the minimum of the regularization objective function* (find the parameters that most closely match the preferred conditions while still keeping the PHIMLIM target measurement objective function). "
   ]
  },
  {
   "cell_type": "markdown",
   "metadata": {},
   "source": [
    "A good way to think of this is that PHIMLIM controls the trade-off between the two parts of the righthand side of the equal sign in equation 9.8 above. We can plot this tradeoff as a Pareto front between adhereing to soft-knowledge (regularization objective function) and getting a better fit (measurement objective function). That looks like:\n",
    "\n",
    "\n",
    "<img src=\"intro_to_regularization\\Fig9.17_fit_vs_softknowledge_Pareto.png\" style=\"float: center\">\n",
    "\n",
    "\n",
    "A __key point__ is that many points on this curve could be considered a \"calibrated model\", which equals good fit and reasonable parameters. Which of these we choose is based on professional judgement.  "
   ]
  },
  {
   "cell_type": "markdown",
   "metadata": {},
   "source": [
    "#### Final point:  \n",
    "Here's how PHIMLIM expresses itself on the optimal parameters:\n",
    "\n",
    "<img src=\"intro_to_regularization\\Fig9.16_PHIMLIM.png\" style=\"float: center\">"
   ]
  },
  {
   "cell_type": "markdown",
   "metadata": {},
   "source": [
    "So setting PHIMLIM is our primary way to control the degree of fitting, and keep us from *overfitting*.\n",
    "\n",
    "The suggested workflow is to:\n",
    "\n",
    "1) Set PHIMLIM very low (e.g., 1.0) and run the parameter estimation.  This throws away the soft-knowledge and finds the best fit to the observations (minimizes the measurement objective function).  \n",
    "\n",
    "2) Set PHIMLIM to something like __10% higher__ than this lowest Phi.  Re-run the parameter estimation, evaluate if the parameters are too extreme.  If they are, raise PHIMLIM again.\n",
    "\n",
    "We'll use this workflow on our pilot point version of Freyberg later.  But first, let's talk a little more about the theory and implementation of ``prior_information`` in the PEST datasets."
   ]
  },
  {
   "cell_type": "markdown",
   "metadata": {},
   "source": [
    "## 2. Singular Value Decompostion\n",
    "\n",
    " > See the \"intro to svd\" notebook for an introduction to Singular Value Decompostion.\n",
    "\n",
    "Tikhonov regularisation adds information to the calibration process in order to achieve numerical stability. In contrast, subspace methods achive numerical stability by reducing the dimensionality of the problem, removing and/or combining prameters. When employing SVD in calibration, only parameters and linear combinations of parameters that are suficiently constrained by measured data are estimated. These parameters are said to reside in the *solution space*. Choosing which parameter combinations to estimate is accomplished via singular value decomposition (SVD). SVD-based parameter estimation fixes intial values for parameters/parameter combinations that are not estimable (reside in the *null space*) and does not adjust them during inversion. (So make sure initial parameter values are sensible!)  \n",
    "\n",
    "Unlike PEST and PEST_HP, by default, members of the PEST++ suite employ singular value decomposition (or methods closely related to it) for solution of the inverse problem. Unless otherwise specifed, default options are employed. PEST++GLM offers two numerical libraries for implementing SVD; the default option will usually suffice (see the PEST++ user manual for details)."
   ]
  },
  {
   "cell_type": "markdown",
   "metadata": {},
   "source": [
    "# Admin\n",
    "Load the Freyberg model and setup up the PEST control file. The next two cells construct the same setups employed during previous tutorials on pilot points."
   ]
  },
  {
   "cell_type": "code",
   "execution_count": 1,
   "metadata": {
    "execution": {
     "iopub.execute_input": "2022-07-29T08:00:51.447721Z",
     "iopub.status.busy": "2022-07-29T08:00:51.447721Z",
     "iopub.status.idle": "2022-07-29T08:00:53.416519Z",
     "shell.execute_reply": "2022-07-29T08:00:53.414852Z"
    }
   },
   "outputs": [],
   "source": [
    "import sys\n",
    "import os\n",
    "import warnings\n",
    "warnings.filterwarnings(\"ignore\")\n",
    "warnings.filterwarnings(\"ignore\", category=DeprecationWarning) \n",
    "\n",
    "import pandas as pd\n",
    "import numpy as np\n",
    "import matplotlib.pyplot as plt;\n",
    "import psutil\n",
    "import shutil\n",
    "\n",
    "sys.path.insert(0,os.path.join(\"..\", \"..\", \"dependencies\"))\n",
    "import pyemu\n",
    "import flopy\n",
    "assert \"dependencies\" in flopy.__file__\n",
    "assert \"dependencies\" in pyemu.__file__\n",
    "sys.path.insert(0,\"..\")\n",
    "import herebedragons as hbd\n",
    "\n",
    "plt.rcParams['font.size'] = 10\n",
    "pyemu.plot_utils.font =10"
   ]
  },
  {
   "cell_type": "code",
   "execution_count": 2,
   "metadata": {
    "execution": {
     "iopub.execute_input": "2022-07-29T08:00:53.419513Z",
     "iopub.status.busy": "2022-07-29T08:00:53.419513Z",
     "iopub.status.idle": "2022-07-29T08:01:01.111035Z",
     "shell.execute_reply": "2022-07-29T08:01:01.110030Z"
    }
   },
   "outputs": [
    {
     "name": "stdout",
     "output_type": "stream",
     "text": [
      "ins file for heads.csv prepared.\n",
      "ins file for sfr.csv prepared.\n",
      "noptmax:0, npar_adj:1, nnz_obs:24\n",
      "written pest control file: freyberg_mf6\\freyberg.pst\n",
      "   could not remove start_datetime\n",
      "1 pars added from template file .\\freyberg6.sfr_perioddata_1.txt.tpl\n",
      "6 pars added from template file .\\freyberg6.wel_stress_period_data_10.txt.tpl\n",
      "0 pars added from template file .\\freyberg6.wel_stress_period_data_11.txt.tpl\n",
      "0 pars added from template file .\\freyberg6.wel_stress_period_data_12.txt.tpl\n",
      "0 pars added from template file .\\freyberg6.wel_stress_period_data_2.txt.tpl\n",
      "0 pars added from template file .\\freyberg6.wel_stress_period_data_3.txt.tpl\n",
      "0 pars added from template file .\\freyberg6.wel_stress_period_data_4.txt.tpl\n",
      "0 pars added from template file .\\freyberg6.wel_stress_period_data_5.txt.tpl\n",
      "0 pars added from template file .\\freyberg6.wel_stress_period_data_6.txt.tpl\n",
      "0 pars added from template file .\\freyberg6.wel_stress_period_data_7.txt.tpl\n",
      "0 pars added from template file .\\freyberg6.wel_stress_period_data_8.txt.tpl\n",
      "0 pars added from template file .\\freyberg6.wel_stress_period_data_9.txt.tpl\n",
      "starting interp point loop for 800 points\n",
      "took 2.215318 seconds\n",
      "1 pars dropped from template file freyberg_mf6\\freyberg6.npf_k_layer1.txt.tpl\n",
      "29 pars added from template file .\\hkpp.dat.tpl\n",
      "starting interp point loop for 800 points\n",
      "took 2.239979 seconds\n",
      "2 pars dropped from template file freyberg_mf6\\freyberg6.rch.tpl\n",
      "29 pars added from template file .\\rchpp.dat.tpl\n",
      "noptmax:0, npar_adj:65, nnz_obs:37\n",
      "new control file: 'freyberg_pp.pst'\n"
     ]
    }
   ],
   "source": [
    "# folder containing original model files\n",
    "org_d = os.path.join('..', '..', 'models', 'monthly_model_files_1lyr_newstress')\n",
    "# a dir to hold a copy of the org model files\n",
    "tmp_d = os.path.join('freyberg_mf6')\n",
    "if os.path.exists(tmp_d):\n",
    "    shutil.rmtree(tmp_d)\n",
    "shutil.copytree(org_d,tmp_d)\n",
    "# get executables\n",
    "hbd.prep_bins(tmp_d)\n",
    "# get dependency folders\n",
    "hbd.prep_deps(tmp_d)\n",
    "# run our convenience functions to prepare the PEST and model folder\n",
    "hbd.prep_pest(tmp_d)\n",
    "# convenience function that builds a new control file with pilot point parameters for hk\n",
    "hbd.add_ppoints(tmp_d)"
   ]
  },
  {
   "cell_type": "markdown",
   "metadata": {},
   "source": [
    "### Tikhnov regularization as \"prior information\".  \n",
    "\n",
    "In pyemu, we can add two forms of regularization:\n",
    "- preferred __value__: we want the parameter values to stay as close to the initial values as possible\n",
    "- preferred __difference__: we prefer the differences in parameter values to be minimized\n",
    "\n",
    "Preferred value is easy to understand, we simply add ``prior_information`` to the control file to enforce this condition.  `pyemu` uses a helper for this:"
   ]
  },
  {
   "cell_type": "code",
   "execution_count": 3,
   "metadata": {
    "execution": {
     "iopub.execute_input": "2022-07-29T08:01:01.114023Z",
     "iopub.status.busy": "2022-07-29T08:01:01.114023Z",
     "iopub.status.idle": "2022-07-29T08:01:04.596714Z",
     "shell.execute_reply": "2022-07-29T08:01:04.596151Z"
    }
   },
   "outputs": [
    {
     "name": "stdout",
     "output_type": "stream",
     "text": [
      "noptmax:0, npar_adj:65, nnz_obs:37\n"
     ]
    }
   ],
   "source": [
    "# load the pre-constructed pst\n",
    "pst = pyemu.Pst(os.path.join(tmp_d,'freyberg_pp.pst'))\n",
    "# run it once for checking\n",
    "pst.control_data.noptmax=0\n",
    "pst.write(os.path.join(tmp_d,'freyberg_pp.pst'))\n",
    "pyemu.os_utils.run('pestpp-glm freyberg_pp.pst', cwd=tmp_d)\n",
    "# check if it ran\n",
    "pst = pyemu.Pst(os.path.join(tmp_d,'freyberg_pp.pst'))\n",
    "assert pst.phi"
   ]
  },
  {
   "cell_type": "markdown",
   "metadata": {},
   "source": [
    "You can check the `prior_information` section of the control file like so:"
   ]
  },
  {
   "cell_type": "code",
   "execution_count": 4,
   "metadata": {
    "execution": {
     "iopub.execute_input": "2022-07-29T08:01:04.599759Z",
     "iopub.status.busy": "2022-07-29T08:01:04.599759Z",
     "iopub.status.idle": "2022-07-29T08:01:04.612383Z",
     "shell.execute_reply": "2022-07-29T08:01:04.612036Z"
    }
   },
   "outputs": [
    {
     "data": {
      "text/html": [
       "<div>\n",
       "<style scoped>\n",
       "    .dataframe tbody tr th:only-of-type {\n",
       "        vertical-align: middle;\n",
       "    }\n",
       "\n",
       "    .dataframe tbody tr th {\n",
       "        vertical-align: top;\n",
       "    }\n",
       "\n",
       "    .dataframe thead th {\n",
       "        text-align: right;\n",
       "    }\n",
       "</style>\n",
       "<table border=\"1\" class=\"dataframe\">\n",
       "  <thead>\n",
       "    <tr style=\"text-align: right;\">\n",
       "      <th></th>\n",
       "      <th>pilbl</th>\n",
       "      <th>obgnme</th>\n",
       "    </tr>\n",
       "  </thead>\n",
       "  <tbody>\n",
       "  </tbody>\n",
       "</table>\n",
       "</div>"
      ],
      "text/plain": [
       "Empty DataFrame\n",
       "Columns: [pilbl, obgnme]\n",
       "Index: []"
      ]
     },
     "execution_count": 4,
     "metadata": {},
     "output_type": "execute_result"
    }
   ],
   "source": [
    "pst.prior_information"
   ]
  },
  {
   "cell_type": "markdown",
   "metadata": {},
   "source": [
    "As you see, it is empty. Let's add preferred value regularization:"
   ]
  },
  {
   "cell_type": "code",
   "execution_count": 5,
   "metadata": {
    "execution": {
     "iopub.execute_input": "2022-07-29T08:01:04.615413Z",
     "iopub.status.busy": "2022-07-29T08:01:04.615413Z",
     "iopub.status.idle": "2022-07-29T08:01:04.627692Z",
     "shell.execute_reply": "2022-07-29T08:01:04.627692Z"
    }
   },
   "outputs": [],
   "source": [
    "# use the pyemu helper to apply preferred value regularization on all the parameters\n",
    "pyemu.helpers.zero_order_tikhonov(pst,parbounds=False)"
   ]
  },
  {
   "cell_type": "markdown",
   "metadata": {},
   "source": [
    "Boom!"
   ]
  },
  {
   "cell_type": "code",
   "execution_count": 6,
   "metadata": {
    "execution": {
     "iopub.execute_input": "2022-07-29T08:01:04.631719Z",
     "iopub.status.busy": "2022-07-29T08:01:04.631719Z",
     "iopub.status.idle": "2022-07-29T08:01:04.643803Z",
     "shell.execute_reply": "2022-07-29T08:01:04.643187Z"
    }
   },
   "outputs": [
    {
     "data": {
      "text/html": [
       "<div>\n",
       "<style scoped>\n",
       "    .dataframe tbody tr th:only-of-type {\n",
       "        vertical-align: middle;\n",
       "    }\n",
       "\n",
       "    .dataframe tbody tr th {\n",
       "        vertical-align: top;\n",
       "    }\n",
       "\n",
       "    .dataframe thead th {\n",
       "        text-align: right;\n",
       "    }\n",
       "</style>\n",
       "<table border=\"1\" class=\"dataframe\">\n",
       "  <thead>\n",
       "    <tr style=\"text-align: right;\">\n",
       "      <th></th>\n",
       "      <th>pilbl</th>\n",
       "      <th>equation</th>\n",
       "      <th>obgnme</th>\n",
       "      <th>weight</th>\n",
       "    </tr>\n",
       "  </thead>\n",
       "  <tbody>\n",
       "    <tr>\n",
       "      <th>0</th>\n",
       "      <td>strinf</td>\n",
       "      <td>1.0 * log(strinf) =   2.698970E+00</td>\n",
       "      <td>regulstrinf</td>\n",
       "      <td>1.0</td>\n",
       "    </tr>\n",
       "    <tr>\n",
       "      <th>1</th>\n",
       "      <td>wel2</td>\n",
       "      <td>1.0 * log(wel2) =   2.477121E+00</td>\n",
       "      <td>regulwel</td>\n",
       "      <td>1.0</td>\n",
       "    </tr>\n",
       "    <tr>\n",
       "      <th>2</th>\n",
       "      <td>wel4</td>\n",
       "      <td>1.0 * log(wel4) =   2.477121E+00</td>\n",
       "      <td>regulwel</td>\n",
       "      <td>1.0</td>\n",
       "    </tr>\n",
       "    <tr>\n",
       "      <th>3</th>\n",
       "      <td>wel5</td>\n",
       "      <td>1.0 * log(wel5) =   2.477121E+00</td>\n",
       "      <td>regulwel</td>\n",
       "      <td>1.0</td>\n",
       "    </tr>\n",
       "    <tr>\n",
       "      <th>4</th>\n",
       "      <td>wel0</td>\n",
       "      <td>1.0 * log(wel0) =   2.477121E+00</td>\n",
       "      <td>regulwel</td>\n",
       "      <td>1.0</td>\n",
       "    </tr>\n",
       "    <tr>\n",
       "      <th>...</th>\n",
       "      <td>...</td>\n",
       "      <td>...</td>\n",
       "      <td>...</td>\n",
       "      <td>...</td>\n",
       "    </tr>\n",
       "    <tr>\n",
       "      <th>60</th>\n",
       "      <td>rch_i:2_j:2_zone:1.0</td>\n",
       "      <td>1.0 * log(rch_i:2_j:2_zone:1.0) =   0.000000E+00</td>\n",
       "      <td>regulrch0</td>\n",
       "      <td>1.0</td>\n",
       "    </tr>\n",
       "    <tr>\n",
       "      <th>61</th>\n",
       "      <td>rch_i:17_j:17_zone:1.0</td>\n",
       "      <td>1.0 * log(rch_i:17_j:17_zone:1.0) =   0.000000E+00</td>\n",
       "      <td>regulrch0</td>\n",
       "      <td>1.0</td>\n",
       "    </tr>\n",
       "    <tr>\n",
       "      <th>62</th>\n",
       "      <td>rch_i:7_j:17_zone:1.0</td>\n",
       "      <td>1.0 * log(rch_i:7_j:17_zone:1.0) =   0.000000E+00</td>\n",
       "      <td>regulrch0</td>\n",
       "      <td>1.0</td>\n",
       "    </tr>\n",
       "    <tr>\n",
       "      <th>63</th>\n",
       "      <td>rch_i:32_j:2_zone:1.0</td>\n",
       "      <td>1.0 * log(rch_i:32_j:2_zone:1.0) =   0.000000E+00</td>\n",
       "      <td>regulrch0</td>\n",
       "      <td>1.0</td>\n",
       "    </tr>\n",
       "    <tr>\n",
       "      <th>64</th>\n",
       "      <td>rch_i:22_j:12_zone:1.0</td>\n",
       "      <td>1.0 * log(rch_i:22_j:12_zone:1.0) =   0.000000E+00</td>\n",
       "      <td>regulrch0</td>\n",
       "      <td>1.0</td>\n",
       "    </tr>\n",
       "  </tbody>\n",
       "</table>\n",
       "<p>65 rows × 4 columns</p>\n",
       "</div>"
      ],
      "text/plain": [
       "                     pilbl  \\\n",
       "0                   strinf   \n",
       "1                     wel2   \n",
       "2                     wel4   \n",
       "3                     wel5   \n",
       "4                     wel0   \n",
       "..                     ...   \n",
       "60    rch_i:2_j:2_zone:1.0   \n",
       "61  rch_i:17_j:17_zone:1.0   \n",
       "62   rch_i:7_j:17_zone:1.0   \n",
       "63   rch_i:32_j:2_zone:1.0   \n",
       "64  rch_i:22_j:12_zone:1.0   \n",
       "\n",
       "                                              equation       obgnme  weight  \n",
       "0                   1.0 * log(strinf) =   2.698970E+00  regulstrinf     1.0  \n",
       "1                     1.0 * log(wel2) =   2.477121E+00     regulwel     1.0  \n",
       "2                     1.0 * log(wel4) =   2.477121E+00     regulwel     1.0  \n",
       "3                     1.0 * log(wel5) =   2.477121E+00     regulwel     1.0  \n",
       "4                     1.0 * log(wel0) =   2.477121E+00     regulwel     1.0  \n",
       "..                                                 ...          ...     ...  \n",
       "60    1.0 * log(rch_i:2_j:2_zone:1.0) =   0.000000E+00    regulrch0     1.0  \n",
       "61  1.0 * log(rch_i:17_j:17_zone:1.0) =   0.000000E+00    regulrch0     1.0  \n",
       "62   1.0 * log(rch_i:7_j:17_zone:1.0) =   0.000000E+00    regulrch0     1.0  \n",
       "63   1.0 * log(rch_i:32_j:2_zone:1.0) =   0.000000E+00    regulrch0     1.0  \n",
       "64  1.0 * log(rch_i:22_j:12_zone:1.0) =   0.000000E+00    regulrch0     1.0  \n",
       "\n",
       "[65 rows x 4 columns]"
      ]
     },
     "execution_count": 6,
     "metadata": {},
     "output_type": "execute_result"
    }
   ],
   "source": [
    "# make a table of the regularization equations \n",
    "pst.prior_information"
   ]
  },
  {
   "cell_type": "markdown",
   "metadata": {},
   "source": [
    "Note the \"regul\" appended to the parameter group name - that is how we tell PEST to track the deviations from preferred conditions separately as a Tikhonov regularization.\n",
    "\n",
    "Ok, that's fine, but should the weight on preferring a HK value be the same as preferring recharge not to change? HK is typically considered to be \"known\" within an order of magnitude; the uncertainty in recharge is typically considered less than that - say plus or minus 50%. Seems like we would want recharge to change less than HK. \n",
    "\n",
    "### Rgularization weights from parameter prior uncertainty\n",
    "\n",
    "There is a neat trick that `pyemu` gives us: this strength of the preferred value can be inferred from the parameter bounds you specify.  That is, the bounds are used to form the regularization weights; larger bounds = more uncertainty = less weight given to  maintaining the initial value during the parameter estimation.  \n",
    "\n",
    "Let's try this again using the bounds:"
   ]
  },
  {
   "cell_type": "code",
   "execution_count": 7,
   "metadata": {
    "execution": {
     "iopub.execute_input": "2022-07-29T08:01:04.647791Z",
     "iopub.status.busy": "2022-07-29T08:01:04.646794Z",
     "iopub.status.idle": "2022-07-29T08:01:04.689431Z",
     "shell.execute_reply": "2022-07-29T08:01:04.689431Z"
    }
   },
   "outputs": [
    {
     "data": {
      "text/html": [
       "<div>\n",
       "<style scoped>\n",
       "    .dataframe tbody tr th:only-of-type {\n",
       "        vertical-align: middle;\n",
       "    }\n",
       "\n",
       "    .dataframe tbody tr th {\n",
       "        vertical-align: top;\n",
       "    }\n",
       "\n",
       "    .dataframe thead th {\n",
       "        text-align: right;\n",
       "    }\n",
       "</style>\n",
       "<table border=\"1\" class=\"dataframe\">\n",
       "  <thead>\n",
       "    <tr style=\"text-align: right;\">\n",
       "      <th></th>\n",
       "      <th>pilbl</th>\n",
       "      <th>equation</th>\n",
       "      <th>obgnme</th>\n",
       "      <th>weight</th>\n",
       "    </tr>\n",
       "    <tr>\n",
       "      <th>pilbl</th>\n",
       "      <th></th>\n",
       "      <th></th>\n",
       "      <th></th>\n",
       "      <th></th>\n",
       "    </tr>\n",
       "  </thead>\n",
       "  <tbody>\n",
       "    <tr>\n",
       "      <th>strinf</th>\n",
       "      <td>strinf</td>\n",
       "      <td>1.0 * log(strinf) =   2.698970E+00</td>\n",
       "      <td>regulstrinf</td>\n",
       "      <td>0.500000</td>\n",
       "    </tr>\n",
       "    <tr>\n",
       "      <th>wel2</th>\n",
       "      <td>wel2</td>\n",
       "      <td>1.0 * log(wel2) =   2.477121E+00</td>\n",
       "      <td>regulwel</td>\n",
       "      <td>0.511707</td>\n",
       "    </tr>\n",
       "    <tr>\n",
       "      <th>wel4</th>\n",
       "      <td>wel4</td>\n",
       "      <td>1.0 * log(wel4) =   2.477121E+00</td>\n",
       "      <td>regulwel</td>\n",
       "      <td>0.511707</td>\n",
       "    </tr>\n",
       "    <tr>\n",
       "      <th>wel5</th>\n",
       "      <td>wel5</td>\n",
       "      <td>1.0 * log(wel5) =   2.477121E+00</td>\n",
       "      <td>regulwel</td>\n",
       "      <td>0.511707</td>\n",
       "    </tr>\n",
       "    <tr>\n",
       "      <th>wel0</th>\n",
       "      <td>wel0</td>\n",
       "      <td>1.0 * log(wel0) =   2.477121E+00</td>\n",
       "      <td>regulwel</td>\n",
       "      <td>0.511707</td>\n",
       "    </tr>\n",
       "    <tr>\n",
       "      <th>...</th>\n",
       "      <td>...</td>\n",
       "      <td>...</td>\n",
       "      <td>...</td>\n",
       "      <td>...</td>\n",
       "    </tr>\n",
       "    <tr>\n",
       "      <th>rch_i:2_j:2_zone:1.0</th>\n",
       "      <td>rch_i:2_j:2_zone:1.0</td>\n",
       "      <td>1.0 * log(rch_i:2_j:2_zone:1.0) =   0.000000E+00</td>\n",
       "      <td>regulrch0</td>\n",
       "      <td>1.660964</td>\n",
       "    </tr>\n",
       "    <tr>\n",
       "      <th>rch_i:17_j:17_zone:1.0</th>\n",
       "      <td>rch_i:17_j:17_zone:1.0</td>\n",
       "      <td>1.0 * log(rch_i:17_j:17_zone:1.0) =   0.000000E+00</td>\n",
       "      <td>regulrch0</td>\n",
       "      <td>1.660964</td>\n",
       "    </tr>\n",
       "    <tr>\n",
       "      <th>rch_i:7_j:17_zone:1.0</th>\n",
       "      <td>rch_i:7_j:17_zone:1.0</td>\n",
       "      <td>1.0 * log(rch_i:7_j:17_zone:1.0) =   0.000000E+00</td>\n",
       "      <td>regulrch0</td>\n",
       "      <td>1.660964</td>\n",
       "    </tr>\n",
       "    <tr>\n",
       "      <th>rch_i:32_j:2_zone:1.0</th>\n",
       "      <td>rch_i:32_j:2_zone:1.0</td>\n",
       "      <td>1.0 * log(rch_i:32_j:2_zone:1.0) =   0.000000E+00</td>\n",
       "      <td>regulrch0</td>\n",
       "      <td>1.660964</td>\n",
       "    </tr>\n",
       "    <tr>\n",
       "      <th>rch_i:22_j:12_zone:1.0</th>\n",
       "      <td>rch_i:22_j:12_zone:1.0</td>\n",
       "      <td>1.0 * log(rch_i:22_j:12_zone:1.0) =   0.000000E+00</td>\n",
       "      <td>regulrch0</td>\n",
       "      <td>1.660964</td>\n",
       "    </tr>\n",
       "  </tbody>\n",
       "</table>\n",
       "<p>65 rows × 4 columns</p>\n",
       "</div>"
      ],
      "text/plain": [
       "                                         pilbl  \\\n",
       "pilbl                                            \n",
       "strinf                                  strinf   \n",
       "wel2                                      wel2   \n",
       "wel4                                      wel4   \n",
       "wel5                                      wel5   \n",
       "wel0                                      wel0   \n",
       "...                                        ...   \n",
       "rch_i:2_j:2_zone:1.0      rch_i:2_j:2_zone:1.0   \n",
       "rch_i:17_j:17_zone:1.0  rch_i:17_j:17_zone:1.0   \n",
       "rch_i:7_j:17_zone:1.0    rch_i:7_j:17_zone:1.0   \n",
       "rch_i:32_j:2_zone:1.0    rch_i:32_j:2_zone:1.0   \n",
       "rch_i:22_j:12_zone:1.0  rch_i:22_j:12_zone:1.0   \n",
       "\n",
       "                                                                  equation  \\\n",
       "pilbl                                                                        \n",
       "strinf                                  1.0 * log(strinf) =   2.698970E+00   \n",
       "wel2                                      1.0 * log(wel2) =   2.477121E+00   \n",
       "wel4                                      1.0 * log(wel4) =   2.477121E+00   \n",
       "wel5                                      1.0 * log(wel5) =   2.477121E+00   \n",
       "wel0                                      1.0 * log(wel0) =   2.477121E+00   \n",
       "...                                                                    ...   \n",
       "rch_i:2_j:2_zone:1.0      1.0 * log(rch_i:2_j:2_zone:1.0) =   0.000000E+00   \n",
       "rch_i:17_j:17_zone:1.0  1.0 * log(rch_i:17_j:17_zone:1.0) =   0.000000E+00   \n",
       "rch_i:7_j:17_zone:1.0    1.0 * log(rch_i:7_j:17_zone:1.0) =   0.000000E+00   \n",
       "rch_i:32_j:2_zone:1.0    1.0 * log(rch_i:32_j:2_zone:1.0) =   0.000000E+00   \n",
       "rch_i:22_j:12_zone:1.0  1.0 * log(rch_i:22_j:12_zone:1.0) =   0.000000E+00   \n",
       "\n",
       "                             obgnme    weight  \n",
       "pilbl                                          \n",
       "strinf                  regulstrinf  0.500000  \n",
       "wel2                       regulwel  0.511707  \n",
       "wel4                       regulwel  0.511707  \n",
       "wel5                       regulwel  0.511707  \n",
       "wel0                       regulwel  0.511707  \n",
       "...                             ...       ...  \n",
       "rch_i:2_j:2_zone:1.0      regulrch0  1.660964  \n",
       "rch_i:17_j:17_zone:1.0    regulrch0  1.660964  \n",
       "rch_i:7_j:17_zone:1.0     regulrch0  1.660964  \n",
       "rch_i:32_j:2_zone:1.0     regulrch0  1.660964  \n",
       "rch_i:22_j:12_zone:1.0    regulrch0  1.660964  \n",
       "\n",
       "[65 rows x 4 columns]"
      ]
     },
     "execution_count": 7,
     "metadata": {},
     "output_type": "execute_result"
    }
   ],
   "source": [
    "# construct preferred value reguarization equations and use the bounds to calculate the regularization weight\n",
    "pyemu.helpers.zero_order_tikhonov(pst,parbounds=True)\n",
    "# print out the regularization equations that were constructed\n",
    "pst.prior_information"
   ]
  },
  {
   "cell_type": "markdown",
   "metadata": {},
   "source": [
    "Now we are given more strength for keeping recharge near its initial value...good!\n",
    "\n",
    "### So what about preferred difference regularization?  \n",
    "\n",
    "Well `pyemu` can do that too.  Remember that ``Cov``ariance matrix we keep talking about? It expresses the spatial relationship between pilot points (implied by the variogram), so we use to setup these prior information equations.  First we need to make a geostatistical structure to encapsulate the spatial relationships"
   ]
  },
  {
   "cell_type": "code",
   "execution_count": 8,
   "metadata": {
    "execution": {
     "iopub.execute_input": "2022-07-29T08:01:04.693457Z",
     "iopub.status.busy": "2022-07-29T08:01:04.693457Z",
     "iopub.status.idle": "2022-07-29T08:01:05.036903Z",
     "shell.execute_reply": "2022-07-29T08:01:05.035856Z"
    }
   },
   "outputs": [
    {
     "data": {
      "image/png": "[encoded data removed]",
      "text/plain": [
       "<Figure size 432x288 with 1 Axes>"
      ]
     },
     "metadata": {
      "needs_background": "light"
     },
     "output_type": "display_data"
    }
   ],
   "source": [
    "v = pyemu.geostats.ExpVario(contribution=1.0,a=2500.0)\n",
    "gs = pyemu.geostats.GeoStruct(variograms=v,nugget=0.0)\n",
    "ax = gs.plot()\n",
    "ax.grid()\n",
    "ax.set_ylim(0,2.0);"
   ]
  },
  {
   "cell_type": "markdown",
   "metadata": {},
   "source": [
    "Now we need to know where the pilot points are.  We can get this from the pilot point template file:"
   ]
  },
  {
   "cell_type": "code",
   "execution_count": 9,
   "metadata": {
    "execution": {
     "iopub.execute_input": "2022-07-29T08:01:05.043839Z",
     "iopub.status.busy": "2022-07-29T08:01:05.043839Z",
     "iopub.status.idle": "2022-07-29T08:01:05.052965Z",
     "shell.execute_reply": "2022-07-29T08:01:05.051976Z"
    }
   },
   "outputs": [],
   "source": [
    "# make a dataframe called df_pp using pyemu helper and the pilot point template file hkpp.dat.tpl\n",
    "df_pp = pyemu.pp_utils.pp_tpl_to_dataframe(os.path.join(tmp_d,\"hkpp.dat.tpl\"))"
   ]
  },
  {
   "cell_type": "markdown",
   "metadata": {},
   "source": [
    "Now let's build a covariance matrix from the geostatistical structure"
   ]
  },
  {
   "cell_type": "code",
   "execution_count": 10,
   "metadata": {
    "execution": {
     "iopub.execute_input": "2022-07-29T08:01:05.061943Z",
     "iopub.status.busy": "2022-07-29T08:01:05.060938Z",
     "iopub.status.idle": "2022-07-29T08:01:05.084066Z",
     "shell.execute_reply": "2022-07-29T08:01:05.083063Z"
    }
   },
   "outputs": [],
   "source": [
    "# define a covariance matrix called cov using pyemu's geostatistics capabilities\n",
    "cov = gs.covariance_matrix(df_pp.x,df_pp.y,df_pp.parnme)"
   ]
  },
  {
   "cell_type": "code",
   "execution_count": 11,
   "metadata": {
    "execution": {
     "iopub.execute_input": "2022-07-29T08:01:05.088054Z",
     "iopub.status.busy": "2022-07-29T08:01:05.088054Z",
     "iopub.status.idle": "2022-07-29T08:01:05.114265Z",
     "shell.execute_reply": "2022-07-29T08:01:05.113263Z"
    }
   },
   "outputs": [
    {
     "name": "stdout",
     "output_type": "stream",
     "text": [
      "getting CC matrix\n",
      "processing\n"
     ]
    }
   ],
   "source": [
    "# use the pyemu helper to construct preferred difference regularization equations \n",
    "# using the covariance for regularization weight\n",
    "pyemu.helpers.first_order_pearson_tikhonov(pst,cov)"
   ]
  },
  {
   "cell_type": "code",
   "execution_count": 12,
   "metadata": {
    "execution": {
     "iopub.execute_input": "2022-07-29T08:01:05.117289Z",
     "iopub.status.busy": "2022-07-29T08:01:05.116291Z",
     "iopub.status.idle": "2022-07-29T08:01:05.130044Z",
     "shell.execute_reply": "2022-07-29T08:01:05.129043Z"
    }
   },
   "outputs": [
    {
     "data": {
      "text/html": [
       "<div>\n",
       "<style scoped>\n",
       "    .dataframe tbody tr th:only-of-type {\n",
       "        vertical-align: middle;\n",
       "    }\n",
       "\n",
       "    .dataframe tbody tr th {\n",
       "        vertical-align: top;\n",
       "    }\n",
       "\n",
       "    .dataframe thead th {\n",
       "        text-align: right;\n",
       "    }\n",
       "</style>\n",
       "<table border=\"1\" class=\"dataframe\">\n",
       "  <thead>\n",
       "    <tr style=\"text-align: right;\">\n",
       "      <th></th>\n",
       "      <th>pilbl</th>\n",
       "      <th>equation</th>\n",
       "      <th>obgnme</th>\n",
       "      <th>weight</th>\n",
       "    </tr>\n",
       "    <tr>\n",
       "      <th>pilbl</th>\n",
       "      <th></th>\n",
       "      <th></th>\n",
       "      <th></th>\n",
       "      <th></th>\n",
       "    </tr>\n",
       "  </thead>\n",
       "  <tbody>\n",
       "    <tr>\n",
       "      <th>pcc_66</th>\n",
       "      <td>pcc_66</td>\n",
       "      <td>1.0 * log(hk_i:2_j:2_zone:1.0) - 1.0 * log(hk_i:2_j:7_zone:1.0) = 0.0</td>\n",
       "      <td>regul_cc</td>\n",
       "      <td>0.606531</td>\n",
       "    </tr>\n",
       "    <tr>\n",
       "      <th>pcc_67</th>\n",
       "      <td>pcc_67</td>\n",
       "      <td>1.0 * log(hk_i:2_j:2_zone:1.0) - 1.0 * log(hk_i:2_j:12_zone:1.0) = 0.0</td>\n",
       "      <td>regul_cc</td>\n",
       "      <td>0.367879</td>\n",
       "    </tr>\n",
       "    <tr>\n",
       "      <th>pcc_68</th>\n",
       "      <td>pcc_68</td>\n",
       "      <td>1.0 * log(hk_i:2_j:2_zone:1.0) - 1.0 * log(hk_i:2_j:17_zone:1.0) = 0.0</td>\n",
       "      <td>regul_cc</td>\n",
       "      <td>0.223130</td>\n",
       "    </tr>\n",
       "    <tr>\n",
       "      <th>pcc_69</th>\n",
       "      <td>pcc_69</td>\n",
       "      <td>1.0 * log(hk_i:2_j:2_zone:1.0) - 1.0 * log(hk_i:7_j:2_zone:1.0) = 0.0</td>\n",
       "      <td>regul_cc</td>\n",
       "      <td>0.606531</td>\n",
       "    </tr>\n",
       "    <tr>\n",
       "      <th>pcc_70</th>\n",
       "      <td>pcc_70</td>\n",
       "      <td>1.0 * log(hk_i:2_j:2_zone:1.0) - 1.0 * log(hk_i:7_j:7_zone:1.0) = 0.0</td>\n",
       "      <td>regul_cc</td>\n",
       "      <td>0.493069</td>\n",
       "    </tr>\n",
       "    <tr>\n",
       "      <th>...</th>\n",
       "      <td>...</td>\n",
       "      <td>...</td>\n",
       "      <td>...</td>\n",
       "      <td>...</td>\n",
       "    </tr>\n",
       "    <tr>\n",
       "      <th>pcc_467</th>\n",
       "      <td>pcc_467</td>\n",
       "      <td>1.0 * log(hk_i:32_j:17_zone:1.0) - 1.0 * log(hk_i:37_j:12_zone:1.0) = 0.0</td>\n",
       "      <td>regul_cc</td>\n",
       "      <td>0.493069</td>\n",
       "    </tr>\n",
       "    <tr>\n",
       "      <th>pcc_468</th>\n",
       "      <td>pcc_468</td>\n",
       "      <td>1.0 * log(hk_i:32_j:17_zone:1.0) - 1.0 * log(hk_i:37_j:17_zone:1.0) = 0.0</td>\n",
       "      <td>regul_cc</td>\n",
       "      <td>0.606531</td>\n",
       "    </tr>\n",
       "    <tr>\n",
       "      <th>pcc_469</th>\n",
       "      <td>pcc_469</td>\n",
       "      <td>1.0 * log(hk_i:37_j:7_zone:1.0) - 1.0 * log(hk_i:37_j:12_zone:1.0) = 0.0</td>\n",
       "      <td>regul_cc</td>\n",
       "      <td>0.606531</td>\n",
       "    </tr>\n",
       "    <tr>\n",
       "      <th>pcc_470</th>\n",
       "      <td>pcc_470</td>\n",
       "      <td>1.0 * log(hk_i:37_j:7_zone:1.0) - 1.0 * log(hk_i:37_j:17_zone:1.0) = 0.0</td>\n",
       "      <td>regul_cc</td>\n",
       "      <td>0.367879</td>\n",
       "    </tr>\n",
       "    <tr>\n",
       "      <th>pcc_471</th>\n",
       "      <td>pcc_471</td>\n",
       "      <td>1.0 * log(hk_i:37_j:12_zone:1.0) - 1.0 * log(hk_i:37_j:17_zone:1.0) = 0.0</td>\n",
       "      <td>regul_cc</td>\n",
       "      <td>0.606531</td>\n",
       "    </tr>\n",
       "  </tbody>\n",
       "</table>\n",
       "<p>406 rows × 4 columns</p>\n",
       "</div>"
      ],
      "text/plain": [
       "           pilbl  \\\n",
       "pilbl              \n",
       "pcc_66    pcc_66   \n",
       "pcc_67    pcc_67   \n",
       "pcc_68    pcc_68   \n",
       "pcc_69    pcc_69   \n",
       "pcc_70    pcc_70   \n",
       "...          ...   \n",
       "pcc_467  pcc_467   \n",
       "pcc_468  pcc_468   \n",
       "pcc_469  pcc_469   \n",
       "pcc_470  pcc_470   \n",
       "pcc_471  pcc_471   \n",
       "\n",
       "                                                                          equation  \\\n",
       "pilbl                                                                                \n",
       "pcc_66       1.0 * log(hk_i:2_j:2_zone:1.0) - 1.0 * log(hk_i:2_j:7_zone:1.0) = 0.0   \n",
       "pcc_67      1.0 * log(hk_i:2_j:2_zone:1.0) - 1.0 * log(hk_i:2_j:12_zone:1.0) = 0.0   \n",
       "pcc_68      1.0 * log(hk_i:2_j:2_zone:1.0) - 1.0 * log(hk_i:2_j:17_zone:1.0) = 0.0   \n",
       "pcc_69       1.0 * log(hk_i:2_j:2_zone:1.0) - 1.0 * log(hk_i:7_j:2_zone:1.0) = 0.0   \n",
       "pcc_70       1.0 * log(hk_i:2_j:2_zone:1.0) - 1.0 * log(hk_i:7_j:7_zone:1.0) = 0.0   \n",
       "...                                                                            ...   \n",
       "pcc_467  1.0 * log(hk_i:32_j:17_zone:1.0) - 1.0 * log(hk_i:37_j:12_zone:1.0) = 0.0   \n",
       "pcc_468  1.0 * log(hk_i:32_j:17_zone:1.0) - 1.0 * log(hk_i:37_j:17_zone:1.0) = 0.0   \n",
       "pcc_469   1.0 * log(hk_i:37_j:7_zone:1.0) - 1.0 * log(hk_i:37_j:12_zone:1.0) = 0.0   \n",
       "pcc_470   1.0 * log(hk_i:37_j:7_zone:1.0) - 1.0 * log(hk_i:37_j:17_zone:1.0) = 0.0   \n",
       "pcc_471  1.0 * log(hk_i:37_j:12_zone:1.0) - 1.0 * log(hk_i:37_j:17_zone:1.0) = 0.0   \n",
       "\n",
       "           obgnme    weight  \n",
       "pilbl                        \n",
       "pcc_66   regul_cc  0.606531  \n",
       "pcc_67   regul_cc  0.367879  \n",
       "pcc_68   regul_cc  0.223130  \n",
       "pcc_69   regul_cc  0.606531  \n",
       "pcc_70   regul_cc  0.493069  \n",
       "...           ...       ...  \n",
       "pcc_467  regul_cc  0.493069  \n",
       "pcc_468  regul_cc  0.606531  \n",
       "pcc_469  regul_cc  0.606531  \n",
       "pcc_470  regul_cc  0.367879  \n",
       "pcc_471  regul_cc  0.606531  \n",
       "\n",
       "[406 rows x 4 columns]"
      ]
     },
     "execution_count": 12,
     "metadata": {},
     "output_type": "execute_result"
    }
   ],
   "source": [
    "# print the new regularization equations out\n",
    "pst.prior_information"
   ]
  },
  {
   "cell_type": "markdown",
   "metadata": {},
   "source": [
    "What happened?  \n",
    "\n",
    "We replace the preferred value equations with a bunch of new equations.  These equations each include two parameter names and have different weights - can you guess what the weights are?  The weights are the pearson correlation coefficients (CC) between the pilot points (remember those from way back?).  These CC values are calculated from the covariance matrix, which is implied by the geostatistical structure...whew! For example, ``hk00`` is \"close\" to ``hk01``, so they have a high CC value (equation 1).  Just for fun, go back and change the \"a\" parameter in the variogram and see how it changes the CC values.\n",
    "\n",
    "> Handy hint:  you can use both preferred value and preferred difference regularization in the same PEST control file, and even on the same parameter!"
   ]
  },
  {
   "cell_type": "markdown",
   "metadata": {
    "collapsed": true
   },
   "source": [
    "Tikhonov regularization is a go-to tool, and we'll dedicate an entire notebook to applying Tikhonov to our overfit pilot point calibration.  But, before we go let's think of regularization in the broadest context....\n",
    "\n",
    "Recall that regularization refers to any approach that makes an illposed/underdetermined parameter estimation problem solvable.  \n",
    "\n",
    "Therefore, when you manually reduce the number of parameters such as zones you are doing a type of regularization.  \n",
    "\n"
   ]
  }
 ],
 "metadata": {
  "anaconda-cloud": {},
  "kernelspec": {
   "display_name": "Python 3.10.4 ('model')",
   "language": "python",
   "name": "python3"
  },
  "language_info": {
   "codemirror_mode": {
    "name": "ipython",
    "version": 3
   },
   "file_extension": ".py",
   "mimetype": "text/x-python",
   "name": "python",
   "nbconvert_exporter": "python",
   "pygments_lexer": "ipython3",
   "version": "3.10.4"
  },
  "vscode": {
   "interpreter": {
    "hash": "3f6547fd8d3d5a80dd8cfcb09cb19a075194db08edb65a6300dd5f19e416348d"
   }
  }
 },
 "nbformat": 4,
 "nbformat_minor": 1
}
