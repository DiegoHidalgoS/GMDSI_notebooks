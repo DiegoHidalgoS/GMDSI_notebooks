{
 "cells": [
  {
   "cell_type": "markdown",
   "id": "b395244a",
   "metadata": {},
   "source": [
    "# PESTPP-IES - History Matching For \"Nothing\", Uncertainty Analysis for Free\n",
    "\n",
    "It is very common to want to restart PESTPP-IES using existing results.  The most common reason is to evaluate the prior parameter ensemble - that is, to run the prior through the model and check the simulated results for coherence and common sense.  Once you are happy with (or not completely unhappy with) the prior results, you might then want to try a small number of iterations with PESTPP-IES.  If your model runs fast, then you can just fire off PESTPP-IES again just as before but with `noptmax` greater than 0.  But if your model takes a while, it can be costly to re-run the prior parameter ensemble again.  In this case, you can easily restart PESTPP-IES with the existing ensemble files.  In this notebook, we will demonstrate this workflow.  We note that while we will focus on restarting with the prior ensemble results, PESTPP-IES can be restarted from any previous PESTPP-IES result files\n"
   ]
  },
  {
   "cell_type": "markdown",
   "id": "bbf53f4c",
   "metadata": {},
   "source": [
    "### Admin\n",
    "\n",
    "The modified Freyberg model is introduced in another tutorial notebook (see \"freyberg intro to model\"). The current notebook picks up following the \"freyberg observation and weights\" notebook, in which a high-dimensional PEST dataset was constructed using `pyemu.PstFrom`. You may also wish to go through the \"intro to pyemu\" notebook beforehand.\n",
    "\n",
    "The next couple of cells load necessary dependencies and call a convenience function to prepare the PEST dataset folder for you. Simply press `shift+enter` to run the cells."
   ]
  },
  {
   "cell_type": "code",
   "execution_count": null,
   "id": "22f1bbdc",
   "metadata": {},
   "outputs": [],
   "source": [
    "import os\n",
    "import shutil\n",
    "import warnings\n",
    "warnings.filterwarnings(\"ignore\")\n",
    "warnings.filterwarnings(\"ignore\", category=DeprecationWarning) \n",
    "import pandas as pd\n",
    "import numpy as np\n",
    "import matplotlib.pyplot as plt;\n",
    "import psutil\n",
    "\n",
    "import sys\n",
    "sys.path.insert(0,os.path.join(\"..\", \"..\", \"dependencies\"))\n",
    "import pyemu\n",
    "import flopy\n",
    "assert \"dependencies\" in flopy.__file__\n",
    "assert \"dependencies\" in pyemu.__file__\n",
    "sys.path.insert(0,\"..\")\n",
    "import herebedragons as hbd\n"
   ]
  },
  {
   "cell_type": "code",
   "execution_count": null,
   "id": "6d7db973",
   "metadata": {},
   "outputs": [],
   "source": [
    "# specify the temporary working folder\n",
    "t_d = os.path.join('freyberg6_template')\n",
    "# get the previously generated PEST dataset\n",
    "org_t_d = os.path.join(\"..\",\"part2_02_obs_and_weights\",\"freyberg6_template\")\n",
    "if not os.path.exists(org_t_d):\n",
    "    raise Exception(\"you need to run the '/part2_02_obs_and_weights/freyberg_obs_and_weights.ipynb' notebook\")\n",
    "if os.path.exists(t_d):\n",
    "    shutil.rmtree(t_d)\n",
    "shutil.copytree(org_t_d,t_d)"
   ]
  },
  {
   "cell_type": "markdown",
   "id": "b6c88109",
   "metadata": {},
   "source": [
    "## Preparing for PESTPP-IES\n",
    "\n",
    "Just as before:"
   ]
  },
  {
   "cell_type": "code",
   "execution_count": null,
   "id": "33565d13",
   "metadata": {},
   "outputs": [],
   "source": [
    "pst_path = os.path.join(t_d, 'freyberg_mf6.pst')\n",
    "pst = pyemu.Pst(pst_path)"
   ]
  },
  {
   "cell_type": "code",
   "execution_count": null,
   "id": "8003cead",
   "metadata": {},
   "outputs": [],
   "source": [
    "# check to see if obs&weights notebook has been run\n",
    "if not pst.observation_data.observed.sum()>0:\n",
    "    raise Exception(\"You need to run the '/part2_02_obs_and_weights/freyberg_obs_and_weights.ipynb' notebook\")"
   ]
  },
  {
   "cell_type": "code",
   "execution_count": null,
   "id": "6cd00f26",
   "metadata": {},
   "outputs": [],
   "source": [
    "pst.pestpp_options"
   ]
  },
  {
   "cell_type": "code",
   "execution_count": null,
   "id": "66288360",
   "metadata": {},
   "outputs": [],
   "source": [
    "pst.pestpp_options[\"ies_num_reals\"] = 50\n",
    "pst.pestpp_options['ies_parameter_ensemble'] = 'prior_pe.jcb'\n",
    "pst.control_data.noptmax = -1 #run the prior parameter ensemble and quit\n",
    "pst.pestpp_options[\"ies_bad_phi_sigma\"] = 2.0 #middle ground value\n",
    "pst.write(os.path.join(t_d, 'freyberg_mf6.pst'))"
   ]
  },
  {
   "cell_type": "code",
   "execution_count": null,
   "id": "708f70f9",
   "metadata": {},
   "outputs": [],
   "source": [
    "psutil.cpu_count(logical=False)"
   ]
  },
  {
   "cell_type": "code",
   "execution_count": null,
   "id": "a44d0949",
   "metadata": {},
   "outputs": [],
   "source": [
    "num_workers = 8 #update this according to your resources"
   ]
  },
  {
   "cell_type": "code",
   "execution_count": null,
   "id": "eb88dcdc",
   "metadata": {},
   "outputs": [],
   "source": [
    "m_d = os.path.join('master_ies_prior')"
   ]
  },
  {
   "cell_type": "code",
   "execution_count": null,
   "id": "b6de3c11",
   "metadata": {},
   "outputs": [],
   "source": [
    "pyemu.os_utils.start_workers(t_d, # the folder which contains the \"template\" PEST dataset\n",
    "                            'pestpp-ies', #the PEST software version we want to run\n",
    "                            'freyberg_mf6.pst', # the control file to use with PEST\n",
    "                            num_workers=num_workers, #how many agents to deploy\n",
    "                            worker_root='.', #where to deploy the agent directories; relative to where python is running\n",
    "                            master_dir=m_d, #the manager directory\n",
    "                            )"
   ]
  },
  {
   "cell_type": "markdown",
   "id": "e1683246",
   "metadata": {},
   "source": [
    "### How to restart PESTPP-IES\n",
    "\n",
    "PESTPP-IES can be restarted easily by supplying the following files for a previous PESTPP-IES run:\n",
    " - parameter ensemble (iteration specific), option name: `ies_parameter_ensemble`\n",
    " - obs+noise ensemble, option name `ies_observation_ensemble`\n",
    " - simulated output ensemble (iteration specific), option name: `ies_restart_observation_ensemble`\n",
    " \n",
    "The parameter ensemble and simulated output ensembles must be from the same iteration but PESTPP-IES has no way of knowing this, so its up to you not to mess this up!  In the current example, we want to restart with the prior ensemble results, so the files we seek are \"<case_name>.0.par.csv\" and \"<case>.0.obs.csv\" for the parameter and simulated ensemble files respectively (note that if you are using binary formats, the files would end with \".jcb\" instead of \".csv\").  \n",
    "    \n",
    "The obs+noise ensemble is written during the initialization PESTPP-IES and does not change over a PESTPP-IES run. Its name is always \"<case_name>.obs+noise.csv\" (or \".jcb\").  \n",
    "    \n",
    "So!  To restart PESTPP-IES, we just need to add/modify these 3 options aaaaannnndddd WHAMMY! you jump straight to upgrade calculations...\n",
    "    \n",
    "...not so fast - these files exist in the master directory (in this example, \"master_ies_prior\" and we need to get them into the template directory - #pathing.  And there is a very important point here: \n",
    "    \n",
    "#### IF YOU DONT CHANGE THE NAME OF THE RESTARTING FILES OR THE PEST CONTROL FILE, THEN THE RESTARTING FILES WILL BE OVERWRITTEN THE NEXT TIME YOU RUN PESTPP-IES!!!  \n",
    "    \n",
    "The best practice here is to just rename the restarting files for safe keeping..."
   ]
  },
  {
   "cell_type": "code",
   "execution_count": null,
   "id": "1f32243b",
   "metadata": {},
   "outputs": [],
   "source": [
    "for filename,argname in zip([\"freyberg_mf6.0.par.csv\",\"freyberg_mf6.0.obs.csv\",\"freyberg_mf6.obs+noise.csv\"],\n",
    "                            [\"ies_parameter_ensemble\",\"ies_restart_observation_ensemble\",\"ies_observation_ensemble\"]):\n",
    "\n",
    "    # a simple renaming scheme\n",
    "    renamed_filename = \"restart_\"+filename\n",
    "    # copy the original restart file from the prior master dir to the renamed filename in the template dir\n",
    "    shutil.copy2(os.path.join(m_d,filename),os.path.join(t_d,renamed_filename))\n",
    "    #modify/set the pestpp option\n",
    "    pst.pestpp_options[argname] = renamed_filename"
   ]
  },
  {
   "cell_type": "code",
   "execution_count": null,
   "id": "75f2912f",
   "metadata": {},
   "outputs": [],
   "source": [
    "pst.pestpp_options"
   ]
  },
  {
   "cell_type": "markdown",
   "id": "2fc740eb",
   "metadata": {},
   "source": [
    "Ok, should be G2G..."
   ]
  },
  {
   "cell_type": "code",
   "execution_count": null,
   "id": "dff88fa6",
   "metadata": {},
   "outputs": [],
   "source": [
    "pst.write(os.path.join(t_d,\"freyberg_mf6.pst\"),version=2)\n",
    "pyemu.os_utils.run(\"pestpp-ies freyberg_mf6.pst\",cwd=t_d)"
   ]
  },
  {
   "cell_type": "markdown",
   "id": "f2626156",
   "metadata": {},
   "source": [
    "Huh?!  What happened there?  \n",
    "\n",
    "Well since we didnt change `noptmax` from -1, PESTPP-IES just initialized the same as it ever would: it loaded the existing ensemble files, made an initial phi report and quit.  Actually this is a simple and efficient check to see that all the mechanics are setup as you intended.  Ok, for reals now:"
   ]
  },
  {
   "cell_type": "code",
   "execution_count": null,
   "id": "ae4c2b50",
   "metadata": {},
   "outputs": [],
   "source": [
    "pst.control_data.noptmax = 3\n",
    "pst.write(os.path.join(t_d,\"freyberg_mf6.pst\"),version=2)"
   ]
  },
  {
   "cell_type": "code",
   "execution_count": null,
   "id": "df4f3df1",
   "metadata": {},
   "outputs": [],
   "source": [
    "m_d = os.path.join('master_ies_restart')"
   ]
  },
  {
   "cell_type": "code",
   "execution_count": null,
   "id": "c5b99054",
   "metadata": {},
   "outputs": [],
   "source": [
    "pyemu.os_utils.start_workers(t_d, # the folder which contains the \"template\" PEST dataset\n",
    "                            'pestpp-ies', #the PEST software version we want to run\n",
    "                            'freyberg_mf6.pst', # the control file to use with PEST\n",
    "                            num_workers=num_workers, #how many agents to deploy\n",
    "                            worker_root='.', #where to deploy the agent directories; relative to where python is running\n",
    "                            master_dir=m_d, #the manager directory\n",
    "                            )"
   ]
  },
  {
   "cell_type": "code",
   "execution_count": null,
   "id": "40557818",
   "metadata": {},
   "outputs": [],
   "source": []
  }
 ],
 "metadata": {
  "language_info": {
   "name": "python"
  }
 },
 "nbformat": 4,
 "nbformat_minor": 5
}
