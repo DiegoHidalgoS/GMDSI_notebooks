{
 "cells": [
  {
   "cell_type": "markdown",
   "metadata": {},
   "source": [
    "# Pilot Points Setup\n",
    "\n",
    "Up until this point we have been calibrating the Freyberg model with only two parameters (`hk1` and `rch0`). These parameters' values are applied to the entire model domain, not accounting for potential spatial heterogeneity. This is a pretty coarse parameterisation approach.\n",
    "\n",
    "In the past (i.e. the dark ages), parameter spatial characterization was often implemented using zones of piece-wise constant values. Such parameterisation schemes were often subjective, inflexible and provide coarse representations of how physical properties vary in space. Parameterisation schemes that rely solely on zones should be treated with caution and/or an understanding of the inherent structural error which they bring with them. We will not be using zone-based approaches in these tutorials.\n",
    "\n",
    "Methods of spatial parameterisation based on pilot points reduce these issues. With pilot point based parameterisation, parameter values are assigned to a set of points throughout the model domain rather than the model grid directly. Property values are then assigned to the model grid through spatial interpolation from pilot points. This results in a smooth spatially varying property field. \n",
    "\n",
    "This introduces the need for a model pre-processor that handles interpolation from pilot points to the model grid (and assigns values to model input files). The PLPROC suite of software is one option. `pyEMU` includes python-based alternatives.\n",
    "\n",
    "In this notebook we will employ pilot points to parameterize hydraulic conductivity in the Freyberg model discussed in previous tutorials. Here, we will be adding pilot points to an existing pest setup. This may be usefull in some cases, specially when dealing with legacy models. However, it may be a non-standard workflow.  The approach demonstrated in this notebook is __not__ the recommended approach to construct a highly-parameterized PEST setup with `pyEMU`. We are using it here simply to maintain a coherent narative throughout the `Part1` tutorial notebooks. See `Part2` of the GMDSI Notebooks for a tutorial on `pyemu.PstFrom` instead. \n",
    " \n",
    "### Admin\n",
    "We have provided some pre-cooked PEST dataset files, wraped around the modified Freyberg model. This is the same dataset introduced in the \"freyberg_pest_setup\" and subsequent notebooks. \n",
    "\n",
    "The functions in the next cell import required dependencies and prepare a folder for you. This folder contains the model files and a preliminary PEST setup. Run the cells, then inspect the new folder named \"freyberg_mf6\" which has been created in your tutorial directory. (Just press `shift+enter` to run the cells). "
   ]
  },
  {
   "cell_type": "code",
   "execution_count": 1,
   "metadata": {
    "execution": {
     "iopub.execute_input": "2022-07-29T08:00:30.707335Z",
     "iopub.status.busy": "2022-07-29T08:00:30.707335Z",
     "iopub.status.idle": "2022-07-29T08:00:32.615562Z",
     "shell.execute_reply": "2022-07-29T08:00:32.614619Z"
    }
   },
   "outputs": [],
   "source": [
    "import sys\n",
    "import os\n",
    "import warnings\n",
    "warnings.filterwarnings(\"ignore\")\n",
    "warnings.filterwarnings(\"ignore\", category=DeprecationWarning) \n",
    "\n",
    "import pandas as pd\n",
    "import numpy as np\n",
    "import matplotlib.pyplot as plt;\n",
    "\n",
    "import shutil\n",
    "\n",
    "sys.path.insert(0,os.path.join(\"..\", \"..\", \"dependencies\"))\n",
    "import pyemu\n",
    "import flopy\n",
    "assert \"dependencies\" in flopy.__file__\n",
    "assert \"dependencies\" in pyemu.__file__\n",
    "sys.path.insert(0,\"..\")\n",
    "import herebedragons as hbd\n",
    "\n",
    "plt.rcParams['font.size'] = 10\n",
    "pyemu.plot_utils.font =10"
   ]
  },
  {
   "cell_type": "code",
   "execution_count": 2,
   "metadata": {
    "execution": {
     "iopub.execute_input": "2022-07-29T08:00:32.622556Z",
     "iopub.status.busy": "2022-07-29T08:00:32.621584Z",
     "iopub.status.idle": "2022-07-29T08:00:35.309570Z",
     "shell.execute_reply": "2022-07-29T08:00:35.308548Z"
    }
   },
   "outputs": [
    {
     "name": "stdout",
     "output_type": "stream",
     "text": [
      "ins file for heads.csv prepared.\n",
      "ins file for sfr.csv prepared.\n",
      "noptmax:0, npar_adj:1, nnz_obs:24\n",
      "written pest control file: freyberg_mf6\\freyberg.pst\n"
     ]
    },
    {
     "data": {
      "text/plain": [
       "<pyemu.pst.pst_handler.Pst at 0x1c257feea60>"
      ]
     },
     "execution_count": 2,
     "metadata": {},
     "output_type": "execute_result"
    }
   ],
   "source": [
    "# folder containing original model files\n",
    "org_d = os.path.join('..', '..', 'models', 'monthly_model_files_1lyr_newstress')\n",
    "# a dir to hold a copy of the org model files\n",
    "tmp_d = os.path.join('freyberg_mf6')\n",
    "if os.path.exists(tmp_d):\n",
    "    shutil.rmtree(tmp_d)\n",
    "shutil.copytree(org_d,tmp_d)\n",
    "# get executables\n",
    "hbd.prep_bins(tmp_d)\n",
    "# get dependency folders\n",
    "hbd.prep_deps(tmp_d)\n",
    "# run our convenience functions to prepare the PEST and model folder\n",
    "hbd.prep_pest(tmp_d)"
   ]
  },
  {
   "cell_type": "markdown",
   "metadata": {},
   "source": [
    "Load the PEST control file:"
   ]
  },
  {
   "cell_type": "code",
   "execution_count": 3,
   "metadata": {
    "execution": {
     "iopub.execute_input": "2022-07-29T08:00:35.313573Z",
     "iopub.status.busy": "2022-07-29T08:00:35.312574Z",
     "iopub.status.idle": "2022-07-29T08:00:35.373880Z",
     "shell.execute_reply": "2022-07-29T08:00:35.372878Z"
    }
   },
   "outputs": [],
   "source": [
    "pst = pyemu.Pst(os.path.join(tmp_d,'freyberg.pst'))"
   ]
  },
  {
   "cell_type": "markdown",
   "metadata": {},
   "source": [
    "Before we get started, just run PEST++ to repeat the last tutorial. We do this to have access to files for comparison.\n",
    "\n",
    "As we did in the last tutorial, set `rch0` parameter transform to `log`:"
   ]
  },
  {
   "cell_type": "code",
   "execution_count": 4,
   "metadata": {
    "execution": {
     "iopub.execute_input": "2022-07-29T08:00:35.376870Z",
     "iopub.status.busy": "2022-07-29T08:00:35.376870Z",
     "iopub.status.idle": "2022-07-29T08:00:35.389162Z",
     "shell.execute_reply": "2022-07-29T08:00:35.389162Z"
    }
   },
   "outputs": [],
   "source": [
    "#update paramter transform\n",
    "par = pst.parameter_data\n",
    "par.loc['rch0', 'partrans'] = 'log'"
   ]
  },
  {
   "cell_type": "markdown",
   "metadata": {},
   "source": [
    "Assign weights to the `gage-1` observations during the calibration period:"
   ]
  },
  {
   "cell_type": "code",
   "execution_count": 5,
   "metadata": {
    "execution": {
     "iopub.execute_input": "2022-07-29T08:00:35.393155Z",
     "iopub.status.busy": "2022-07-29T08:00:35.393155Z",
     "iopub.status.idle": "2022-07-29T08:00:35.405685Z",
     "shell.execute_reply": "2022-07-29T08:00:35.404685Z"
    }
   },
   "outputs": [],
   "source": [
    "obs = pst.observation_data\n",
    "obs.loc[(obs.obgnme==\"gage-1\") & (obs['gage-1'].astype(float)<=3804.5), \"weight\"] = 0.05"
   ]
  },
  {
   "cell_type": "markdown",
   "metadata": {},
   "source": [
    "## Add pilot points\n",
    "\n",
    "OK, we currently have the model and PEST(++) setup introduced in the \"freyberg k, r and fluxobs\" tutorial. We have non-zero weighted head and flux target observations. We have `hk1` and `rch0` (hydraulic conductivity and recharge during the calibration period) set as adjustable parameters.\n",
    "\n",
    "We will now setup pilot points as a parameterisation device for hydraulic conductivity. There are multiple approaches to implementing pilot points with PEST++. In this class, we will use some kick-ass `pyemu` sweetness.\n",
    "\n",
    "The followng section relies on the use of `flopy`. Functionalitly for setting up pilot points in `pyemu` is limited to MODFLOW models. If you are using other groundwater modelling software, you will need to construct them yourself or check whether it is supported by PLPROC."
   ]
  },
  {
   "cell_type": "markdown",
   "metadata": {},
   "source": [
    "Start by loading the model using `flopy`."
   ]
  },
  {
   "cell_type": "code",
   "execution_count": 6,
   "metadata": {
    "execution": {
     "iopub.execute_input": "2022-07-29T08:00:35.409674Z",
     "iopub.status.busy": "2022-07-29T08:00:35.408677Z",
     "iopub.status.idle": "2022-07-29T08:00:35.531597Z",
     "shell.execute_reply": "2022-07-29T08:00:35.531597Z"
    }
   },
   "outputs": [],
   "source": [
    "sim = flopy.mf6.MFSimulation.load(sim_ws=tmp_d, verbosity_level=0) #modflow.Modflow.load(fs.MODEL_NAM,model_ws=working_dir,load_only=[])\n",
    "gwf= sim.get_model()\n"
   ]
  },
  {
   "cell_type": "markdown",
   "metadata": {},
   "source": [
    "### Set up zones for where pilot points will be interpolated\n",
    "\n",
    "We can have pilot point networks in multiple zones. In this case, we will make a simple zone file using `IDOMAIN` such that all active cells are in the same interpolation zone."
   ]
  },
  {
   "cell_type": "code",
   "execution_count": 7,
   "metadata": {
    "execution": {
     "iopub.execute_input": "2022-07-29T08:00:35.535590Z",
     "iopub.status.busy": "2022-07-29T08:00:35.535590Z",
     "iopub.status.idle": "2022-07-29T08:00:35.547890Z",
     "shell.execute_reply": "2022-07-29T08:00:35.546993Z"
    }
   },
   "outputs": [],
   "source": [
    "ibound=gwf.dis.idomain.get_data()"
   ]
  },
  {
   "cell_type": "markdown",
   "metadata": {},
   "source": [
    "### Get the model spatial reference\n",
    "\n",
    "We need to get information on the model grid so that `pyemu` can set up interpolation from pilot points to the model cells:"
   ]
  },
  {
   "cell_type": "code",
   "execution_count": 8,
   "metadata": {
    "execution": {
     "iopub.execute_input": "2022-07-29T08:00:35.550917Z",
     "iopub.status.busy": "2022-07-29T08:00:35.550917Z",
     "iopub.status.idle": "2022-07-29T08:00:35.563858Z",
     "shell.execute_reply": "2022-07-29T08:00:35.562810Z"
    }
   },
   "outputs": [
    {
     "name": "stdout",
     "output_type": "stream",
     "text": [
      "   could not remove start_datetime\n"
     ]
    }
   ],
   "source": [
    "sr = pyemu.helpers.SpatialReference.from_namfile(\n",
    "        os.path.join(tmp_d, \"freyberg6.nam\"),\n",
    "        delr=gwf.dis.delr.array, delc=gwf.dis.delc.array)"
   ]
  },
  {
   "cell_type": "markdown",
   "metadata": {},
   "source": [
    "We are going to use a `pyemu` helper function to setup pilot points are cell centers for active cells:"
   ]
  },
  {
   "cell_type": "code",
   "execution_count": 9,
   "metadata": {
    "execution": {
     "iopub.execute_input": "2022-07-29T08:00:35.567835Z",
     "iopub.status.busy": "2022-07-29T08:00:35.566803Z",
     "iopub.status.idle": "2022-07-29T08:00:35.626698Z",
     "shell.execute_reply": "2022-07-29T08:00:35.625696Z"
    }
   },
   "outputs": [],
   "source": [
    "# we want hk pilot points in the top layer...\n",
    "prefix_dict = {0:[\"hk\"]} \n",
    "df_pp = pyemu.pp_utils.setup_pilotpoints_grid(sr=sr,  # model spatial reference\n",
    "                                              ibound=ibound, # to which cells to setup ppoints\n",
    "                                              prefix_dict=prefix_dict, #prefix to add to parameter names\n",
    "                                              pp_dir=tmp_d, \n",
    "                                              tpl_dir=tmp_d, \n",
    "                                              every_n_cell=5) # pilot point spacing\n",
    "pp_file = os.path.join(tmp_d,\"hkpp.dat\")\n",
    "assert os.path.exists(pp_file)"
   ]
  },
  {
   "cell_type": "markdown",
   "metadata": {},
   "source": [
    "Let's look at ``df_pp`` - it has a lot of useful info. As you can see, `pyemu` has associated pilot points, to their coordinates, zone and (what will become) parameter data as well as an associated `*.tpl` file. "
   ]
  },
  {
   "cell_type": "code",
   "execution_count": 10,
   "metadata": {
    "execution": {
     "iopub.execute_input": "2022-07-29T08:00:35.629689Z",
     "iopub.status.busy": "2022-07-29T08:00:35.629689Z",
     "iopub.status.idle": "2022-07-29T08:00:35.658061Z",
     "shell.execute_reply": "2022-07-29T08:00:35.657025Z"
    }
   },
   "outputs": [
    {
     "data": {
      "text/html": [
       "<div>\n",
       "<style scoped>\n",
       "    .dataframe tbody tr th:only-of-type {\n",
       "        vertical-align: middle;\n",
       "    }\n",
       "\n",
       "    .dataframe tbody tr th {\n",
       "        vertical-align: top;\n",
       "    }\n",
       "\n",
       "    .dataframe thead th {\n",
       "        text-align: right;\n",
       "    }\n",
       "</style>\n",
       "<table border=\"1\" class=\"dataframe\">\n",
       "  <thead>\n",
       "    <tr style=\"text-align: right;\">\n",
       "      <th></th>\n",
       "      <th>name</th>\n",
       "      <th>x</th>\n",
       "      <th>y</th>\n",
       "      <th>zone</th>\n",
       "      <th>parval1</th>\n",
       "      <th>k</th>\n",
       "      <th>i</th>\n",
       "      <th>j</th>\n",
       "      <th>parnme</th>\n",
       "      <th>tpl</th>\n",
       "      <th>tpl_filename</th>\n",
       "      <th>pp_filename</th>\n",
       "      <th>pargp</th>\n",
       "      <th>partrans</th>\n",
       "      <th>parchglim</th>\n",
       "      <th>parlbnd</th>\n",
       "      <th>parubnd</th>\n",
       "      <th>scale</th>\n",
       "      <th>offset</th>\n",
       "      <th>dercom</th>\n",
       "    </tr>\n",
       "  </thead>\n",
       "  <tbody>\n",
       "    <tr>\n",
       "      <th>0</th>\n",
       "      <td>pp_0000</td>\n",
       "      <td>625.0</td>\n",
       "      <td>9375.0</td>\n",
       "      <td>1.0</td>\n",
       "      <td>1.0</td>\n",
       "      <td>0</td>\n",
       "      <td>2</td>\n",
       "      <td>2</td>\n",
       "      <td>hk_i:2_j:2_zone:1.0</td>\n",
       "      <td>~    hk_i:2_j:2_zone:1.0    ~</td>\n",
       "      <td>freyberg_mf6\\hkpp.dat.tpl</td>\n",
       "      <td>freyberg_mf6\\hkpp.dat</td>\n",
       "      <td>hk</td>\n",
       "      <td>log</td>\n",
       "      <td>factor</td>\n",
       "      <td>1.100000e-10</td>\n",
       "      <td>1.100000e+10</td>\n",
       "      <td>1.0</td>\n",
       "      <td>0.0</td>\n",
       "      <td>1</td>\n",
       "    </tr>\n",
       "    <tr>\n",
       "      <th>1</th>\n",
       "      <td>pp_0001</td>\n",
       "      <td>1875.0</td>\n",
       "      <td>9375.0</td>\n",
       "      <td>1.0</td>\n",
       "      <td>1.0</td>\n",
       "      <td>0</td>\n",
       "      <td>2</td>\n",
       "      <td>7</td>\n",
       "      <td>hk_i:2_j:7_zone:1.0</td>\n",
       "      <td>~    hk_i:2_j:7_zone:1.0    ~</td>\n",
       "      <td>freyberg_mf6\\hkpp.dat.tpl</td>\n",
       "      <td>freyberg_mf6\\hkpp.dat</td>\n",
       "      <td>hk</td>\n",
       "      <td>log</td>\n",
       "      <td>factor</td>\n",
       "      <td>1.100000e-10</td>\n",
       "      <td>1.100000e+10</td>\n",
       "      <td>1.0</td>\n",
       "      <td>0.0</td>\n",
       "      <td>1</td>\n",
       "    </tr>\n",
       "    <tr>\n",
       "      <th>2</th>\n",
       "      <td>pp_0002</td>\n",
       "      <td>3125.0</td>\n",
       "      <td>9375.0</td>\n",
       "      <td>1.0</td>\n",
       "      <td>1.0</td>\n",
       "      <td>0</td>\n",
       "      <td>2</td>\n",
       "      <td>12</td>\n",
       "      <td>hk_i:2_j:12_zone:1.0</td>\n",
       "      <td>~    hk_i:2_j:12_zone:1.0    ~</td>\n",
       "      <td>freyberg_mf6\\hkpp.dat.tpl</td>\n",
       "      <td>freyberg_mf6\\hkpp.dat</td>\n",
       "      <td>hk</td>\n",
       "      <td>log</td>\n",
       "      <td>factor</td>\n",
       "      <td>1.100000e-10</td>\n",
       "      <td>1.100000e+10</td>\n",
       "      <td>1.0</td>\n",
       "      <td>0.0</td>\n",
       "      <td>1</td>\n",
       "    </tr>\n",
       "    <tr>\n",
       "      <th>3</th>\n",
       "      <td>pp_0003</td>\n",
       "      <td>4375.0</td>\n",
       "      <td>9375.0</td>\n",
       "      <td>1.0</td>\n",
       "      <td>1.0</td>\n",
       "      <td>0</td>\n",
       "      <td>2</td>\n",
       "      <td>17</td>\n",
       "      <td>hk_i:2_j:17_zone:1.0</td>\n",
       "      <td>~    hk_i:2_j:17_zone:1.0    ~</td>\n",
       "      <td>freyberg_mf6\\hkpp.dat.tpl</td>\n",
       "      <td>freyberg_mf6\\hkpp.dat</td>\n",
       "      <td>hk</td>\n",
       "      <td>log</td>\n",
       "      <td>factor</td>\n",
       "      <td>1.100000e-10</td>\n",
       "      <td>1.100000e+10</td>\n",
       "      <td>1.0</td>\n",
       "      <td>0.0</td>\n",
       "      <td>1</td>\n",
       "    </tr>\n",
       "    <tr>\n",
       "      <th>4</th>\n",
       "      <td>pp_0004</td>\n",
       "      <td>625.0</td>\n",
       "      <td>8125.0</td>\n",
       "      <td>1.0</td>\n",
       "      <td>1.0</td>\n",
       "      <td>0</td>\n",
       "      <td>7</td>\n",
       "      <td>2</td>\n",
       "      <td>hk_i:7_j:2_zone:1.0</td>\n",
       "      <td>~    hk_i:7_j:2_zone:1.0    ~</td>\n",
       "      <td>freyberg_mf6\\hkpp.dat.tpl</td>\n",
       "      <td>freyberg_mf6\\hkpp.dat</td>\n",
       "      <td>hk</td>\n",
       "      <td>log</td>\n",
       "      <td>factor</td>\n",
       "      <td>1.100000e-10</td>\n",
       "      <td>1.100000e+10</td>\n",
       "      <td>1.0</td>\n",
       "      <td>0.0</td>\n",
       "      <td>1</td>\n",
       "    </tr>\n",
       "  </tbody>\n",
       "</table>\n",
       "</div>"
      ],
      "text/plain": [
       "      name       x       y  zone  parval1  k  i   j                parnme  \\\n",
       "0  pp_0000   625.0  9375.0   1.0      1.0  0  2   2   hk_i:2_j:2_zone:1.0   \n",
       "1  pp_0001  1875.0  9375.0   1.0      1.0  0  2   7   hk_i:2_j:7_zone:1.0   \n",
       "2  pp_0002  3125.0  9375.0   1.0      1.0  0  2  12  hk_i:2_j:12_zone:1.0   \n",
       "3  pp_0003  4375.0  9375.0   1.0      1.0  0  2  17  hk_i:2_j:17_zone:1.0   \n",
       "4  pp_0004   625.0  8125.0   1.0      1.0  0  7   2   hk_i:7_j:2_zone:1.0   \n",
       "\n",
       "                              tpl               tpl_filename  \\\n",
       "0   ~    hk_i:2_j:2_zone:1.0    ~  freyberg_mf6\\hkpp.dat.tpl   \n",
       "1   ~    hk_i:2_j:7_zone:1.0    ~  freyberg_mf6\\hkpp.dat.tpl   \n",
       "2  ~    hk_i:2_j:12_zone:1.0    ~  freyberg_mf6\\hkpp.dat.tpl   \n",
       "3  ~    hk_i:2_j:17_zone:1.0    ~  freyberg_mf6\\hkpp.dat.tpl   \n",
       "4   ~    hk_i:7_j:2_zone:1.0    ~  freyberg_mf6\\hkpp.dat.tpl   \n",
       "\n",
       "             pp_filename pargp partrans parchglim       parlbnd       parubnd  \\\n",
       "0  freyberg_mf6\\hkpp.dat    hk      log    factor  1.100000e-10  1.100000e+10   \n",
       "1  freyberg_mf6\\hkpp.dat    hk      log    factor  1.100000e-10  1.100000e+10   \n",
       "2  freyberg_mf6\\hkpp.dat    hk      log    factor  1.100000e-10  1.100000e+10   \n",
       "3  freyberg_mf6\\hkpp.dat    hk      log    factor  1.100000e-10  1.100000e+10   \n",
       "4  freyberg_mf6\\hkpp.dat    hk      log    factor  1.100000e-10  1.100000e+10   \n",
       "\n",
       "   scale  offset  dercom  \n",
       "0    1.0     0.0       1  \n",
       "1    1.0     0.0       1  \n",
       "2    1.0     0.0       1  \n",
       "3    1.0     0.0       1  \n",
       "4    1.0     0.0       1  "
      ]
     },
     "execution_count": 10,
     "metadata": {},
     "output_type": "execute_result"
    }
   ],
   "source": [
    "df_pp.head()"
   ]
  },
  {
   "cell_type": "markdown",
   "metadata": {},
   "source": [
    "So cool, we now defined pilot points as a set of spatially distributed parameters...but how do go from pilot points to the model input HK array? Answer: geostatistics.  \n",
    "\n",
    "We need to calculate the geostatistical factors (weights) used to form the interpolated value for the HK value at each model cell - its a spatially-weighted combination of pilot point values"
   ]
  },
  {
   "cell_type": "markdown",
   "metadata": {},
   "source": [
    "### Kriging factors and regularization inputs\n",
    "Following the guidelines in _Approaches to Highly Parameterized Inversion: Pilot-Point Theory, Guidelines, and Research Directions_ https://pubs.usgs.gov/sir/2010/5168/"
   ]
  },
  {
   "cell_type": "markdown",
   "metadata": {},
   "source": [
    "From _PEST Groundwater Data Utilities Part A: Overview_ page 43, there are 4 acceptable variogram types:\n",
    "\n",
    " 1. *Spherical*  \n",
    " $\\gamma\\left(h\\right)=c\\times\\left[1.5\\frac{h}{a}-0.5\\frac{h}{a}^3\\right]$ if $h<a$\n",
    " $\\gamma\\left(h\\right)=c$ if $h \\ge a$  \n",
    "     \n",
    " 2. *Exponential*  \n",
    " $\\gamma\\left(h\\right)=c\\times\\left[1-\\exp\\left(-\\frac{h}{a}\\right)\\right]$  \n",
    "     \n",
    " 3. *Gaussian*  \n",
    " $\\gamma\\left(h\\right)=c\\times\\left[1-\\exp\\left(-\\frac{h^2}{a^2}\\right)\\right]$  \n",
    " \n",
    " 4. *Power*  \n",
    " $\\gamma\\left(h\\right)=c\\times h^a$\n",
    "     \n",
    " The number refers to `VARTYPE`. \n",
    " \n",
    " `BEARING` and `ANISOTROPY` only apply if there is a principal direction of anisotropy. \n",
    " \n",
    " $h$ is the separation distance, and $a$ is the range, expressed with the `A` parameter."
   ]
  },
  {
   "cell_type": "markdown",
   "metadata": {},
   "source": [
    "### First, let's create ``variogram`` and ``GeoStruct`` objects.  \n",
    "\n",
    "These describe how HK varies spatially. "
   ]
  },
  {
   "cell_type": "code",
   "execution_count": 11,
   "metadata": {
    "execution": {
     "iopub.execute_input": "2022-07-29T08:00:35.662014Z",
     "iopub.status.busy": "2022-07-29T08:00:35.662014Z",
     "iopub.status.idle": "2022-07-29T08:00:36.009239Z",
     "shell.execute_reply": "2022-07-29T08:00:36.008241Z"
    }
   },
   "outputs": [
    {
     "data": {
      "text/plain": [
       "(0.0, 2.0)"
      ]
     },
     "execution_count": 11,
     "metadata": {},
     "output_type": "execute_result"
    },
    {
     "data": {
      "image/png": "[encoded data removed]",
      "text/plain": [
       "<Figure size 432x288 with 1 Axes>"
      ]
     },
     "metadata": {
      "needs_background": "light"
     },
     "output_type": "display_data"
    }
   ],
   "source": [
    "v = pyemu.geostats.ExpVario(contribution=1.0, a=2500, anisotropy=1, bearing=0)\n",
    "gs = pyemu.geostats.GeoStruct(variograms=v,nugget=0.0)\n",
    "ax = gs.plot()\n",
    "ax.grid()\n",
    "ax.set_ylim(0,2.0)"
   ]
  },
  {
   "cell_type": "markdown",
   "metadata": {},
   "source": [
    "Now, let's get an ``OrdinaryKrige`` object, which needs the ``GeoStruct`` as well as the x, y, and name of the pilot point locations (which happens to be in that really cool ``df_pp`` instance)"
   ]
  },
  {
   "cell_type": "code",
   "execution_count": 12,
   "metadata": {
    "execution": {
     "iopub.execute_input": "2022-07-29T08:00:36.016253Z",
     "iopub.status.busy": "2022-07-29T08:00:36.016253Z",
     "iopub.status.idle": "2022-07-29T08:00:36.041413Z",
     "shell.execute_reply": "2022-07-29T08:00:36.039375Z"
    }
   },
   "outputs": [],
   "source": [
    "ok = pyemu.geostats.OrdinaryKrige(gs,df_pp)"
   ]
  },
  {
   "cell_type": "markdown",
   "metadata": {},
   "source": [
    "Once the ``OrdinaryKrige`` is created, we need to calculate the geostatistical interpolation factors for each model cell.  We do this with the ``.calc_factors_grid()`` method: it needs to know about the model's spatial orientation and also accepts some optional arguments:"
   ]
  },
  {
   "cell_type": "code",
   "execution_count": 13,
   "metadata": {
    "execution": {
     "iopub.execute_input": "2022-07-29T08:00:36.048396Z",
     "iopub.status.busy": "2022-07-29T08:00:36.048396Z",
     "iopub.status.idle": "2022-07-29T08:00:38.302355Z",
     "shell.execute_reply": "2022-07-29T08:00:38.301280Z"
    }
   },
   "outputs": [
    {
     "name": "stdout",
     "output_type": "stream",
     "text": [
      "starting interp point loop for 800 points\n",
      "took 2.243637 seconds\n"
     ]
    }
   ],
   "source": [
    "df = ok.calc_factors_grid(sr,var_filename=\"freyberg.var.ref\", minpts_interp=1,maxpts_interp=10, )"
   ]
  },
  {
   "cell_type": "markdown",
   "metadata": {},
   "source": [
    "One of the really cool things about geostatistics is that it gives you both the interpolation (factors), but also gives you the uncertainty in the areas between control (pilot) points.  Above, we wrote this uncertainty information to an array that has the same rows and cols as the model grid - this array is very useful for understanding the function of the variogram."
   ]
  },
  {
   "cell_type": "code",
   "execution_count": 14,
   "metadata": {
    "execution": {
     "iopub.execute_input": "2022-07-29T08:00:38.305349Z",
     "iopub.status.busy": "2022-07-29T08:00:38.305349Z",
     "iopub.status.idle": "2022-07-29T08:00:38.493226Z",
     "shell.execute_reply": "2022-07-29T08:00:38.491183Z"
    }
   },
   "outputs": [
    {
     "data": {
      "image/png": "[encoded data removed]",
      "text/plain": [
       "<Figure size 432x288 with 2 Axes>"
      ]
     },
     "metadata": {
      "needs_background": "light"
     },
     "output_type": "display_data"
    }
   ],
   "source": [
    "arr_var = np.loadtxt(\"freyberg.var.ref\")\n",
    "ax = plt.subplot(111,aspect=\"equal\")\n",
    "p = ax.imshow(arr_var,extent=sr.get_extent(),alpha=0.25)\n",
    "plt.colorbar(p)\n",
    "ax.scatter(df_pp.x,df_pp.y,marker='.',s=4,color='r');"
   ]
  },
  {
   "cell_type": "markdown",
   "metadata": {},
   "source": [
    "We see that at the pilot point locations (red dots), the uncertainty in the geostats is minimal...as expected. The color scale is uncertainty. It increaes with distance to pilot points.\n",
    "\n",
    "The call to ``.calc_factors_grid()`` also returns a ``DataFrame`` which has useful info - lets look:"
   ]
  },
  {
   "cell_type": "code",
   "execution_count": 15,
   "metadata": {
    "execution": {
     "iopub.execute_input": "2022-07-29T08:00:38.500197Z",
     "iopub.status.busy": "2022-07-29T08:00:38.499207Z",
     "iopub.status.idle": "2022-07-29T08:00:38.524796Z",
     "shell.execute_reply": "2022-07-29T08:00:38.523769Z"
    }
   },
   "outputs": [
    {
     "data": {
      "text/html": [
       "<div>\n",
       "<style scoped>\n",
       "    .dataframe tbody tr th:only-of-type {\n",
       "        vertical-align: middle;\n",
       "    }\n",
       "\n",
       "    .dataframe tbody tr th {\n",
       "        vertical-align: top;\n",
       "    }\n",
       "\n",
       "    .dataframe thead th {\n",
       "        text-align: right;\n",
       "    }\n",
       "</style>\n",
       "<table border=\"1\" class=\"dataframe\">\n",
       "  <thead>\n",
       "    <tr style=\"text-align: right;\">\n",
       "      <th></th>\n",
       "      <th>x</th>\n",
       "      <th>y</th>\n",
       "      <th>idist</th>\n",
       "      <th>inames</th>\n",
       "      <th>ifacts</th>\n",
       "      <th>err_var</th>\n",
       "    </tr>\n",
       "  </thead>\n",
       "  <tbody>\n",
       "    <tr>\n",
       "      <th>0</th>\n",
       "      <td>125.0</td>\n",
       "      <td>9875.0</td>\n",
       "      <td>[707.1067811865476, 1820.0274723201296, 1820.0274723201296, 3041.38126514911, 3041.38126514911, ...</td>\n",
       "      <td>[pp_0000, pp_0001, pp_0004, pp_0002, pp_0008, pp_0009, pp_0003, pp_0011]</td>\n",
       "      <td>[0.7115647141955732, 0.05543091711738018, 0.05508798036086901, 0.025682400127502423, 0.024000291...</td>\n",
       "      <td>0.265929</td>\n",
       "    </tr>\n",
       "    <tr>\n",
       "      <th>1</th>\n",
       "      <td>375.0</td>\n",
       "      <td>9875.0</td>\n",
       "      <td>[559.0169943749474, 1581.1388300841897, 1767.7669529663688, 2795.084971874737, 3010.398644698074...</td>\n",
       "      <td>[pp_0000, pp_0001, pp_0004, pp_0002, pp_0008, pp_0003, pp_0009, pp_0011]</td>\n",
       "      <td>[0.7490092682560686, 0.08732922533848612, 0.02020301904234272, 0.02561452860632063, 0.0156138931...</td>\n",
       "      <td>0.224504</td>\n",
       "    </tr>\n",
       "    <tr>\n",
       "      <th>2</th>\n",
       "      <td>625.0</td>\n",
       "      <td>9875.0</td>\n",
       "      <td>[500.0, 1346.291201783626, 2549.5097567963926, 3000.0, 3783.186487605389, 3905.124837953327, 413...</td>\n",
       "      <td>[pp_0000, pp_0001, pp_0002, pp_0008, pp_0003, pp_0009, pp_0007]</td>\n",
       "      <td>[0.733366868970951, 0.1474764818839198, 0.026819066995212287, 0.02745521210217107, 0.03173572568...</td>\n",
       "      <td>0.203108</td>\n",
       "    </tr>\n",
       "    <tr>\n",
       "      <th>3</th>\n",
       "      <td>875.0</td>\n",
       "      <td>9875.0</td>\n",
       "      <td>[559.0169943749474, 1118.033988749895, 2304.886114323222, 3010.398644698074, 3535.5339059327375,...</td>\n",
       "      <td>[pp_0000, pp_0001, pp_0002, pp_0008, pp_0003, pp_0009, pp_0007]</td>\n",
       "      <td>[0.6507305170900195, 0.24331180973671632, 0.03076096113076711, 0.019279616911883093, 0.029544927...</td>\n",
       "      <td>0.223952</td>\n",
       "    </tr>\n",
       "    <tr>\n",
       "      <th>4</th>\n",
       "      <td>1125.0</td>\n",
       "      <td>9875.0</td>\n",
       "      <td>[707.1067811865476, 901.3878188659974, 2061.5528128088304, 3041.38126514911, 3288.2366094914764,...</td>\n",
       "      <td>[pp_0000, pp_0001, pp_0002, pp_0008, pp_0003, pp_0009, pp_0007]</td>\n",
       "      <td>[0.5278099528020117, 0.3655027695342027, 0.03913966373758959, 0.015225341704513657, 0.0299304658...</td>\n",
       "      <td>0.249281</td>\n",
       "    </tr>\n",
       "  </tbody>\n",
       "</table>\n",
       "</div>"
      ],
      "text/plain": [
       "        x       y  \\\n",
       "0   125.0  9875.0   \n",
       "1   375.0  9875.0   \n",
       "2   625.0  9875.0   \n",
       "3   875.0  9875.0   \n",
       "4  1125.0  9875.0   \n",
       "\n",
       "                                                                                                 idist  \\\n",
       "0  [707.1067811865476, 1820.0274723201296, 1820.0274723201296, 3041.38126514911, 3041.38126514911, ...   \n",
       "1  [559.0169943749474, 1581.1388300841897, 1767.7669529663688, 2795.084971874737, 3010.398644698074...   \n",
       "2  [500.0, 1346.291201783626, 2549.5097567963926, 3000.0, 3783.186487605389, 3905.124837953327, 413...   \n",
       "3  [559.0169943749474, 1118.033988749895, 2304.886114323222, 3010.398644698074, 3535.5339059327375,...   \n",
       "4  [707.1067811865476, 901.3878188659974, 2061.5528128088304, 3041.38126514911, 3288.2366094914764,...   \n",
       "\n",
       "                                                                     inames  \\\n",
       "0  [pp_0000, pp_0001, pp_0004, pp_0002, pp_0008, pp_0009, pp_0003, pp_0011]   \n",
       "1  [pp_0000, pp_0001, pp_0004, pp_0002, pp_0008, pp_0003, pp_0009, pp_0011]   \n",
       "2           [pp_0000, pp_0001, pp_0002, pp_0008, pp_0003, pp_0009, pp_0007]   \n",
       "3           [pp_0000, pp_0001, pp_0002, pp_0008, pp_0003, pp_0009, pp_0007]   \n",
       "4           [pp_0000, pp_0001, pp_0002, pp_0008, pp_0003, pp_0009, pp_0007]   \n",
       "\n",
       "                                                                                                ifacts  \\\n",
       "0  [0.7115647141955732, 0.05543091711738018, 0.05508798036086901, 0.025682400127502423, 0.024000291...   \n",
       "1  [0.7490092682560686, 0.08732922533848612, 0.02020301904234272, 0.02561452860632063, 0.0156138931...   \n",
       "2  [0.733366868970951, 0.1474764818839198, 0.026819066995212287, 0.02745521210217107, 0.03173572568...   \n",
       "3  [0.6507305170900195, 0.24331180973671632, 0.03076096113076711, 0.019279616911883093, 0.029544927...   \n",
       "4  [0.5278099528020117, 0.3655027695342027, 0.03913966373758959, 0.015225341704513657, 0.0299304658...   \n",
       "\n",
       "    err_var  \n",
       "0  0.265929  \n",
       "1  0.224504  \n",
       "2  0.203108  \n",
       "3  0.223952  \n",
       "4  0.249281  "
      ]
     },
     "execution_count": 15,
     "metadata": {},
     "output_type": "execute_result"
    }
   ],
   "source": [
    "df.head()"
   ]
  },
  {
   "cell_type": "markdown",
   "metadata": {},
   "source": [
    "We see that there is one row for each model cell, and for each row, we see the distance, names, and weight for the \"nearby\" pilot points.  The interpolated value for cells that have a pilot point at their center only need one weight - 1.0 - and one pilot point.  Other cells are weighted combinations of pilot points. "
   ]
  },
  {
   "cell_type": "markdown",
   "metadata": {},
   "source": [
    "### Back to linking pilot points to grid values\n",
    "\n",
    "Now we need to save the factors (weights) to a special file that we will use later to quickly generate a new HK array from a set of pilot point values:"
   ]
  },
  {
   "cell_type": "code",
   "execution_count": 16,
   "metadata": {
    "execution": {
     "iopub.execute_input": "2022-07-29T08:00:38.528791Z",
     "iopub.status.busy": "2022-07-29T08:00:38.528791Z",
     "iopub.status.idle": "2022-07-29T08:00:38.557251Z",
     "shell.execute_reply": "2022-07-29T08:00:38.556513Z"
    }
   },
   "outputs": [],
   "source": [
    "ok.to_grid_factors_file(pp_file+\".fac\")"
   ]
  },
  {
   "cell_type": "markdown",
   "metadata": {},
   "source": [
    "Just for demo purposes, lets generate ``random`` pilot point values and run them through the factors to see what the ``hk`` array looks like"
   ]
  },
  {
   "cell_type": "code",
   "execution_count": 17,
   "metadata": {
    "execution": {
     "iopub.execute_input": "2022-07-29T08:00:38.560276Z",
     "iopub.status.busy": "2022-07-29T08:00:38.560276Z",
     "iopub.status.idle": "2022-07-29T08:00:38.572993Z",
     "shell.execute_reply": "2022-07-29T08:00:38.571991Z"
    }
   },
   "outputs": [],
   "source": [
    "# generate random values\n",
    "df_pp.loc[:,\"parval1\"] = np.random.random(df_pp.shape[0])\n",
    "# save a pilot points file\n",
    "pyemu.pp_utils.write_pp_file(pp_file,df_pp)"
   ]
  },
  {
   "cell_type": "code",
   "execution_count": 18,
   "metadata": {
    "execution": {
     "iopub.execute_input": "2022-07-29T08:00:38.575984Z",
     "iopub.status.busy": "2022-07-29T08:00:38.575023Z",
     "iopub.status.idle": "2022-07-29T08:00:38.603841Z",
     "shell.execute_reply": "2022-07-29T08:00:38.603200Z"
    }
   },
   "outputs": [],
   "source": [
    "# interpolate the pilot point values to the grid\n",
    "hk_arr = pyemu.geostats.fac2real(pp_file, factors_file=pp_file+\".fac\",out_file=None, )"
   ]
  },
  {
   "cell_type": "code",
   "execution_count": 19,
   "metadata": {
    "execution": {
     "iopub.execute_input": "2022-07-29T08:00:38.606814Z",
     "iopub.status.busy": "2022-07-29T08:00:38.606814Z",
     "iopub.status.idle": "2022-07-29T08:00:38.698656Z",
     "shell.execute_reply": "2022-07-29T08:00:38.698656Z"
    }
   },
   "outputs": [
    {
     "data": {
      "text/plain": [
       "<matplotlib.collections.PathCollection at 0x1c253d6c700>"
      ]
     },
     "execution_count": 19,
     "metadata": {},
     "output_type": "execute_result"
    },
    {
     "data": {
      "image/png": "[encoded data removed]",
      "text/plain": [
       "<Figure size 432x288 with 1 Axes>"
      ]
     },
     "metadata": {
      "needs_background": "light"
     },
     "output_type": "display_data"
    }
   ],
   "source": [
    "# plot\n",
    "ax = plt.subplot(111,aspect='equal')\n",
    "ax.imshow(hk_arr,interpolation=\"nearest\",extent=sr.get_extent(),alpha=0.5)\n",
    "ax.scatter(df_pp.x,df_pp.y,marker='.',s=4,color='k')"
   ]
  },
  {
   "cell_type": "markdown",
   "metadata": {},
   "source": [
    "What happens if you recalculate the factors using one point for every cell? Change ``max_interp_pts`` to 1 in the ``calc_factors_grid()`` and rerun these cells."
   ]
  },
  {
   "cell_type": "markdown",
   "metadata": {},
   "source": [
    "### (Foreshadowng) An aside on geostatistics and covariance matrices\n",
    "\n",
    "The ``GeoStruct`` object above was used to interpolate from pilot point locations to each node in the grid.  But this same ``GoeStruct`` also has an important information regarding how the pilot points are related to each other spatially---that is, the ``GeoStruct`` object implies a covariance matrix.  Let's form that matrix "
   ]
  },
  {
   "cell_type": "code",
   "execution_count": 20,
   "metadata": {
    "execution": {
     "iopub.execute_input": "2022-07-29T08:00:38.702640Z",
     "iopub.status.busy": "2022-07-29T08:00:38.702640Z",
     "iopub.status.idle": "2022-07-29T08:00:38.716180Z",
     "shell.execute_reply": "2022-07-29T08:00:38.715179Z"
    }
   },
   "outputs": [],
   "source": [
    "cov = gs.covariance_matrix(df_pp.x,df_pp.y,df_pp.parnme)"
   ]
  },
  {
   "cell_type": "code",
   "execution_count": 21,
   "metadata": {
    "execution": {
     "iopub.execute_input": "2022-07-29T08:00:38.719204Z",
     "iopub.status.busy": "2022-07-29T08:00:38.719204Z",
     "iopub.status.idle": "2022-07-29T08:00:38.812043Z",
     "shell.execute_reply": "2022-07-29T08:00:38.811043Z"
    }
   },
   "outputs": [
    {
     "data": {
      "text/plain": [
       "<matplotlib.image.AxesImage at 0x1c2589554c0>"
      ]
     },
     "execution_count": 21,
     "metadata": {},
     "output_type": "execute_result"
    },
    {
     "data": {
      "image/png": "[encoded data removed]",
      "text/plain": [
       "<Figure size 432x288 with 1 Axes>"
      ]
     },
     "metadata": {
      "needs_background": "light"
     },
     "output_type": "display_data"
    }
   ],
   "source": [
    "plt.imshow(cov.x)"
   ]
  },
  {
   "cell_type": "code",
   "execution_count": 22,
   "metadata": {
    "execution": {
     "iopub.execute_input": "2022-07-29T08:00:38.815071Z",
     "iopub.status.busy": "2022-07-29T08:00:38.815071Z",
     "iopub.status.idle": "2022-07-29T08:00:38.842568Z",
     "shell.execute_reply": "2022-07-29T08:00:38.841565Z"
    }
   },
   "outputs": [
    {
     "data": {
      "text/html": [
       "<div>\n",
       "<style scoped>\n",
       "    .dataframe tbody tr th:only-of-type {\n",
       "        vertical-align: middle;\n",
       "    }\n",
       "\n",
       "    .dataframe tbody tr th {\n",
       "        vertical-align: top;\n",
       "    }\n",
       "\n",
       "    .dataframe thead th {\n",
       "        text-align: right;\n",
       "    }\n",
       "</style>\n",
       "<table border=\"1\" class=\"dataframe\">\n",
       "  <thead>\n",
       "    <tr style=\"text-align: right;\">\n",
       "      <th></th>\n",
       "      <th>hk_i:2_j:2_zone:1.0</th>\n",
       "      <th>hk_i:2_j:7_zone:1.0</th>\n",
       "      <th>hk_i:2_j:12_zone:1.0</th>\n",
       "      <th>hk_i:2_j:17_zone:1.0</th>\n",
       "      <th>hk_i:7_j:2_zone:1.0</th>\n",
       "      <th>hk_i:7_j:7_zone:1.0</th>\n",
       "      <th>hk_i:7_j:12_zone:1.0</th>\n",
       "      <th>hk_i:7_j:17_zone:1.0</th>\n",
       "      <th>hk_i:12_j:2_zone:1.0</th>\n",
       "      <th>hk_i:12_j:12_zone:1.0</th>\n",
       "      <th>...</th>\n",
       "      <th>hk_i:27_j:7_zone:1.0</th>\n",
       "      <th>hk_i:27_j:12_zone:1.0</th>\n",
       "      <th>hk_i:27_j:17_zone:1.0</th>\n",
       "      <th>hk_i:32_j:2_zone:1.0</th>\n",
       "      <th>hk_i:32_j:7_zone:1.0</th>\n",
       "      <th>hk_i:32_j:12_zone:1.0</th>\n",
       "      <th>hk_i:32_j:17_zone:1.0</th>\n",
       "      <th>hk_i:37_j:7_zone:1.0</th>\n",
       "      <th>hk_i:37_j:12_zone:1.0</th>\n",
       "      <th>hk_i:37_j:17_zone:1.0</th>\n",
       "    </tr>\n",
       "  </thead>\n",
       "  <tbody>\n",
       "    <tr>\n",
       "      <th>hk_i:2_j:2_zone:1.0</th>\n",
       "      <td>1.000000</td>\n",
       "      <td>0.606531</td>\n",
       "      <td>0.367879</td>\n",
       "      <td>0.223130</td>\n",
       "      <td>0.606531</td>\n",
       "      <td>0.493069</td>\n",
       "      <td>0.326922</td>\n",
       "      <td>0.205741</td>\n",
       "      <td>0.367879</td>\n",
       "      <td>0.243117</td>\n",
       "      <td>...</td>\n",
       "      <td>0.078120</td>\n",
       "      <td>0.067706</td>\n",
       "      <td>0.054178</td>\n",
       "      <td>0.049787</td>\n",
       "      <td>0.047769</td>\n",
       "      <td>0.042329</td>\n",
       "      <td>0.034941</td>\n",
       "      <td>0.029143</td>\n",
       "      <td>0.026251</td>\n",
       "      <td>0.022195</td>\n",
       "    </tr>\n",
       "    <tr>\n",
       "      <th>hk_i:2_j:7_zone:1.0</th>\n",
       "      <td>0.606531</td>\n",
       "      <td>1.000000</td>\n",
       "      <td>0.606531</td>\n",
       "      <td>0.367879</td>\n",
       "      <td>0.493069</td>\n",
       "      <td>0.606531</td>\n",
       "      <td>0.493069</td>\n",
       "      <td>0.326922</td>\n",
       "      <td>0.326922</td>\n",
       "      <td>0.326922</td>\n",
       "      <td>...</td>\n",
       "      <td>0.082085</td>\n",
       "      <td>0.078120</td>\n",
       "      <td>0.067706</td>\n",
       "      <td>0.047769</td>\n",
       "      <td>0.049787</td>\n",
       "      <td>0.047769</td>\n",
       "      <td>0.042329</td>\n",
       "      <td>0.030197</td>\n",
       "      <td>0.029143</td>\n",
       "      <td>0.026251</td>\n",
       "    </tr>\n",
       "    <tr>\n",
       "      <th>hk_i:2_j:12_zone:1.0</th>\n",
       "      <td>0.367879</td>\n",
       "      <td>0.606531</td>\n",
       "      <td>1.000000</td>\n",
       "      <td>0.606531</td>\n",
       "      <td>0.326922</td>\n",
       "      <td>0.493069</td>\n",
       "      <td>0.606531</td>\n",
       "      <td>0.493069</td>\n",
       "      <td>0.243117</td>\n",
       "      <td>0.367879</td>\n",
       "      <td>...</td>\n",
       "      <td>0.078120</td>\n",
       "      <td>0.082085</td>\n",
       "      <td>0.078120</td>\n",
       "      <td>0.042329</td>\n",
       "      <td>0.047769</td>\n",
       "      <td>0.049787</td>\n",
       "      <td>0.047769</td>\n",
       "      <td>0.029143</td>\n",
       "      <td>0.030197</td>\n",
       "      <td>0.029143</td>\n",
       "    </tr>\n",
       "    <tr>\n",
       "      <th>hk_i:2_j:17_zone:1.0</th>\n",
       "      <td>0.223130</td>\n",
       "      <td>0.367879</td>\n",
       "      <td>0.606531</td>\n",
       "      <td>1.000000</td>\n",
       "      <td>0.205741</td>\n",
       "      <td>0.326922</td>\n",
       "      <td>0.493069</td>\n",
       "      <td>0.606531</td>\n",
       "      <td>0.164841</td>\n",
       "      <td>0.326922</td>\n",
       "      <td>...</td>\n",
       "      <td>0.067706</td>\n",
       "      <td>0.078120</td>\n",
       "      <td>0.082085</td>\n",
       "      <td>0.034941</td>\n",
       "      <td>0.042329</td>\n",
       "      <td>0.047769</td>\n",
       "      <td>0.049787</td>\n",
       "      <td>0.026251</td>\n",
       "      <td>0.029143</td>\n",
       "      <td>0.030197</td>\n",
       "    </tr>\n",
       "    <tr>\n",
       "      <th>hk_i:7_j:2_zone:1.0</th>\n",
       "      <td>0.606531</td>\n",
       "      <td>0.493069</td>\n",
       "      <td>0.326922</td>\n",
       "      <td>0.205741</td>\n",
       "      <td>1.000000</td>\n",
       "      <td>0.606531</td>\n",
       "      <td>0.367879</td>\n",
       "      <td>0.223130</td>\n",
       "      <td>0.606531</td>\n",
       "      <td>0.326922</td>\n",
       "      <td>...</td>\n",
       "      <td>0.127256</td>\n",
       "      <td>0.106878</td>\n",
       "      <td>0.082085</td>\n",
       "      <td>0.082085</td>\n",
       "      <td>0.078120</td>\n",
       "      <td>0.067706</td>\n",
       "      <td>0.054178</td>\n",
       "      <td>0.047769</td>\n",
       "      <td>0.042329</td>\n",
       "      <td>0.034941</td>\n",
       "    </tr>\n",
       "  </tbody>\n",
       "</table>\n",
       "<p>5 rows × 29 columns</p>\n",
       "</div>"
      ],
      "text/plain": [
       "                      hk_i:2_j:2_zone:1.0  hk_i:2_j:7_zone:1.0  \\\n",
       "hk_i:2_j:2_zone:1.0              1.000000             0.606531   \n",
       "hk_i:2_j:7_zone:1.0              0.606531             1.000000   \n",
       "hk_i:2_j:12_zone:1.0             0.367879             0.606531   \n",
       "hk_i:2_j:17_zone:1.0             0.223130             0.367879   \n",
       "hk_i:7_j:2_zone:1.0              0.606531             0.493069   \n",
       "\n",
       "                      hk_i:2_j:12_zone:1.0  hk_i:2_j:17_zone:1.0  \\\n",
       "hk_i:2_j:2_zone:1.0               0.367879              0.223130   \n",
       "hk_i:2_j:7_zone:1.0               0.606531              0.367879   \n",
       "hk_i:2_j:12_zone:1.0              1.000000              0.606531   \n",
       "hk_i:2_j:17_zone:1.0              0.606531              1.000000   \n",
       "hk_i:7_j:2_zone:1.0               0.326922              0.205741   \n",
       "\n",
       "                      hk_i:7_j:2_zone:1.0  hk_i:7_j:7_zone:1.0  \\\n",
       "hk_i:2_j:2_zone:1.0              0.606531             0.493069   \n",
       "hk_i:2_j:7_zone:1.0              0.493069             0.606531   \n",
       "hk_i:2_j:12_zone:1.0             0.326922             0.493069   \n",
       "hk_i:2_j:17_zone:1.0             0.205741             0.326922   \n",
       "hk_i:7_j:2_zone:1.0              1.000000             0.606531   \n",
       "\n",
       "                      hk_i:7_j:12_zone:1.0  hk_i:7_j:17_zone:1.0  \\\n",
       "hk_i:2_j:2_zone:1.0               0.326922              0.205741   \n",
       "hk_i:2_j:7_zone:1.0               0.493069              0.326922   \n",
       "hk_i:2_j:12_zone:1.0              0.606531              0.493069   \n",
       "hk_i:2_j:17_zone:1.0              0.493069              0.606531   \n",
       "hk_i:7_j:2_zone:1.0               0.367879              0.223130   \n",
       "\n",
       "                      hk_i:12_j:2_zone:1.0  hk_i:12_j:12_zone:1.0  ...  \\\n",
       "hk_i:2_j:2_zone:1.0               0.367879               0.243117  ...   \n",
       "hk_i:2_j:7_zone:1.0               0.326922               0.326922  ...   \n",
       "hk_i:2_j:12_zone:1.0              0.243117               0.367879  ...   \n",
       "hk_i:2_j:17_zone:1.0              0.164841               0.326922  ...   \n",
       "hk_i:7_j:2_zone:1.0               0.606531               0.326922  ...   \n",
       "\n",
       "                      hk_i:27_j:7_zone:1.0  hk_i:27_j:12_zone:1.0  \\\n",
       "hk_i:2_j:2_zone:1.0               0.078120               0.067706   \n",
       "hk_i:2_j:7_zone:1.0               0.082085               0.078120   \n",
       "hk_i:2_j:12_zone:1.0              0.078120               0.082085   \n",
       "hk_i:2_j:17_zone:1.0              0.067706               0.078120   \n",
       "hk_i:7_j:2_zone:1.0               0.127256               0.106878   \n",
       "\n",
       "                      hk_i:27_j:17_zone:1.0  hk_i:32_j:2_zone:1.0  \\\n",
       "hk_i:2_j:2_zone:1.0                0.054178              0.049787   \n",
       "hk_i:2_j:7_zone:1.0                0.067706              0.047769   \n",
       "hk_i:2_j:12_zone:1.0               0.078120              0.042329   \n",
       "hk_i:2_j:17_zone:1.0               0.082085              0.034941   \n",
       "hk_i:7_j:2_zone:1.0                0.082085              0.082085   \n",
       "\n",
       "                      hk_i:32_j:7_zone:1.0  hk_i:32_j:12_zone:1.0  \\\n",
       "hk_i:2_j:2_zone:1.0               0.047769               0.042329   \n",
       "hk_i:2_j:7_zone:1.0               0.049787               0.047769   \n",
       "hk_i:2_j:12_zone:1.0              0.047769               0.049787   \n",
       "hk_i:2_j:17_zone:1.0              0.042329               0.047769   \n",
       "hk_i:7_j:2_zone:1.0               0.078120               0.067706   \n",
       "\n",
       "                      hk_i:32_j:17_zone:1.0  hk_i:37_j:7_zone:1.0  \\\n",
       "hk_i:2_j:2_zone:1.0                0.034941              0.029143   \n",
       "hk_i:2_j:7_zone:1.0                0.042329              0.030197   \n",
       "hk_i:2_j:12_zone:1.0               0.047769              0.029143   \n",
       "hk_i:2_j:17_zone:1.0               0.049787              0.026251   \n",
       "hk_i:7_j:2_zone:1.0                0.054178              0.047769   \n",
       "\n",
       "                      hk_i:37_j:12_zone:1.0  hk_i:37_j:17_zone:1.0  \n",
       "hk_i:2_j:2_zone:1.0                0.026251               0.022195  \n",
       "hk_i:2_j:7_zone:1.0                0.029143               0.026251  \n",
       "hk_i:2_j:12_zone:1.0               0.030197               0.029143  \n",
       "hk_i:2_j:17_zone:1.0               0.029143               0.030197  \n",
       "hk_i:7_j:2_zone:1.0                0.042329               0.034941  \n",
       "\n",
       "[5 rows x 29 columns]"
      ]
     },
     "execution_count": 22,
     "metadata": {},
     "output_type": "execute_result"
    }
   ],
   "source": [
    "cov.to_dataframe().head()"
   ]
  },
  {
   "cell_type": "markdown",
   "metadata": {},
   "source": [
    "What do these numbers mean?  Why should you care?  Well, this covariance matrix plays an important role in uncertainty quantification, as well as in governing the way pilot point parameters are adjusted during calibration. We will return to these toics in future tutorials.\n",
    "\n",
    " Now back to setting up our pilot points and control file."
   ]
  },
  {
   "cell_type": "markdown",
   "metadata": {},
   "source": [
    "## Build a control file using these pilot points\n",
    "\n",
    "There's a fair amount of support in pyemu for building control files and setting PEST inferfaces.  Here we will only briefly touch on some of the basic components.  If you have created template files and instruction files, and have used our proposed naming convention, then you can quickly generate a control file using the following call"
   ]
  },
  {
   "cell_type": "markdown",
   "metadata": {},
   "source": [
    "First let's just get rid of the existing `hk1` parameter (for simplicity, we are simply going to replace it with the pilot point parameters):"
   ]
  },
  {
   "cell_type": "code",
   "execution_count": 23,
   "metadata": {
    "execution": {
     "iopub.execute_input": "2022-07-29T08:00:38.846555Z",
     "iopub.status.busy": "2022-07-29T08:00:38.846555Z",
     "iopub.status.idle": "2022-07-29T08:00:38.857935Z",
     "shell.execute_reply": "2022-07-29T08:00:38.857033Z"
    }
   },
   "outputs": [
    {
     "data": {
      "text/plain": [
       "(5.0, 0.05, 500.0)"
      ]
     },
     "execution_count": 23,
     "metadata": {},
     "output_type": "execute_result"
    }
   ],
   "source": [
    "pst.parameter_data\n",
    "hk_parval, hkub, hklb = pst.parameter_data.loc['hk1', ['parval1','parlbnd','parubnd']]\n",
    "hk_parval, hkub, hklb"
   ]
  },
  {
   "cell_type": "code",
   "execution_count": 24,
   "metadata": {
    "execution": {
     "iopub.execute_input": "2022-07-29T08:00:38.860964Z",
     "iopub.status.busy": "2022-07-29T08:00:38.859967Z",
     "iopub.status.idle": "2022-07-29T08:00:38.888100Z",
     "shell.execute_reply": "2022-07-29T08:00:38.888100Z"
    }
   },
   "outputs": [
    {
     "name": "stdout",
     "output_type": "stream",
     "text": [
      "1 pars dropped from template file freyberg_mf6\\freyberg6.npf_k_layer1.txt.tpl\n"
     ]
    },
    {
     "data": {
      "text/html": [
       "<div>\n",
       "<style scoped>\n",
       "    .dataframe tbody tr th:only-of-type {\n",
       "        vertical-align: middle;\n",
       "    }\n",
       "\n",
       "    .dataframe tbody tr th {\n",
       "        vertical-align: top;\n",
       "    }\n",
       "\n",
       "    .dataframe thead th {\n",
       "        text-align: right;\n",
       "    }\n",
       "</style>\n",
       "<table border=\"1\" class=\"dataframe\">\n",
       "  <thead>\n",
       "    <tr style=\"text-align: right;\">\n",
       "      <th></th>\n",
       "      <th>parnme</th>\n",
       "      <th>partrans</th>\n",
       "      <th>parchglim</th>\n",
       "      <th>parval1</th>\n",
       "      <th>parlbnd</th>\n",
       "      <th>parubnd</th>\n",
       "      <th>pargp</th>\n",
       "      <th>scale</th>\n",
       "      <th>offset</th>\n",
       "      <th>extra</th>\n",
       "      <th>dercom</th>\n",
       "    </tr>\n",
       "    <tr>\n",
       "      <th>parnme</th>\n",
       "      <th></th>\n",
       "      <th></th>\n",
       "      <th></th>\n",
       "      <th></th>\n",
       "      <th></th>\n",
       "      <th></th>\n",
       "      <th></th>\n",
       "      <th></th>\n",
       "      <th></th>\n",
       "      <th></th>\n",
       "      <th></th>\n",
       "    </tr>\n",
       "  </thead>\n",
       "  <tbody>\n",
       "    <tr>\n",
       "      <th>ne1</th>\n",
       "      <td>ne1</td>\n",
       "      <td>fixed</td>\n",
       "      <td>factor</td>\n",
       "      <td>0.01</td>\n",
       "      <td>0.005</td>\n",
       "      <td>0.02</td>\n",
       "      <td>porosity</td>\n",
       "      <td>1.0</td>\n",
       "      <td>0.0</td>\n",
       "      <td>NaN</td>\n",
       "      <td>1.0</td>\n",
       "    </tr>\n",
       "    <tr>\n",
       "      <th>rch0</th>\n",
       "      <td>rch0</td>\n",
       "      <td>log</td>\n",
       "      <td>factor</td>\n",
       "      <td>1.00</td>\n",
       "      <td>0.500</td>\n",
       "      <td>2.00</td>\n",
       "      <td>rch</td>\n",
       "      <td>1.0</td>\n",
       "      <td>0.0</td>\n",
       "      <td>NaN</td>\n",
       "      <td>1.0</td>\n",
       "    </tr>\n",
       "    <tr>\n",
       "      <th>rch1</th>\n",
       "      <td>rch1</td>\n",
       "      <td>fixed</td>\n",
       "      <td>factor</td>\n",
       "      <td>1.00</td>\n",
       "      <td>0.500</td>\n",
       "      <td>2.00</td>\n",
       "      <td>rch</td>\n",
       "      <td>1.0</td>\n",
       "      <td>0.0</td>\n",
       "      <td>NaN</td>\n",
       "      <td>1.0</td>\n",
       "    </tr>\n",
       "  </tbody>\n",
       "</table>\n",
       "</div>"
      ],
      "text/plain": [
       "       parnme partrans parchglim  parval1  parlbnd  parubnd     pargp  scale  \\\n",
       "parnme                                                                         \n",
       "ne1       ne1    fixed    factor     0.01    0.005     0.02  porosity    1.0   \n",
       "rch0     rch0      log    factor     1.00    0.500     2.00       rch    1.0   \n",
       "rch1     rch1    fixed    factor     1.00    0.500     2.00       rch    1.0   \n",
       "\n",
       "        offset  extra  dercom  \n",
       "parnme                         \n",
       "ne1        0.0    NaN     1.0  \n",
       "rch0       0.0    NaN     1.0  \n",
       "rch1       0.0    NaN     1.0  "
      ]
     },
     "execution_count": 24,
     "metadata": {},
     "output_type": "execute_result"
    }
   ],
   "source": [
    "pst.drop_parameters(tpl_file=os.path.join(tmp_d,'freyberg6.npf_k_layer1.txt.tpl'), pst_path='.', )\n",
    "# remove the .tpl file for tidyness\n",
    "os.remove(os.path.join(tmp_d,'freyberg6.npf_k_layer1.txt.tpl') )\n",
    "# check the difference\n",
    "pst.parameter_data"
   ]
  },
  {
   "cell_type": "markdown",
   "metadata": {},
   "source": [
    "Now add in the pilot point parameters by reading the `*.tpl` file we created earlier:"
   ]
  },
  {
   "cell_type": "code",
   "execution_count": 25,
   "metadata": {
    "execution": {
     "iopub.execute_input": "2022-07-29T08:00:38.892125Z",
     "iopub.status.busy": "2022-07-29T08:00:38.892125Z",
     "iopub.status.idle": "2022-07-29T08:00:38.920108Z",
     "shell.execute_reply": "2022-07-29T08:00:38.919495Z"
    }
   },
   "outputs": [
    {
     "name": "stdout",
     "output_type": "stream",
     "text": [
      "29 pars added from template file .\\hkpp.dat.tpl\n"
     ]
    },
    {
     "data": {
      "text/html": [
       "<div>\n",
       "<style scoped>\n",
       "    .dataframe tbody tr th:only-of-type {\n",
       "        vertical-align: middle;\n",
       "    }\n",
       "\n",
       "    .dataframe tbody tr th {\n",
       "        vertical-align: top;\n",
       "    }\n",
       "\n",
       "    .dataframe thead th {\n",
       "        text-align: right;\n",
       "    }\n",
       "</style>\n",
       "<table border=\"1\" class=\"dataframe\">\n",
       "  <thead>\n",
       "    <tr style=\"text-align: right;\">\n",
       "      <th></th>\n",
       "      <th>parnme</th>\n",
       "      <th>partrans</th>\n",
       "      <th>parchglim</th>\n",
       "      <th>parval1</th>\n",
       "      <th>parlbnd</th>\n",
       "      <th>parubnd</th>\n",
       "      <th>pargp</th>\n",
       "      <th>scale</th>\n",
       "      <th>offset</th>\n",
       "      <th>dercom</th>\n",
       "    </tr>\n",
       "  </thead>\n",
       "  <tbody>\n",
       "    <tr>\n",
       "      <th>hk_i:2_j:12_zone:1.0</th>\n",
       "      <td>hk_i:2_j:12_zone:1.0</td>\n",
       "      <td>log</td>\n",
       "      <td>factor</td>\n",
       "      <td>0.130156</td>\n",
       "      <td>1.100000e-10</td>\n",
       "      <td>1.100000e+10</td>\n",
       "      <td>pargp</td>\n",
       "      <td>1.0</td>\n",
       "      <td>0.0</td>\n",
       "      <td>1</td>\n",
       "    </tr>\n",
       "    <tr>\n",
       "      <th>hk_i:37_j:12_zone:1.0</th>\n",
       "      <td>hk_i:37_j:12_zone:1.0</td>\n",
       "      <td>log</td>\n",
       "      <td>factor</td>\n",
       "      <td>0.740206</td>\n",
       "      <td>1.100000e-10</td>\n",
       "      <td>1.100000e+10</td>\n",
       "      <td>pargp</td>\n",
       "      <td>1.0</td>\n",
       "      <td>0.0</td>\n",
       "      <td>1</td>\n",
       "    </tr>\n",
       "    <tr>\n",
       "      <th>hk_i:17_j:2_zone:1.0</th>\n",
       "      <td>hk_i:17_j:2_zone:1.0</td>\n",
       "      <td>log</td>\n",
       "      <td>factor</td>\n",
       "      <td>0.122270</td>\n",
       "      <td>1.100000e-10</td>\n",
       "      <td>1.100000e+10</td>\n",
       "      <td>pargp</td>\n",
       "      <td>1.0</td>\n",
       "      <td>0.0</td>\n",
       "      <td>1</td>\n",
       "    </tr>\n",
       "    <tr>\n",
       "      <th>hk_i:37_j:17_zone:1.0</th>\n",
       "      <td>hk_i:37_j:17_zone:1.0</td>\n",
       "      <td>log</td>\n",
       "      <td>factor</td>\n",
       "      <td>0.270021</td>\n",
       "      <td>1.100000e-10</td>\n",
       "      <td>1.100000e+10</td>\n",
       "      <td>pargp</td>\n",
       "      <td>1.0</td>\n",
       "      <td>0.0</td>\n",
       "      <td>1</td>\n",
       "    </tr>\n",
       "    <tr>\n",
       "      <th>hk_i:17_j:12_zone:1.0</th>\n",
       "      <td>hk_i:17_j:12_zone:1.0</td>\n",
       "      <td>log</td>\n",
       "      <td>factor</td>\n",
       "      <td>0.344278</td>\n",
       "      <td>1.100000e-10</td>\n",
       "      <td>1.100000e+10</td>\n",
       "      <td>pargp</td>\n",
       "      <td>1.0</td>\n",
       "      <td>0.0</td>\n",
       "      <td>1</td>\n",
       "    </tr>\n",
       "  </tbody>\n",
       "</table>\n",
       "</div>"
      ],
      "text/plain": [
       "                                      parnme partrans parchglim   parval1  \\\n",
       "hk_i:2_j:12_zone:1.0    hk_i:2_j:12_zone:1.0      log    factor  0.130156   \n",
       "hk_i:37_j:12_zone:1.0  hk_i:37_j:12_zone:1.0      log    factor  0.740206   \n",
       "hk_i:17_j:2_zone:1.0    hk_i:17_j:2_zone:1.0      log    factor  0.122270   \n",
       "hk_i:37_j:17_zone:1.0  hk_i:37_j:17_zone:1.0      log    factor  0.270021   \n",
       "hk_i:17_j:12_zone:1.0  hk_i:17_j:12_zone:1.0      log    factor  0.344278   \n",
       "\n",
       "                            parlbnd       parubnd  pargp  scale  offset  \\\n",
       "hk_i:2_j:12_zone:1.0   1.100000e-10  1.100000e+10  pargp    1.0     0.0   \n",
       "hk_i:37_j:12_zone:1.0  1.100000e-10  1.100000e+10  pargp    1.0     0.0   \n",
       "hk_i:17_j:2_zone:1.0   1.100000e-10  1.100000e+10  pargp    1.0     0.0   \n",
       "hk_i:37_j:17_zone:1.0  1.100000e-10  1.100000e+10  pargp    1.0     0.0   \n",
       "hk_i:17_j:12_zone:1.0  1.100000e-10  1.100000e+10  pargp    1.0     0.0   \n",
       "\n",
       "                       dercom  \n",
       "hk_i:2_j:12_zone:1.0        1  \n",
       "hk_i:37_j:12_zone:1.0       1  \n",
       "hk_i:17_j:2_zone:1.0        1  \n",
       "hk_i:37_j:17_zone:1.0       1  \n",
       "hk_i:17_j:12_zone:1.0       1  "
      ]
     },
     "execution_count": 25,
     "metadata": {},
     "output_type": "execute_result"
    }
   ],
   "source": [
    "par_pp = pst.add_parameters(os.path.join(tmp_d,'hkpp.dat.tpl'), pst_path='.' )\n",
    "par_pp.head()"
   ]
  },
  {
   "cell_type": "markdown",
   "metadata": {},
   "source": [
    "Update the pilot point parameter data:"
   ]
  },
  {
   "cell_type": "code",
   "execution_count": 26,
   "metadata": {
    "execution": {
     "iopub.execute_input": "2022-07-29T08:00:38.924132Z",
     "iopub.status.busy": "2022-07-29T08:00:38.924132Z",
     "iopub.status.idle": "2022-07-29T08:00:38.950295Z",
     "shell.execute_reply": "2022-07-29T08:00:38.950295Z"
    }
   },
   "outputs": [
    {
     "data": {
      "text/html": [
       "<div>\n",
       "<style scoped>\n",
       "    .dataframe tbody tr th:only-of-type {\n",
       "        vertical-align: middle;\n",
       "    }\n",
       "\n",
       "    .dataframe tbody tr th {\n",
       "        vertical-align: top;\n",
       "    }\n",
       "\n",
       "    .dataframe thead th {\n",
       "        text-align: right;\n",
       "    }\n",
       "</style>\n",
       "<table border=\"1\" class=\"dataframe\">\n",
       "  <thead>\n",
       "    <tr style=\"text-align: right;\">\n",
       "      <th></th>\n",
       "      <th>parnme</th>\n",
       "      <th>partrans</th>\n",
       "      <th>parchglim</th>\n",
       "      <th>parval1</th>\n",
       "      <th>parlbnd</th>\n",
       "      <th>parubnd</th>\n",
       "      <th>pargp</th>\n",
       "      <th>scale</th>\n",
       "      <th>offset</th>\n",
       "      <th>extra</th>\n",
       "      <th>dercom</th>\n",
       "    </tr>\n",
       "  </thead>\n",
       "  <tbody>\n",
       "    <tr>\n",
       "      <th>ne1</th>\n",
       "      <td>ne1</td>\n",
       "      <td>fixed</td>\n",
       "      <td>factor</td>\n",
       "      <td>0.01</td>\n",
       "      <td>0.005</td>\n",
       "      <td>0.02</td>\n",
       "      <td>porosity</td>\n",
       "      <td>1.0</td>\n",
       "      <td>0.0</td>\n",
       "      <td>NaN</td>\n",
       "      <td>1.0</td>\n",
       "    </tr>\n",
       "    <tr>\n",
       "      <th>rch0</th>\n",
       "      <td>rch0</td>\n",
       "      <td>log</td>\n",
       "      <td>factor</td>\n",
       "      <td>1.00</td>\n",
       "      <td>0.500</td>\n",
       "      <td>2.00</td>\n",
       "      <td>rch</td>\n",
       "      <td>1.0</td>\n",
       "      <td>0.0</td>\n",
       "      <td>NaN</td>\n",
       "      <td>1.0</td>\n",
       "    </tr>\n",
       "    <tr>\n",
       "      <th>rch1</th>\n",
       "      <td>rch1</td>\n",
       "      <td>fixed</td>\n",
       "      <td>factor</td>\n",
       "      <td>1.00</td>\n",
       "      <td>0.500</td>\n",
       "      <td>2.00</td>\n",
       "      <td>rch</td>\n",
       "      <td>1.0</td>\n",
       "      <td>0.0</td>\n",
       "      <td>NaN</td>\n",
       "      <td>1.0</td>\n",
       "    </tr>\n",
       "    <tr>\n",
       "      <th>hk_i:2_j:12_zone:1.0</th>\n",
       "      <td>hk_i:2_j:12_zone:1.0</td>\n",
       "      <td>log</td>\n",
       "      <td>factor</td>\n",
       "      <td>5.00</td>\n",
       "      <td>0.050</td>\n",
       "      <td>500.00</td>\n",
       "      <td>hk1</td>\n",
       "      <td>1.0</td>\n",
       "      <td>0.0</td>\n",
       "      <td>NaN</td>\n",
       "      <td>1.0</td>\n",
       "    </tr>\n",
       "    <tr>\n",
       "      <th>hk_i:37_j:12_zone:1.0</th>\n",
       "      <td>hk_i:37_j:12_zone:1.0</td>\n",
       "      <td>log</td>\n",
       "      <td>factor</td>\n",
       "      <td>5.00</td>\n",
       "      <td>0.050</td>\n",
       "      <td>500.00</td>\n",
       "      <td>hk1</td>\n",
       "      <td>1.0</td>\n",
       "      <td>0.0</td>\n",
       "      <td>NaN</td>\n",
       "      <td>1.0</td>\n",
       "    </tr>\n",
       "    <tr>\n",
       "      <th>hk_i:17_j:2_zone:1.0</th>\n",
       "      <td>hk_i:17_j:2_zone:1.0</td>\n",
       "      <td>log</td>\n",
       "      <td>factor</td>\n",
       "      <td>5.00</td>\n",
       "      <td>0.050</td>\n",
       "      <td>500.00</td>\n",
       "      <td>hk1</td>\n",
       "      <td>1.0</td>\n",
       "      <td>0.0</td>\n",
       "      <td>NaN</td>\n",
       "      <td>1.0</td>\n",
       "    </tr>\n",
       "  </tbody>\n",
       "</table>\n",
       "</div>"
      ],
      "text/plain": [
       "                                      parnme partrans parchglim  parval1  \\\n",
       "ne1                                      ne1    fixed    factor     0.01   \n",
       "rch0                                    rch0      log    factor     1.00   \n",
       "rch1                                    rch1    fixed    factor     1.00   \n",
       "hk_i:2_j:12_zone:1.0    hk_i:2_j:12_zone:1.0      log    factor     5.00   \n",
       "hk_i:37_j:12_zone:1.0  hk_i:37_j:12_zone:1.0      log    factor     5.00   \n",
       "hk_i:17_j:2_zone:1.0    hk_i:17_j:2_zone:1.0      log    factor     5.00   \n",
       "\n",
       "                       parlbnd  parubnd     pargp  scale  offset  extra  \\\n",
       "ne1                      0.005     0.02  porosity    1.0     0.0    NaN   \n",
       "rch0                     0.500     2.00       rch    1.0     0.0    NaN   \n",
       "rch1                     0.500     2.00       rch    1.0     0.0    NaN   \n",
       "hk_i:2_j:12_zone:1.0     0.050   500.00       hk1    1.0     0.0    NaN   \n",
       "hk_i:37_j:12_zone:1.0    0.050   500.00       hk1    1.0     0.0    NaN   \n",
       "hk_i:17_j:2_zone:1.0     0.050   500.00       hk1    1.0     0.0    NaN   \n",
       "\n",
       "                       dercom  \n",
       "ne1                       1.0  \n",
       "rch0                      1.0  \n",
       "rch1                      1.0  \n",
       "hk_i:2_j:12_zone:1.0      1.0  \n",
       "hk_i:37_j:12_zone:1.0     1.0  \n",
       "hk_i:17_j:2_zone:1.0      1.0  "
      ]
     },
     "execution_count": 26,
     "metadata": {},
     "output_type": "execute_result"
    }
   ],
   "source": [
    "pst.parameter_data.loc[par_pp.parnme, ['parval1','parlbnd','parubnd', 'pargp']] = hk_parval, hkub, hklb, 'hk1'\n",
    "pst.parameter_data.head(6)"
   ]
  },
  {
   "cell_type": "markdown",
   "metadata": {},
   "source": [
    "## Model Pre-Processor\n",
    "We have aded the pilot point parameters to the control file, but still need to add a pre-processor to the \"model run\" bacth/script file. Currently, it only runs MODFLOW and MODPATH. We need an additional step beforehand to interpolate values fmor pilot points to model grid and assign values to model input files (as we did earlier.)\n",
    "\n",
    "Easy enough, let's write a python script file that implements the same steps we did above, as well as run MODFLOW and MODPATH.\n",
    "\n",
    "Write amodel run script, with a pre-processor:"
   ]
  },
  {
   "cell_type": "code",
   "execution_count": 27,
   "metadata": {
    "execution": {
     "iopub.execute_input": "2022-07-29T08:00:38.954321Z",
     "iopub.status.busy": "2022-07-29T08:00:38.954321Z",
     "iopub.status.idle": "2022-07-29T08:00:38.967238Z",
     "shell.execute_reply": "2022-07-29T08:00:38.966236Z"
    }
   },
   "outputs": [],
   "source": [
    "with open(os.path.join(tmp_d, \"forward_run.py\"),'w') as f:\n",
    "    #add imports\n",
    "    f.write(\"import os\\nimport shutil\\nimport pandas as pd\\nimport numpy as np\\nimport pyemu\\nimport flopy\\n\")\n",
    "    # preprocess pilot points to grid\n",
    "    f.write(\"pp_file = 'hkpp.dat'\\n\")\n",
    "    f.write(\"hk_arr = pyemu.geostats.fac2real(pp_file, factors_file=pp_file+'.fac',out_file='freyberg6.npf_k_layer1.txt')\\n\")\n",
    "    # run MF6 and MP7\n",
    "    f.write(\"pyemu.os_utils.run('mf6')\\n\")\n",
    "    f.write(\"pyemu.os_utils.run('mp7 freyberg_mp.mpsim')\\n\")"
   ]
  },
  {
   "cell_type": "markdown",
   "metadata": {},
   "source": [
    "And then make sure to update the `Pst` to reflect the new \"model run\" command:"
   ]
  },
  {
   "cell_type": "code",
   "execution_count": 28,
   "metadata": {
    "execution": {
     "iopub.execute_input": "2022-07-29T08:00:38.970261Z",
     "iopub.status.busy": "2022-07-29T08:00:38.970261Z",
     "iopub.status.idle": "2022-07-29T08:00:38.981640Z",
     "shell.execute_reply": "2022-07-29T08:00:38.981640Z"
    }
   },
   "outputs": [
    {
     "data": {
      "text/plain": [
       "['runmodel.bat']"
      ]
     },
     "execution_count": 28,
     "metadata": {},
     "output_type": "execute_result"
    }
   ],
   "source": [
    "pst.model_command "
   ]
  },
  {
   "cell_type": "code",
   "execution_count": 29,
   "metadata": {
    "execution": {
     "iopub.execute_input": "2022-07-29T08:00:38.985634Z",
     "iopub.status.busy": "2022-07-29T08:00:38.984635Z",
     "iopub.status.idle": "2022-07-29T08:00:38.998913Z",
     "shell.execute_reply": "2022-07-29T08:00:38.997910Z"
    }
   },
   "outputs": [
    {
     "data": {
      "text/plain": [
       "['python forward_run.py']"
      ]
     },
     "execution_count": 29,
     "metadata": {},
     "output_type": "execute_result"
    }
   ],
   "source": [
    "pst.model_command = ['python forward_run.py']\n",
    "pst.model_command "
   ]
  },
  {
   "cell_type": "markdown",
   "metadata": {},
   "source": [
    "Re-write and run PEST++:"
   ]
  },
  {
   "cell_type": "code",
   "execution_count": 30,
   "metadata": {
    "execution": {
     "iopub.execute_input": "2022-07-29T08:00:39.001938Z",
     "iopub.status.busy": "2022-07-29T08:00:39.001938Z",
     "iopub.status.idle": "2022-07-29T08:00:39.014381Z",
     "shell.execute_reply": "2022-07-29T08:00:39.013340Z"
    }
   },
   "outputs": [],
   "source": [
    "pst.control_data.noptmax = 0 "
   ]
  },
  {
   "cell_type": "code",
   "execution_count": 31,
   "metadata": {
    "execution": {
     "iopub.execute_input": "2022-07-29T08:00:39.017383Z",
     "iopub.status.busy": "2022-07-29T08:00:39.017383Z",
     "iopub.status.idle": "2022-07-29T08:00:39.093845Z",
     "shell.execute_reply": "2022-07-29T08:00:39.092844Z"
    }
   },
   "outputs": [
    {
     "name": "stdout",
     "output_type": "stream",
     "text": [
      "noptmax:0, npar_adj:30, nnz_obs:30\n"
     ]
    }
   ],
   "source": [
    "pst.write(os.path.join(tmp_d, 'freyberg_pp.pst'))"
   ]
  },
  {
   "cell_type": "markdown",
   "metadata": {},
   "source": [
    "Watch the terminal window where you launched this notebook to see the progress of PEST++.  Advance through the code blocks when you see a 0 returned."
   ]
  },
  {
   "cell_type": "code",
   "execution_count": 32,
   "metadata": {
    "execution": {
     "iopub.execute_input": "2022-07-29T08:00:39.097834Z",
     "iopub.status.busy": "2022-07-29T08:00:39.096836Z",
     "iopub.status.idle": "2022-07-29T08:00:42.396092Z",
     "shell.execute_reply": "2022-07-29T08:00:42.395095Z"
    }
   },
   "outputs": [],
   "source": [
    "pyemu.os_utils.run(\"pestpp-glm freyberg_pp.pst\", cwd=tmp_d)"
   ]
  },
  {
   "cell_type": "markdown",
   "metadata": {},
   "source": [
    "Check if it completed sucessfully:"
   ]
  },
  {
   "cell_type": "code",
   "execution_count": 33,
   "metadata": {
    "execution": {
     "iopub.execute_input": "2022-07-29T08:00:42.400081Z",
     "iopub.status.busy": "2022-07-29T08:00:42.400081Z",
     "iopub.status.idle": "2022-07-29T08:00:42.489144Z",
     "shell.execute_reply": "2022-07-29T08:00:42.489144Z"
    }
   },
   "outputs": [],
   "source": [
    "pst = pyemu.Pst(os.path.join(tmp_d, 'freyberg_pp.pst'))\n",
    "assert pst.phi"
   ]
  },
  {
   "cell_type": "markdown",
   "metadata": {},
   "source": [
    "Good to go. We will pick up from here in the next tutorial notebook."
   ]
  }
 ],
 "metadata": {
  "kernelspec": {
   "display_name": "Python 3.10.4 ('model')",
   "language": "python",
   "name": "python3"
  },
  "language_info": {
   "codemirror_mode": {
    "name": "ipython",
    "version": 3
   },
   "file_extension": ".py",
   "mimetype": "text/x-python",
   "name": "python",
   "nbconvert_exporter": "python",
   "pygments_lexer": "ipython3",
   "version": "3.9.13"
  },
  "vscode": {
   "interpreter": {
    "hash": "3f6547fd8d3d5a80dd8cfcb09cb19a075194db08edb65a6300dd5f19e416348d"
   }
  }
 },
 "nbformat": 4,
 "nbformat_minor": 2
}
