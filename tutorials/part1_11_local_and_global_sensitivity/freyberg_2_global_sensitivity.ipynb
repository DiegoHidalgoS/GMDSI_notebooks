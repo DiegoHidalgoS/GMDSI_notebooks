{
 "cells": [
  {
   "cell_type": "markdown",
   "metadata": {},
   "source": [
    "<img src=\"PEST++V3_cover.jpeg\" style=\"float: left\">\n",
    "\n",
    "<img src=\"flopylogo.png\" style=\"float: right\">\n",
    "\n",
    "<img src=\"AW&H2015.png\" style=\"float: center\">\n",
    "\n",
    "# Comparing Local Sensitivity to Global Sensitivity Analysis (GSA)\n",
    "\n",
    "Sensitivity methods we've looked at so far only evaluate the \"local\" sensitivity at a single set of parameter values.  For example, the Jacobian matrix represents perturbations to a single set of parameter values.  This local view can be a problem in cases when our inverse problem is nonlinear, which means the parameter sensitivities can change depending on what the parameter value is. In contrast, Global Sensitivity Analyses are statistical approaches that characterize how model parameters affect model outputs over a __wide range__ of acceptable parameter values. Because we often test a number of parameter sets during parameter estimation, GSA methods provide a more robust view of parameter sensitivity compared to traditional, derivative-based local sensitivity analysis. Some GSA methods provide general information about the variability of the sensitivities and have relatively low computational requirements, whereas others provide detailed information on nonlinear behavior and interactions between parameters at the expense of larger computational requirements. For a complete introduction to GSA theory and methods, see Saltelli and others (2004, 2008)."
   ]
  },
  {
   "cell_type": "markdown",
   "metadata": {},
   "source": [
    "### Local Sensitivity Equation\n",
    "Recall the local sensitivity equation (eq. 9.7 Anderson et al. 2015):\n",
    "\n",
    "<img src=\"Sensitivity_eq.png\" style=\"float: center\">\n",
    "\n",
    "In GSA the change in parameter is not just small perturbations (usually 1%) around the parameter value but rather spans the reasonable parameter range.  What is a reasonable range?  For convenience GSA++ uses the parameter bounds that you specify in your PEST Control File.\n",
    "\n",
    "Anothe way to look at this finite-difference approximation is:\n",
    "\n",
    "For each parameter-observation combination, we can see how much the observation value changes due to a small change in the parameter. If $y$ are the observations and $x$ are the parameters, the equation for the $i^th$ observation with respect to the $j^th$ parameter is:  \n",
    "## $\\frac{\\partial y_i}{\\partial x_j}$\n",
    "This can be approximated by finite differences as :  \n",
    "## $\\frac{\\partial y_i}{\\partial x_j}~\\frac{y\\left(x+\\Delta x \\right)-y\\left(x\\right)}{\\Delta x}$"
   ]
  },
  {
   "cell_type": "markdown",
   "metadata": {},
   "source": [
    "### But we only do this around one set of parameter values.  What if we looked at more than one set of parameters?\n",
    "\n",
    "### That's what GSA does, but lots of parameters evaluated = lots of computer time.  Luckily we can use the PEST++ engine to run GSA in parallel\n",
    "\n",
    "GSA++ is a stand-alone program distributed with the PEST++ Version 3 suite of tools that perform GSA. It leverages the PEST++ parallel run manger YAMR, and is fully compatible with PEST/PEST++ file formats, including template and instruction files. For us this means we can access the insight of GSA using parallel computing without changing our files. More GSA++ running details are provided in appendix 6 of the PEST++ V3 Techniques and Methods Report. Appendixes 7 and 8 demonstrate the use of GSA++ for a Method of Morris and Sobol example problem.  In this notebook we'll run GSA on the Freyburg model."
   ]
  },
  {
   "cell_type": "markdown",
   "metadata": {},
   "source": [
    "### Brief take on GSA Theory from the PEST++ T&M Report (Welter et al. 2015 pages 5-7):\n",
    "\n",
    "The program GSA++ currently supports two GSA methods: (1) the __Method of Morris__ (Morris, 1991), and (2) the __Method of Sobol__ (Sobol, 2001). In the class we'll focus on the Method of Morris because it is computationally more efficient. But this efficiency comes with a tradeoff: the Method of Morris only provides estimates of the mean and variance of the sensitivity distribution for each parameter. Because of the lack of complete description of the parameter nonlinearity and interactions between parameters, the Method of Morris can be used as a screening-level tool to identify the most important parameters for the observations tested. This screening can be followed by application of a more comprehensive tool, such as the Method of Sobol, which further characterizes the effects of parameter nonlinearity and inter-parameter interactions. \n",
    "\n",
    "The Method of Morris is referred to as a “one-at-a-time” method because each parameter is perturbed sequentially to compute sensitivities, which is ideally suited for parallel computing. The method samples the sensitivity of a given parameter at several locations over the range of reasonable parameter space (__defined by the parameter bounds in the PEST Control file__) and then provides two measures of parameter sensitivity: the mean (__μ__) and the standard deviation (__σ__) of the resulting sensitivity distribution. The mean, __μ__, captures the overall effect of a parameter on the model output of interest; the standard deviation, __σ__, measures a parameter’s sensitivity across the range of acceptable parameter values, this being an indicator of how nonlinear a given parameter is and (or) how the parameter interacts with other parameters. It is important to note that the Method of Morris __cannot distinguish__ between parameter nonlinearity and parameter interactions because only the standard deviation of parameter sensitivity is available. \n",
    "\n",
    "#### For the class we'll focus on the easiest way to get in the GSA game using pyemu, but this is also likely what you would start with in 95% of the models you evaluate.  For convenience, widely applicable default values are supplied for you by pyemu but can easily be changed by editing the *.gsa* file pyemu creates  (see Appendix 6 in the PEST++ V3 report for descriptions of the *.gsa* variables). \n",
    "\n",
    "### The objectives of this notebook are:\n",
    "\n",
    "1) to calculate local sensitivities for the Freyberg zone model and evaluate them\n",
    "\n",
    "2) look at the Method of Morris GSA results for the same parameters"
   ]
  },
  {
   "cell_type": "code",
   "execution_count": 1,
   "metadata": {},
   "outputs": [],
   "source": [
    "import sys\n",
    "import os\n",
    "import warnings\n",
    "warnings.filterwarnings(\"ignore\")\n",
    "warnings.filterwarnings(\"ignore\", category=DeprecationWarning) \n",
    "\n",
    "import pandas as pd\n",
    "import numpy as np\n",
    "import matplotlib.pyplot as plt;\n",
    "\n",
    "import shutil\n",
    "\n",
    "sys.path.insert(0,os.path.join(\"..\", \"..\", \"dependencies\"))\n",
    "import pyemu\n",
    "import flopy\n",
    "assert \"dependencies\" in flopy.__file__\n",
    "assert \"dependencies\" in pyemu.__file__\n",
    "sys.path.insert(0,\"..\")\n",
    "import herebedragons as hbd\n",
    "\n",
    "plt.rcParams['font.size'] = 10\n",
    "pyemu.plot_utils.font =10"
   ]
  },
  {
   "cell_type": "code",
   "execution_count": 2,
   "metadata": {},
   "outputs": [
    {
     "name": "stdout",
     "output_type": "stream",
     "text": [
      "ins file for heads.csv prepared.\n",
      "ins file for sfr.csv prepared.\n",
      "noptmax:0, npar_adj:1, nnz_obs:24\n",
      "written pest control file: freyberg_mf6\\freyberg.pst\n",
      "   could not remove start_datetime\n",
      "1 pars added from template file .\\freyberg6.sfr_perioddata_1.txt.tpl\n",
      "6 pars added from template file .\\freyberg6.wel_stress_period_data_10.txt.tpl\n",
      "0 pars added from template file .\\freyberg6.wel_stress_period_data_11.txt.tpl\n",
      "0 pars added from template file .\\freyberg6.wel_stress_period_data_12.txt.tpl\n",
      "0 pars added from template file .\\freyberg6.wel_stress_period_data_2.txt.tpl\n",
      "0 pars added from template file .\\freyberg6.wel_stress_period_data_3.txt.tpl\n",
      "0 pars added from template file .\\freyberg6.wel_stress_period_data_4.txt.tpl\n",
      "0 pars added from template file .\\freyberg6.wel_stress_period_data_5.txt.tpl\n",
      "0 pars added from template file .\\freyberg6.wel_stress_period_data_6.txt.tpl\n",
      "0 pars added from template file .\\freyberg6.wel_stress_period_data_7.txt.tpl\n",
      "0 pars added from template file .\\freyberg6.wel_stress_period_data_8.txt.tpl\n",
      "0 pars added from template file .\\freyberg6.wel_stress_period_data_9.txt.tpl\n",
      "starting interp point loop for 800 points\n",
      "took 2.014358 seconds\n",
      "1 pars dropped from template file freyberg_mf6\\freyberg6.npf_k_layer1.txt.tpl\n",
      "29 pars added from template file .\\hkpp.dat.tpl\n",
      "starting interp point loop for 800 points\n",
      "took 1.988291 seconds\n",
      "29 pars added from template file .\\rchpp.dat.tpl\n",
      "noptmax:0, npar_adj:65, nnz_obs:37\n",
      "new control file: 'freyberg_pp.pst'\n"
     ]
    }
   ],
   "source": [
    "# folder containing original model files\n",
    "org_d = os.path.join('..', '..', 'models', 'monthly_model_files_1lyr_newstress')\n",
    "# a dir to hold a copy of the org model files\n",
    "working_dir = os.path.join('freyberg_mf6')\n",
    "if os.path.exists(working_dir):\n",
    "    shutil.rmtree(working_dir)\n",
    "shutil.copytree(org_d,working_dir)\n",
    "# get executables\n",
    "hbd.prep_bins(working_dir)\n",
    "# get dependency folders\n",
    "hbd.prep_deps(working_dir)\n",
    "# run our convenience functions to prepare the PEST and model folder\n",
    "hbd.prep_pest(working_dir)\n",
    "# convenience function that builds a new control file with pilot point parameters for hk\n",
    "hbd.add_ppoints(working_dir)"
   ]
  },
  {
   "cell_type": "markdown",
   "metadata": {},
   "source": [
    "#### Let's double check what parameters we have in this version of the model using pyemu (you can just look in the PEST control file too....)"
   ]
  },
  {
   "cell_type": "code",
   "execution_count": 3,
   "metadata": {},
   "outputs": [
    {
     "name": "stdout",
     "output_type": "stream",
     "text": [
      "noptmax:0, npar_adj:66, nnz_obs:37\n"
     ]
    },
    {
     "data": {
      "text/html": [
       "<div>\n",
       "<style scoped>\n",
       "    .dataframe tbody tr th:only-of-type {\n",
       "        vertical-align: middle;\n",
       "    }\n",
       "\n",
       "    .dataframe tbody tr th {\n",
       "        vertical-align: top;\n",
       "    }\n",
       "\n",
       "    .dataframe thead th {\n",
       "        text-align: right;\n",
       "    }\n",
       "</style>\n",
       "<table border=\"1\" class=\"dataframe\">\n",
       "  <thead>\n",
       "    <tr style=\"text-align: right;\">\n",
       "      <th></th>\n",
       "      <th>parnme</th>\n",
       "      <th>partrans</th>\n",
       "      <th>parchglim</th>\n",
       "      <th>parval1</th>\n",
       "      <th>parlbnd</th>\n",
       "      <th>parubnd</th>\n",
       "      <th>pargp</th>\n",
       "      <th>scale</th>\n",
       "      <th>offset</th>\n",
       "      <th>dercom</th>\n",
       "      <th>extra</th>\n",
       "      <th>i</th>\n",
       "      <th>j</th>\n",
       "      <th>zone</th>\n",
       "    </tr>\n",
       "    <tr>\n",
       "      <th>parnme</th>\n",
       "      <th></th>\n",
       "      <th></th>\n",
       "      <th></th>\n",
       "      <th></th>\n",
       "      <th></th>\n",
       "      <th></th>\n",
       "      <th></th>\n",
       "      <th></th>\n",
       "      <th></th>\n",
       "      <th></th>\n",
       "      <th></th>\n",
       "      <th></th>\n",
       "      <th></th>\n",
       "      <th></th>\n",
       "    </tr>\n",
       "  </thead>\n",
       "  <tbody>\n",
       "    <tr>\n",
       "      <th>ne1</th>\n",
       "      <td>ne1</td>\n",
       "      <td>fixed</td>\n",
       "      <td>factor</td>\n",
       "      <td>0.01</td>\n",
       "      <td>0.005</td>\n",
       "      <td>0.02</td>\n",
       "      <td>porosity</td>\n",
       "      <td>1.0</td>\n",
       "      <td>0.0</td>\n",
       "      <td>1</td>\n",
       "      <td>NaN</td>\n",
       "      <td>NaN</td>\n",
       "      <td>NaN</td>\n",
       "      <td>NaN</td>\n",
       "    </tr>\n",
       "    <tr>\n",
       "      <th>rch0</th>\n",
       "      <td>rch0</td>\n",
       "      <td>fixed</td>\n",
       "      <td>factor</td>\n",
       "      <td>1.00</td>\n",
       "      <td>0.500</td>\n",
       "      <td>2.00</td>\n",
       "      <td>rch0</td>\n",
       "      <td>1.0</td>\n",
       "      <td>0.0</td>\n",
       "      <td>1</td>\n",
       "      <td>NaN</td>\n",
       "      <td>NaN</td>\n",
       "      <td>NaN</td>\n",
       "      <td>NaN</td>\n",
       "    </tr>\n",
       "    <tr>\n",
       "      <th>rch1</th>\n",
       "      <td>rch1</td>\n",
       "      <td>log</td>\n",
       "      <td>factor</td>\n",
       "      <td>1.00</td>\n",
       "      <td>0.500</td>\n",
       "      <td>2.00</td>\n",
       "      <td>rch1</td>\n",
       "      <td>1.0</td>\n",
       "      <td>0.0</td>\n",
       "      <td>1</td>\n",
       "      <td>NaN</td>\n",
       "      <td>NaN</td>\n",
       "      <td>NaN</td>\n",
       "      <td>NaN</td>\n",
       "    </tr>\n",
       "    <tr>\n",
       "      <th>strinf</th>\n",
       "      <td>strinf</td>\n",
       "      <td>log</td>\n",
       "      <td>factor</td>\n",
       "      <td>500.00</td>\n",
       "      <td>50.000</td>\n",
       "      <td>5000.00</td>\n",
       "      <td>strinf</td>\n",
       "      <td>1.0</td>\n",
       "      <td>0.0</td>\n",
       "      <td>1</td>\n",
       "      <td>NaN</td>\n",
       "      <td>NaN</td>\n",
       "      <td>NaN</td>\n",
       "      <td>NaN</td>\n",
       "    </tr>\n",
       "    <tr>\n",
       "      <th>wel5</th>\n",
       "      <td>wel5</td>\n",
       "      <td>log</td>\n",
       "      <td>factor</td>\n",
       "      <td>300.00</td>\n",
       "      <td>10.000</td>\n",
       "      <td>900.00</td>\n",
       "      <td>wel</td>\n",
       "      <td>-1.0</td>\n",
       "      <td>0.0</td>\n",
       "      <td>1</td>\n",
       "      <td>NaN</td>\n",
       "      <td>NaN</td>\n",
       "      <td>NaN</td>\n",
       "      <td>NaN</td>\n",
       "    </tr>\n",
       "    <tr>\n",
       "      <th>...</th>\n",
       "      <td>...</td>\n",
       "      <td>...</td>\n",
       "      <td>...</td>\n",
       "      <td>...</td>\n",
       "      <td>...</td>\n",
       "      <td>...</td>\n",
       "      <td>...</td>\n",
       "      <td>...</td>\n",
       "      <td>...</td>\n",
       "      <td>...</td>\n",
       "      <td>...</td>\n",
       "      <td>...</td>\n",
       "      <td>...</td>\n",
       "      <td>...</td>\n",
       "    </tr>\n",
       "    <tr>\n",
       "      <th>rch_i:32_j:17_zone:1.0</th>\n",
       "      <td>rch_i:32_j:17_zone:1.0</td>\n",
       "      <td>log</td>\n",
       "      <td>factor</td>\n",
       "      <td>1.00</td>\n",
       "      <td>0.500</td>\n",
       "      <td>2.00</td>\n",
       "      <td>rchpp</td>\n",
       "      <td>1.0</td>\n",
       "      <td>0.0</td>\n",
       "      <td>1</td>\n",
       "      <td>NaN</td>\n",
       "      <td>32</td>\n",
       "      <td>17</td>\n",
       "      <td>1.0</td>\n",
       "    </tr>\n",
       "    <tr>\n",
       "      <th>rch_i:27_j:17_zone:1.0</th>\n",
       "      <td>rch_i:27_j:17_zone:1.0</td>\n",
       "      <td>log</td>\n",
       "      <td>factor</td>\n",
       "      <td>1.00</td>\n",
       "      <td>0.500</td>\n",
       "      <td>2.00</td>\n",
       "      <td>rchpp</td>\n",
       "      <td>1.0</td>\n",
       "      <td>0.0</td>\n",
       "      <td>1</td>\n",
       "      <td>NaN</td>\n",
       "      <td>27</td>\n",
       "      <td>17</td>\n",
       "      <td>1.0</td>\n",
       "    </tr>\n",
       "    <tr>\n",
       "      <th>rch_i:17_j:2_zone:1.0</th>\n",
       "      <td>rch_i:17_j:2_zone:1.0</td>\n",
       "      <td>log</td>\n",
       "      <td>factor</td>\n",
       "      <td>1.00</td>\n",
       "      <td>0.500</td>\n",
       "      <td>2.00</td>\n",
       "      <td>rchpp</td>\n",
       "      <td>1.0</td>\n",
       "      <td>0.0</td>\n",
       "      <td>1</td>\n",
       "      <td>NaN</td>\n",
       "      <td>17</td>\n",
       "      <td>2</td>\n",
       "      <td>1.0</td>\n",
       "    </tr>\n",
       "    <tr>\n",
       "      <th>rch_i:2_j:2_zone:1.0</th>\n",
       "      <td>rch_i:2_j:2_zone:1.0</td>\n",
       "      <td>log</td>\n",
       "      <td>factor</td>\n",
       "      <td>1.00</td>\n",
       "      <td>0.500</td>\n",
       "      <td>2.00</td>\n",
       "      <td>rchpp</td>\n",
       "      <td>1.0</td>\n",
       "      <td>0.0</td>\n",
       "      <td>1</td>\n",
       "      <td>NaN</td>\n",
       "      <td>2</td>\n",
       "      <td>2</td>\n",
       "      <td>1.0</td>\n",
       "    </tr>\n",
       "    <tr>\n",
       "      <th>rch_i:37_j:17_zone:1.0</th>\n",
       "      <td>rch_i:37_j:17_zone:1.0</td>\n",
       "      <td>log</td>\n",
       "      <td>factor</td>\n",
       "      <td>1.00</td>\n",
       "      <td>0.500</td>\n",
       "      <td>2.00</td>\n",
       "      <td>rchpp</td>\n",
       "      <td>1.0</td>\n",
       "      <td>0.0</td>\n",
       "      <td>1</td>\n",
       "      <td>NaN</td>\n",
       "      <td>37</td>\n",
       "      <td>17</td>\n",
       "      <td>1.0</td>\n",
       "    </tr>\n",
       "  </tbody>\n",
       "</table>\n",
       "<p>68 rows × 14 columns</p>\n",
       "</div>"
      ],
      "text/plain": [
       "                                        parnme partrans parchglim  parval1  \\\n",
       "parnme                                                                       \n",
       "ne1                                        ne1    fixed    factor     0.01   \n",
       "rch0                                      rch0    fixed    factor     1.00   \n",
       "rch1                                      rch1      log    factor     1.00   \n",
       "strinf                                  strinf      log    factor   500.00   \n",
       "wel5                                      wel5      log    factor   300.00   \n",
       "...                                        ...      ...       ...      ...   \n",
       "rch_i:32_j:17_zone:1.0  rch_i:32_j:17_zone:1.0      log    factor     1.00   \n",
       "rch_i:27_j:17_zone:1.0  rch_i:27_j:17_zone:1.0      log    factor     1.00   \n",
       "rch_i:17_j:2_zone:1.0    rch_i:17_j:2_zone:1.0      log    factor     1.00   \n",
       "rch_i:2_j:2_zone:1.0      rch_i:2_j:2_zone:1.0      log    factor     1.00   \n",
       "rch_i:37_j:17_zone:1.0  rch_i:37_j:17_zone:1.0      log    factor     1.00   \n",
       "\n",
       "                        parlbnd  parubnd     pargp  scale  offset dercom  \\\n",
       "parnme                                                                     \n",
       "ne1                       0.005     0.02  porosity    1.0     0.0      1   \n",
       "rch0                      0.500     2.00      rch0    1.0     0.0      1   \n",
       "rch1                      0.500     2.00      rch1    1.0     0.0      1   \n",
       "strinf                   50.000  5000.00    strinf    1.0     0.0      1   \n",
       "wel5                     10.000   900.00       wel   -1.0     0.0      1   \n",
       "...                         ...      ...       ...    ...     ...    ...   \n",
       "rch_i:32_j:17_zone:1.0    0.500     2.00     rchpp    1.0     0.0      1   \n",
       "rch_i:27_j:17_zone:1.0    0.500     2.00     rchpp    1.0     0.0      1   \n",
       "rch_i:17_j:2_zone:1.0     0.500     2.00     rchpp    1.0     0.0      1   \n",
       "rch_i:2_j:2_zone:1.0      0.500     2.00     rchpp    1.0     0.0      1   \n",
       "rch_i:37_j:17_zone:1.0    0.500     2.00     rchpp    1.0     0.0      1   \n",
       "\n",
       "                        extra    i    j zone  \n",
       "parnme                                        \n",
       "ne1                       NaN  NaN  NaN  NaN  \n",
       "rch0                      NaN  NaN  NaN  NaN  \n",
       "rch1                      NaN  NaN  NaN  NaN  \n",
       "strinf                    NaN  NaN  NaN  NaN  \n",
       "wel5                      NaN  NaN  NaN  NaN  \n",
       "...                       ...  ...  ...  ...  \n",
       "rch_i:32_j:17_zone:1.0    NaN   32   17  1.0  \n",
       "rch_i:27_j:17_zone:1.0    NaN   27   17  1.0  \n",
       "rch_i:17_j:2_zone:1.0     NaN   17    2  1.0  \n",
       "rch_i:2_j:2_zone:1.0      NaN    2    2  1.0  \n",
       "rch_i:37_j:17_zone:1.0    NaN   37   17  1.0  \n",
       "\n",
       "[68 rows x 14 columns]"
      ]
     },
     "execution_count": 3,
     "metadata": {},
     "output_type": "execute_result"
    }
   ],
   "source": [
    "pst_name = \"freyberg_pp.pst\"\n",
    "\n",
    "pst = pyemu.Pst(os.path.join(working_dir,pst_name))\n",
    "\n",
    "#update paramter transform\n",
    "par = pst.parameter_data\n",
    "#par.loc['rch0', 'partrans'] = 'log'\n",
    "par.loc['rch1', 'partrans'] = 'log'\n",
    "#par.loc[par.pargp=='rchpp', 'partrans'] = 'fixed'\n",
    "#par.loc[par.pargp=='strinf', 'partrans'] = 'fixed'\n",
    "#par.loc[par.pargp=='wel', 'partrans'] = 'fixed'\n",
    "# write\n",
    "pst.write(os.path.join(working_dir, pst_name))\n",
    "\n",
    "pst.parameter_data"
   ]
  },
  {
   "cell_type": "markdown",
   "metadata": {},
   "source": [
    "# It's the zone version of the Freyberg model.  \n",
    "\n",
    "### We'll be comparing local vs global sensitivity so we have to calculate both.  \n",
    "\n",
    "# 1) Local Sensitivity\n",
    "\n",
    "First Let's calculate a single Jacobian by changing the NOPTMAX = -2.  This will need npar+1 runs, or 10+1 = 11 runs. The Jacobian matrix we get is the local-scale sensitivity information"
   ]
  },
  {
   "cell_type": "code",
   "execution_count": 4,
   "metadata": {},
   "outputs": [
    {
     "name": "stdout",
     "output_type": "stream",
     "text": [
      "noptmax:-2, npar_adj:66, nnz_obs:37\n"
     ]
    }
   ],
   "source": [
    "pst = pyemu.Pst(os.path.join(working_dir,pst_name))\n",
    "pst.control_data.noptmax = -2\n",
    "pst.write(os.path.join(working_dir,pst_name))"
   ]
  },
  {
   "cell_type": "code",
   "execution_count": 5,
   "metadata": {},
   "outputs": [],
   "source": [
    "num_workers = 10\n",
    "m_d = 'master_gsa'\n",
    "pyemu.os_utils.start_workers(working_dir, # the folder which contains the \"template\" PEST dataset\n",
    "                            'pestpp-glm', #the PEST software version we want to run\n",
    "                            pst_name, # the control file to use with PEST\n",
    "                            num_workers=num_workers, #how many agents to deploy\n",
    "                            worker_root='.', #where to deploy the agent directories; relative to where python is running\n",
    "                            master_dir=m_d, #the manager directory\n",
    "                            )"
   ]
  },
  {
   "cell_type": "markdown",
   "metadata": {},
   "source": [
    "#### Let's echo out the working directory in case you want to look at the files that were just created..."
   ]
  },
  {
   "cell_type": "code",
   "execution_count": 6,
   "metadata": {},
   "outputs": [
    {
     "data": {
      "text/plain": [
       "'d:\\\\Workspace\\\\hugm0001\\\\github\\\\GMDSI_notebooks_fork\\\\tutorials\\\\part1_xx3_global_sensitivity'"
      ]
     },
     "execution_count": 6,
     "metadata": {},
     "output_type": "execute_result"
    }
   ],
   "source": [
    "os.getcwd()"
   ]
  },
  {
   "cell_type": "markdown",
   "metadata": {},
   "source": [
    "### Okay, let's examing the *local sensitivities* by looking at the local gradients of parameters with respect to observations (the Jacobian matrix from the PEST++ NOPTMAX = -2 run)\n",
    "\n",
    "We'll use pyemu to do this:"
   ]
  },
  {
   "cell_type": "code",
   "execution_count": 7,
   "metadata": {},
   "outputs": [
    {
     "data": {
      "text/html": [
       "<div>\n",
       "<style scoped>\n",
       "    .dataframe tbody tr th:only-of-type {\n",
       "        vertical-align: middle;\n",
       "    }\n",
       "\n",
       "    .dataframe tbody tr th {\n",
       "        vertical-align: top;\n",
       "    }\n",
       "\n",
       "    .dataframe thead th {\n",
       "        text-align: right;\n",
       "    }\n",
       "</style>\n",
       "<table border=\"1\" class=\"dataframe\">\n",
       "  <thead>\n",
       "    <tr style=\"text-align: right;\">\n",
       "      <th></th>\n",
       "      <th>rch1</th>\n",
       "      <th>strinf</th>\n",
       "      <th>wel5</th>\n",
       "      <th>wel2</th>\n",
       "      <th>wel4</th>\n",
       "      <th>wel3</th>\n",
       "      <th>wel1</th>\n",
       "      <th>wel0</th>\n",
       "      <th>hk_i:7_j:17_zone:1.0</th>\n",
       "      <th>hk_i:27_j:7_zone:1.0</th>\n",
       "      <th>...</th>\n",
       "      <th>rch_i:27_j:12_zone:1.0</th>\n",
       "      <th>rch_i:12_j:2_zone:1.0</th>\n",
       "      <th>rch_i:37_j:7_zone:1.0</th>\n",
       "      <th>rch_i:22_j:7_zone:1.0</th>\n",
       "      <th>rch_i:27_j:2_zone:1.0</th>\n",
       "      <th>rch_i:32_j:17_zone:1.0</th>\n",
       "      <th>rch_i:27_j:17_zone:1.0</th>\n",
       "      <th>rch_i:17_j:2_zone:1.0</th>\n",
       "      <th>rch_i:2_j:2_zone:1.0</th>\n",
       "      <th>rch_i:37_j:17_zone:1.0</th>\n",
       "    </tr>\n",
       "  </thead>\n",
       "  <tbody>\n",
       "    <tr>\n",
       "      <th>gage-1:3652.5</th>\n",
       "      <td>0.0</td>\n",
       "      <td>1120.270879</td>\n",
       "      <td>0.000000</td>\n",
       "      <td>0.000000</td>\n",
       "      <td>0.000000</td>\n",
       "      <td>0.000000</td>\n",
       "      <td>0.000000</td>\n",
       "      <td>0.000000</td>\n",
       "      <td>10.044133</td>\n",
       "      <td>20.087258</td>\n",
       "      <td>...</td>\n",
       "      <td>227.072405</td>\n",
       "      <td>173.196462</td>\n",
       "      <td>98.946512</td>\n",
       "      <td>201.792497</td>\n",
       "      <td>171.733547</td>\n",
       "      <td>220.487806</td>\n",
       "      <td>239.371835</td>\n",
       "      <td>169.624779</td>\n",
       "      <td>197.846215</td>\n",
       "      <td>125.884552</td>\n",
       "    </tr>\n",
       "    <tr>\n",
       "      <th>gage-1:3683.5</th>\n",
       "      <td>0.0</td>\n",
       "      <td>1144.361274</td>\n",
       "      <td>-120.824878</td>\n",
       "      <td>-243.792499</td>\n",
       "      <td>-15.308866</td>\n",
       "      <td>-63.328247</td>\n",
       "      <td>-167.669361</td>\n",
       "      <td>-241.879117</td>\n",
       "      <td>9.251224</td>\n",
       "      <td>21.790456</td>\n",
       "      <td>...</td>\n",
       "      <td>245.759428</td>\n",
       "      <td>187.093069</td>\n",
       "      <td>104.070669</td>\n",
       "      <td>214.076948</td>\n",
       "      <td>178.352181</td>\n",
       "      <td>240.753192</td>\n",
       "      <td>262.919417</td>\n",
       "      <td>181.377647</td>\n",
       "      <td>219.383469</td>\n",
       "      <td>138.164313</td>\n",
       "    </tr>\n",
       "    <tr>\n",
       "      <th>gage-1:3712.5</th>\n",
       "      <td>0.0</td>\n",
       "      <td>1149.171568</td>\n",
       "      <td>-208.255099</td>\n",
       "      <td>-361.950602</td>\n",
       "      <td>-42.397402</td>\n",
       "      <td>-134.286346</td>\n",
       "      <td>-283.110736</td>\n",
       "      <td>-372.891340</td>\n",
       "      <td>14.771098</td>\n",
       "      <td>21.938663</td>\n",
       "      <td>...</td>\n",
       "      <td>278.008231</td>\n",
       "      <td>191.520864</td>\n",
       "      <td>110.314571</td>\n",
       "      <td>225.208509</td>\n",
       "      <td>181.892606</td>\n",
       "      <td>282.870630</td>\n",
       "      <td>306.097886</td>\n",
       "      <td>185.631787</td>\n",
       "      <td>225.147437</td>\n",
       "      <td>165.451984</td>\n",
       "    </tr>\n",
       "    <tr>\n",
       "      <th>gage-1:3743.5</th>\n",
       "      <td>0.0</td>\n",
       "      <td>1152.525457</td>\n",
       "      <td>-269.555554</td>\n",
       "      <td>-434.848044</td>\n",
       "      <td>-77.830036</td>\n",
       "      <td>-201.182368</td>\n",
       "      <td>-365.438861</td>\n",
       "      <td>-455.575631</td>\n",
       "      <td>22.803051</td>\n",
       "      <td>23.318443</td>\n",
       "      <td>...</td>\n",
       "      <td>317.089581</td>\n",
       "      <td>197.967518</td>\n",
       "      <td>120.371654</td>\n",
       "      <td>243.734795</td>\n",
       "      <td>188.181135</td>\n",
       "      <td>331.992336</td>\n",
       "      <td>357.641690</td>\n",
       "      <td>191.958304</td>\n",
       "      <td>233.585957</td>\n",
       "      <td>195.140729</td>\n",
       "    </tr>\n",
       "    <tr>\n",
       "      <th>gage-1:3773.5</th>\n",
       "      <td>0.0</td>\n",
       "      <td>1153.402937</td>\n",
       "      <td>-310.231299</td>\n",
       "      <td>-483.416828</td>\n",
       "      <td>-113.758463</td>\n",
       "      <td>-255.387502</td>\n",
       "      <td>-424.120710</td>\n",
       "      <td>-509.916327</td>\n",
       "      <td>28.336116</td>\n",
       "      <td>25.258422</td>\n",
       "      <td>...</td>\n",
       "      <td>345.761227</td>\n",
       "      <td>205.032819</td>\n",
       "      <td>130.602200</td>\n",
       "      <td>263.589079</td>\n",
       "      <td>196.353881</td>\n",
       "      <td>364.964156</td>\n",
       "      <td>393.608459</td>\n",
       "      <td>198.936449</td>\n",
       "      <td>243.462682</td>\n",
       "      <td>213.084043</td>\n",
       "    </tr>\n",
       "  </tbody>\n",
       "</table>\n",
       "<p>5 rows × 66 columns</p>\n",
       "</div>"
      ],
      "text/plain": [
       "               rch1       strinf        wel5        wel2        wel4  \\\n",
       "gage-1:3652.5   0.0  1120.270879    0.000000    0.000000    0.000000   \n",
       "gage-1:3683.5   0.0  1144.361274 -120.824878 -243.792499  -15.308866   \n",
       "gage-1:3712.5   0.0  1149.171568 -208.255099 -361.950602  -42.397402   \n",
       "gage-1:3743.5   0.0  1152.525457 -269.555554 -434.848044  -77.830036   \n",
       "gage-1:3773.5   0.0  1153.402937 -310.231299 -483.416828 -113.758463   \n",
       "\n",
       "                     wel3        wel1        wel0  hk_i:7_j:17_zone:1.0  \\\n",
       "gage-1:3652.5    0.000000    0.000000    0.000000             10.044133   \n",
       "gage-1:3683.5  -63.328247 -167.669361 -241.879117              9.251224   \n",
       "gage-1:3712.5 -134.286346 -283.110736 -372.891340             14.771098   \n",
       "gage-1:3743.5 -201.182368 -365.438861 -455.575631             22.803051   \n",
       "gage-1:3773.5 -255.387502 -424.120710 -509.916327             28.336116   \n",
       "\n",
       "               hk_i:27_j:7_zone:1.0  ...  rch_i:27_j:12_zone:1.0  \\\n",
       "gage-1:3652.5             20.087258  ...              227.072405   \n",
       "gage-1:3683.5             21.790456  ...              245.759428   \n",
       "gage-1:3712.5             21.938663  ...              278.008231   \n",
       "gage-1:3743.5             23.318443  ...              317.089581   \n",
       "gage-1:3773.5             25.258422  ...              345.761227   \n",
       "\n",
       "               rch_i:12_j:2_zone:1.0  rch_i:37_j:7_zone:1.0  \\\n",
       "gage-1:3652.5             173.196462              98.946512   \n",
       "gage-1:3683.5             187.093069             104.070669   \n",
       "gage-1:3712.5             191.520864             110.314571   \n",
       "gage-1:3743.5             197.967518             120.371654   \n",
       "gage-1:3773.5             205.032819             130.602200   \n",
       "\n",
       "               rch_i:22_j:7_zone:1.0  rch_i:27_j:2_zone:1.0  \\\n",
       "gage-1:3652.5             201.792497             171.733547   \n",
       "gage-1:3683.5             214.076948             178.352181   \n",
       "gage-1:3712.5             225.208509             181.892606   \n",
       "gage-1:3743.5             243.734795             188.181135   \n",
       "gage-1:3773.5             263.589079             196.353881   \n",
       "\n",
       "               rch_i:32_j:17_zone:1.0  rch_i:27_j:17_zone:1.0  \\\n",
       "gage-1:3652.5              220.487806              239.371835   \n",
       "gage-1:3683.5              240.753192              262.919417   \n",
       "gage-1:3712.5              282.870630              306.097886   \n",
       "gage-1:3743.5              331.992336              357.641690   \n",
       "gage-1:3773.5              364.964156              393.608459   \n",
       "\n",
       "               rch_i:17_j:2_zone:1.0  rch_i:2_j:2_zone:1.0  \\\n",
       "gage-1:3652.5             169.624779            197.846215   \n",
       "gage-1:3683.5             181.377647            219.383469   \n",
       "gage-1:3712.5             185.631787            225.147437   \n",
       "gage-1:3743.5             191.958304            233.585957   \n",
       "gage-1:3773.5             198.936449            243.462682   \n",
       "\n",
       "               rch_i:37_j:17_zone:1.0  \n",
       "gage-1:3652.5              125.884552  \n",
       "gage-1:3683.5              138.164313  \n",
       "gage-1:3712.5              165.451984  \n",
       "gage-1:3743.5              195.140729  \n",
       "gage-1:3773.5              213.084043  \n",
       "\n",
       "[5 rows x 66 columns]"
      ]
     },
     "execution_count": 7,
     "metadata": {},
     "output_type": "execute_result"
    }
   ],
   "source": [
    "jco = pyemu.Jco.from_binary(os.path.join(m_d,pst_name.replace(\".pst\",\".jcb\")))\n",
    "jco_df = jco.to_dataframe()\n",
    "\n",
    "jco_df = jco_df.loc[pst.nnz_obs_names,:]\n",
    "jco_df.head()"
   ]
  },
  {
   "cell_type": "markdown",
   "metadata": {},
   "source": [
    "we can see that some parameters (rch_0) has a large effect on the observations used for calibration.  The future recharge (rch_1) has no effect on the calibration observations, but that makes sense as none of the calibration observations are in that future stress period!"
   ]
  },
  {
   "cell_type": "markdown",
   "metadata": {},
   "source": [
    "# How about Composite Scaled Sensitivities\n",
    "As can be seen above, parameter sensitivity for any given parameter is split among all the observations in the Jacobian matrix, but the parameter sensitivity that is most important for parameter estimation is the *total* parameter sensitivity, which reflects contributions from all the observations.  \n",
    "\n",
    "How to sum the individual sensitivities in the Jacobian matrix in the most meaningful way?  In the traditional, overdetermined regression world, CSS was a popular metric. CSS is Composite Scaled Sensitivitity. It sums the observation *weighted* sensitivity to report a single number for each parameter.\n",
    "\n",
    "In Hill and Tiedeman (2007) this is calculated as: \n",
    "## ${css_{j}=\\sqrt{\\left(\\sum_{i-1}^{ND}\\left(\\frac{\\partial y'_{i}}{\\partial b_{j}}\\right)\\left|b_{j}\\right|\\sqrt{w_{ii}}\\right)/ND}}$\n",
    "\n",
    "In PEST and PEST++, John Doherty calculates it slightly differently in that scaling by the parameter values happens automatically when the parameter is subjected to a log-transform (and we can see above that all our parameters are logged). This is due to a correction that must be made in calculating the Jacobian matrix and follows from the chain rule of derivatives.  Seems somewhat academic, but let's compare the two:\n"
   ]
  },
  {
   "cell_type": "code",
   "execution_count": 8,
   "metadata": {},
   "outputs": [
    {
     "data": {
      "text/html": [
       "<div>\n",
       "<style scoped>\n",
       "    .dataframe tbody tr th:only-of-type {\n",
       "        vertical-align: middle;\n",
       "    }\n",
       "\n",
       "    .dataframe tbody tr th {\n",
       "        vertical-align: top;\n",
       "    }\n",
       "\n",
       "    .dataframe thead th {\n",
       "        text-align: right;\n",
       "    }\n",
       "</style>\n",
       "<table border=\"1\" class=\"dataframe\">\n",
       "  <thead>\n",
       "    <tr style=\"text-align: right;\">\n",
       "      <th></th>\n",
       "      <th>pest_css</th>\n",
       "      <th>hill_css</th>\n",
       "    </tr>\n",
       "  </thead>\n",
       "  <tbody>\n",
       "    <tr>\n",
       "      <th>rch1</th>\n",
       "      <td>0.000000</td>\n",
       "      <td>0.000000</td>\n",
       "    </tr>\n",
       "    <tr>\n",
       "      <th>strinf</th>\n",
       "      <td>0.556815</td>\n",
       "      <td>0.040617</td>\n",
       "    </tr>\n",
       "    <tr>\n",
       "      <th>wel5</th>\n",
       "      <td>0.156967</td>\n",
       "      <td>NaN</td>\n",
       "    </tr>\n",
       "    <tr>\n",
       "      <th>wel2</th>\n",
       "      <td>0.235268</td>\n",
       "      <td>NaN</td>\n",
       "    </tr>\n",
       "    <tr>\n",
       "      <th>wel4</th>\n",
       "      <td>0.130818</td>\n",
       "      <td>NaN</td>\n",
       "    </tr>\n",
       "    <tr>\n",
       "      <th>...</th>\n",
       "      <td>...</td>\n",
       "      <td>...</td>\n",
       "    </tr>\n",
       "    <tr>\n",
       "      <th>rch_i:32_j:17_zone:1.0</th>\n",
       "      <td>0.127119</td>\n",
       "      <td>0.000000</td>\n",
       "    </tr>\n",
       "    <tr>\n",
       "      <th>rch_i:27_j:17_zone:1.0</th>\n",
       "      <td>0.139244</td>\n",
       "      <td>0.000000</td>\n",
       "    </tr>\n",
       "    <tr>\n",
       "      <th>rch_i:17_j:2_zone:1.0</th>\n",
       "      <td>0.111634</td>\n",
       "      <td>0.000000</td>\n",
       "    </tr>\n",
       "    <tr>\n",
       "      <th>rch_i:2_j:2_zone:1.0</th>\n",
       "      <td>0.153943</td>\n",
       "      <td>0.000000</td>\n",
       "    </tr>\n",
       "    <tr>\n",
       "      <th>rch_i:37_j:17_zone:1.0</th>\n",
       "      <td>0.072380</td>\n",
       "      <td>0.000000</td>\n",
       "    </tr>\n",
       "  </tbody>\n",
       "</table>\n",
       "<p>66 rows × 2 columns</p>\n",
       "</div>"
      ],
      "text/plain": [
       "                        pest_css  hill_css\n",
       "rch1                    0.000000  0.000000\n",
       "strinf                  0.556815  0.040617\n",
       "wel5                    0.156967       NaN\n",
       "wel2                    0.235268       NaN\n",
       "wel4                    0.130818       NaN\n",
       "...                          ...       ...\n",
       "rch_i:32_j:17_zone:1.0  0.127119  0.000000\n",
       "rch_i:27_j:17_zone:1.0  0.139244  0.000000\n",
       "rch_i:17_j:2_zone:1.0   0.111634  0.000000\n",
       "rch_i:2_j:2_zone:1.0    0.153943  0.000000\n",
       "rch_i:37_j:17_zone:1.0  0.072380  0.000000\n",
       "\n",
       "[66 rows x 2 columns]"
      ]
     },
     "execution_count": 8,
     "metadata": {},
     "output_type": "execute_result"
    }
   ],
   "source": [
    "sc = pyemu.Schur(jco=os.path.join(m_d,pst_name.replace(\".pst\",\".jcb\")))\n",
    "css_df = sc.get_par_css_dataframe()\n",
    "css_df"
   ]
  },
  {
   "cell_type": "markdown",
   "metadata": {},
   "source": [
    "## Hmm, the relative ranks agree between the two...OOPS! Check out rch_0!  We can see from the Jacobian print out above that rch_0 is the *most* sensitive, but the CSS statistics don't  both say that!  Why might this be?\n",
    "\n",
    "hint: what is the initial value of rch_0?  What is the log of that initial value?  \n",
    "\n",
    "##  Okay, let's look at just the PEST CSS and rank/plot it:"
   ]
  },
  {
   "cell_type": "code",
   "execution_count": 9,
   "metadata": {},
   "outputs": [
    {
     "data": {
      "image/png": "[encoded data removed]",
      "text/plain": [
       "<Figure size 864x216 with 1 Axes>"
      ]
     },
     "metadata": {
      "needs_background": "light"
     },
     "output_type": "display_data"
    }
   ],
   "source": [
    "plt.figure(figsize=(12,3))\n",
    "ax = css_df['pest_css'].sort_values(ascending=False).plot(kind='bar')\n",
    "ax.set_yscale('log')"
   ]
  },
  {
   "cell_type": "markdown",
   "metadata": {},
   "source": [
    "# So how do these parameter sensitivities affect the forecasts?  \n",
    "\n",
    "###  Recall that the sensitivity is calculated by differencing the two model outputs, so any model output can have a sensitivity calculated even if we don't have a measured value.  So, because we included the forecasts as observations we have sensitivities for them in our Jacobian matrix.  Let's use pyemu to pull just these forecasts...."
   ]
  },
  {
   "cell_type": "code",
   "execution_count": 10,
   "metadata": {},
   "outputs": [
    {
     "data": {
      "text/html": [
       "<div>\n",
       "<style scoped>\n",
       "    .dataframe tbody tr th:only-of-type {\n",
       "        vertical-align: middle;\n",
       "    }\n",
       "\n",
       "    .dataframe tbody tr th {\n",
       "        vertical-align: top;\n",
       "    }\n",
       "\n",
       "    .dataframe thead th {\n",
       "        text-align: right;\n",
       "    }\n",
       "</style>\n",
       "<table border=\"1\" class=\"dataframe\">\n",
       "  <thead>\n",
       "    <tr style=\"text-align: right;\">\n",
       "      <th></th>\n",
       "      <th>headwater:4383.5</th>\n",
       "      <th>tailwater:4383.5</th>\n",
       "      <th>trgw-0-9-1:4383.5</th>\n",
       "      <th>part_time</th>\n",
       "    </tr>\n",
       "  </thead>\n",
       "  <tbody>\n",
       "    <tr>\n",
       "      <th>rch1</th>\n",
       "      <td>-2091.812821</td>\n",
       "      <td>-1539.075668</td>\n",
       "      <td>5.172705</td>\n",
       "      <td>-401.726184</td>\n",
       "    </tr>\n",
       "    <tr>\n",
       "      <th>strinf</th>\n",
       "      <td>2.990537</td>\n",
       "      <td>8.439942</td>\n",
       "      <td>0.030474</td>\n",
       "      <td>-18.054907</td>\n",
       "    </tr>\n",
       "    <tr>\n",
       "      <th>wel5</th>\n",
       "      <td>10.105829</td>\n",
       "      <td>21.877808</td>\n",
       "      <td>-0.043456</td>\n",
       "      <td>-47.648042</td>\n",
       "    </tr>\n",
       "    <tr>\n",
       "      <th>wel2</th>\n",
       "      <td>14.339045</td>\n",
       "      <td>14.365979</td>\n",
       "      <td>-0.043940</td>\n",
       "      <td>-20.061676</td>\n",
       "    </tr>\n",
       "    <tr>\n",
       "      <th>wel4</th>\n",
       "      <td>34.932376</td>\n",
       "      <td>65.335448</td>\n",
       "      <td>-0.187389</td>\n",
       "      <td>-163.591264</td>\n",
       "    </tr>\n",
       "  </tbody>\n",
       "</table>\n",
       "</div>"
      ],
      "text/plain": [
       "        headwater:4383.5  tailwater:4383.5  trgw-0-9-1:4383.5   part_time\n",
       "rch1        -2091.812821      -1539.075668           5.172705 -401.726184\n",
       "strinf          2.990537          8.439942           0.030474  -18.054907\n",
       "wel5           10.105829         21.877808          -0.043456  -47.648042\n",
       "wel2           14.339045         14.365979          -0.043940  -20.061676\n",
       "wel4           34.932376         65.335448          -0.187389 -163.591264"
      ]
     },
     "execution_count": 10,
     "metadata": {},
     "output_type": "execute_result"
    }
   ],
   "source": [
    "jco_fore_df = sc.forecasts.to_dataframe()\n",
    "jco_fore_df.head()"
   ]
  },
  {
   "cell_type": "markdown",
   "metadata": {},
   "source": [
    "## Note that porosity is 0.000 except for the travel time forecast, which makes sense.  \n",
    "\n",
    "### Perhaps less obvious is rch_0 - why does it have sensitivity when all the forecasts are in the period that has rch_1 recharge? \n",
    "\n",
    "### Now let's consider posterior covariance "
   ]
  },
  {
   "cell_type": "code",
   "execution_count": 32,
   "metadata": {},
   "outputs": [
    {
     "data": {
      "text/html": [
       "<div>\n",
       "<style scoped>\n",
       "    .dataframe tbody tr th:only-of-type {\n",
       "        vertical-align: middle;\n",
       "    }\n",
       "\n",
       "    .dataframe tbody tr th {\n",
       "        vertical-align: top;\n",
       "    }\n",
       "\n",
       "    .dataframe thead th {\n",
       "        text-align: right;\n",
       "    }\n",
       "</style>\n",
       "<table border=\"1\" class=\"dataframe\">\n",
       "  <thead>\n",
       "    <tr style=\"text-align: right;\">\n",
       "      <th></th>\n",
       "      <th>rch1</th>\n",
       "      <th>strinf</th>\n",
       "      <th>wel5</th>\n",
       "      <th>wel2</th>\n",
       "      <th>wel4</th>\n",
       "      <th>wel3</th>\n",
       "      <th>wel1</th>\n",
       "      <th>wel0</th>\n",
       "      <th>hk_i:7_j:17_zone:1.0</th>\n",
       "      <th>hk_i:27_j:7_zone:1.0</th>\n",
       "      <th>...</th>\n",
       "      <th>rch_i:27_j:12_zone:1.0</th>\n",
       "      <th>rch_i:12_j:2_zone:1.0</th>\n",
       "      <th>rch_i:37_j:7_zone:1.0</th>\n",
       "      <th>rch_i:22_j:7_zone:1.0</th>\n",
       "      <th>rch_i:27_j:2_zone:1.0</th>\n",
       "      <th>rch_i:32_j:17_zone:1.0</th>\n",
       "      <th>rch_i:27_j:17_zone:1.0</th>\n",
       "      <th>rch_i:17_j:2_zone:1.0</th>\n",
       "      <th>rch_i:2_j:2_zone:1.0</th>\n",
       "      <th>rch_i:37_j:17_zone:1.0</th>\n",
       "    </tr>\n",
       "  </thead>\n",
       "  <tbody>\n",
       "    <tr>\n",
       "      <th>rch1</th>\n",
       "      <td>3.310813e-52</td>\n",
       "      <td>5.616738e-53</td>\n",
       "      <td>-5.715799e-54</td>\n",
       "      <td>-6.630929e-54</td>\n",
       "      <td>-1.285323e-53</td>\n",
       "      <td>-1.127573e-53</td>\n",
       "      <td>-9.227413e-54</td>\n",
       "      <td>-6.368659e-54</td>\n",
       "      <td>4.129115e-55</td>\n",
       "      <td>-2.603127e-54</td>\n",
       "      <td>...</td>\n",
       "      <td>3.848684e-54</td>\n",
       "      <td>1.210124e-53</td>\n",
       "      <td>3.083079e-54</td>\n",
       "      <td>6.703012e-54</td>\n",
       "      <td>9.151096e-54</td>\n",
       "      <td>1.425093e-54</td>\n",
       "      <td>1.824036e-54</td>\n",
       "      <td>1.145960e-53</td>\n",
       "      <td>1.276891e-53</td>\n",
       "      <td>6.944860e-55</td>\n",
       "    </tr>\n",
       "    <tr>\n",
       "      <th>strinf</th>\n",
       "      <td>5.616738e-53</td>\n",
       "      <td>4.244482e+02</td>\n",
       "      <td>-1.107656e+02</td>\n",
       "      <td>-1.681681e+02</td>\n",
       "      <td>-6.071951e+01</td>\n",
       "      <td>-1.053190e+02</td>\n",
       "      <td>-1.547466e+02</td>\n",
       "      <td>-1.758415e+02</td>\n",
       "      <td>5.939708e-01</td>\n",
       "      <td>8.262696e+00</td>\n",
       "      <td>...</td>\n",
       "      <td>9.466655e+01</td>\n",
       "      <td>7.606745e+01</td>\n",
       "      <td>4.254819e+01</td>\n",
       "      <td>8.792567e+01</td>\n",
       "      <td>7.401507e+01</td>\n",
       "      <td>8.932119e+01</td>\n",
       "      <td>9.865193e+01</td>\n",
       "      <td>7.379336e+01</td>\n",
       "      <td>9.099092e+01</td>\n",
       "      <td>5.017724e+01</td>\n",
       "    </tr>\n",
       "    <tr>\n",
       "      <th>wel5</th>\n",
       "      <td>-5.715799e-54</td>\n",
       "      <td>-1.107656e+02</td>\n",
       "      <td>3.373046e+01</td>\n",
       "      <td>5.037216e+01</td>\n",
       "      <td>2.104357e+01</td>\n",
       "      <td>3.380922e+01</td>\n",
       "      <td>4.679896e+01</td>\n",
       "      <td>5.249801e+01</td>\n",
       "      <td>2.209543e-01</td>\n",
       "      <td>-1.159244e+00</td>\n",
       "      <td>...</td>\n",
       "      <td>-2.491497e+01</td>\n",
       "      <td>-2.082368e+01</td>\n",
       "      <td>-1.163345e+01</td>\n",
       "      <td>-2.420650e+01</td>\n",
       "      <td>-2.110747e+01</td>\n",
       "      <td>-2.270078e+01</td>\n",
       "      <td>-2.523905e+01</td>\n",
       "      <td>-2.049266e+01</td>\n",
       "      <td>-2.458093e+01</td>\n",
       "      <td>-1.262280e+01</td>\n",
       "    </tr>\n",
       "    <tr>\n",
       "      <th>wel2</th>\n",
       "      <td>-6.630929e-54</td>\n",
       "      <td>-1.681681e+02</td>\n",
       "      <td>5.037216e+01</td>\n",
       "      <td>7.577527e+01</td>\n",
       "      <td>2.955021e+01</td>\n",
       "      <td>4.926207e+01</td>\n",
       "      <td>7.017748e+01</td>\n",
       "      <td>7.913078e+01</td>\n",
       "      <td>1.911498e-01</td>\n",
       "      <td>-2.641769e+00</td>\n",
       "      <td>...</td>\n",
       "      <td>-3.788193e+01</td>\n",
       "      <td>-3.117218e+01</td>\n",
       "      <td>-1.742603e+01</td>\n",
       "      <td>-3.617201e+01</td>\n",
       "      <td>-3.093589e+01</td>\n",
       "      <td>-3.503154e+01</td>\n",
       "      <td>-3.887668e+01</td>\n",
       "      <td>-3.042499e+01</td>\n",
       "      <td>-3.719452e+01</td>\n",
       "      <td>-1.953212e+01</td>\n",
       "    </tr>\n",
       "    <tr>\n",
       "      <th>wel4</th>\n",
       "      <td>-1.285323e-53</td>\n",
       "      <td>-6.071951e+01</td>\n",
       "      <td>2.104357e+01</td>\n",
       "      <td>2.955021e+01</td>\n",
       "      <td>2.342819e+01</td>\n",
       "      <td>2.734695e+01</td>\n",
       "      <td>2.727481e+01</td>\n",
       "      <td>2.963655e+01</td>\n",
       "      <td>7.273875e-01</td>\n",
       "      <td>5.753521e+00</td>\n",
       "      <td>...</td>\n",
       "      <td>-1.558478e+01</td>\n",
       "      <td>-1.490198e+01</td>\n",
       "      <td>-8.411194e+00</td>\n",
       "      <td>-1.829892e+01</td>\n",
       "      <td>-1.966633e+01</td>\n",
       "      <td>-1.145047e+01</td>\n",
       "      <td>-1.298096e+01</td>\n",
       "      <td>-1.630663e+01</td>\n",
       "      <td>-1.510385e+01</td>\n",
       "      <td>-6.211568e+00</td>\n",
       "    </tr>\n",
       "  </tbody>\n",
       "</table>\n",
       "<p>5 rows × 66 columns</p>\n",
       "</div>"
      ],
      "text/plain": [
       "                rch1        strinf          wel5          wel2          wel4  \\\n",
       "rch1    3.310813e-52  5.616738e-53 -5.715799e-54 -6.630929e-54 -1.285323e-53   \n",
       "strinf  5.616738e-53  4.244482e+02 -1.107656e+02 -1.681681e+02 -6.071951e+01   \n",
       "wel5   -5.715799e-54 -1.107656e+02  3.373046e+01  5.037216e+01  2.104357e+01   \n",
       "wel2   -6.630929e-54 -1.681681e+02  5.037216e+01  7.577527e+01  2.955021e+01   \n",
       "wel4   -1.285323e-53 -6.071951e+01  2.104357e+01  2.955021e+01  2.342819e+01   \n",
       "\n",
       "                wel3          wel1          wel0  hk_i:7_j:17_zone:1.0  \\\n",
       "rch1   -1.127573e-53 -9.227413e-54 -6.368659e-54          4.129115e-55   \n",
       "strinf -1.053190e+02 -1.547466e+02 -1.758415e+02          5.939708e-01   \n",
       "wel5    3.380922e+01  4.679896e+01  5.249801e+01          2.209543e-01   \n",
       "wel2    4.926207e+01  7.017748e+01  7.913078e+01          1.911498e-01   \n",
       "wel4    2.734695e+01  2.727481e+01  2.963655e+01          7.273875e-01   \n",
       "\n",
       "        hk_i:27_j:7_zone:1.0  ...  rch_i:27_j:12_zone:1.0  \\\n",
       "rch1           -2.603127e-54  ...            3.848684e-54   \n",
       "strinf          8.262696e+00  ...            9.466655e+01   \n",
       "wel5           -1.159244e+00  ...           -2.491497e+01   \n",
       "wel2           -2.641769e+00  ...           -3.788193e+01   \n",
       "wel4            5.753521e+00  ...           -1.558478e+01   \n",
       "\n",
       "        rch_i:12_j:2_zone:1.0  rch_i:37_j:7_zone:1.0  rch_i:22_j:7_zone:1.0  \\\n",
       "rch1             1.210124e-53           3.083079e-54           6.703012e-54   \n",
       "strinf           7.606745e+01           4.254819e+01           8.792567e+01   \n",
       "wel5            -2.082368e+01          -1.163345e+01          -2.420650e+01   \n",
       "wel2            -3.117218e+01          -1.742603e+01          -3.617201e+01   \n",
       "wel4            -1.490198e+01          -8.411194e+00          -1.829892e+01   \n",
       "\n",
       "        rch_i:27_j:2_zone:1.0  rch_i:32_j:17_zone:1.0  rch_i:27_j:17_zone:1.0  \\\n",
       "rch1             9.151096e-54            1.425093e-54            1.824036e-54   \n",
       "strinf           7.401507e+01            8.932119e+01            9.865193e+01   \n",
       "wel5            -2.110747e+01           -2.270078e+01           -2.523905e+01   \n",
       "wel2            -3.093589e+01           -3.503154e+01           -3.887668e+01   \n",
       "wel4            -1.966633e+01           -1.145047e+01           -1.298096e+01   \n",
       "\n",
       "        rch_i:17_j:2_zone:1.0  rch_i:2_j:2_zone:1.0  rch_i:37_j:17_zone:1.0  \n",
       "rch1             1.145960e-53          1.276891e-53            6.944860e-55  \n",
       "strinf           7.379336e+01          9.099092e+01            5.017724e+01  \n",
       "wel5            -2.049266e+01         -2.458093e+01           -1.262280e+01  \n",
       "wel2            -3.042499e+01         -3.719452e+01           -1.953212e+01  \n",
       "wel4            -1.630663e+01         -1.510385e+01           -6.211568e+00  \n",
       "\n",
       "[5 rows x 66 columns]"
      ]
     },
     "execution_count": 32,
     "metadata": {},
     "output_type": "execute_result"
    }
   ],
   "source": [
    "covar = pyemu.Cov(sc.xtqx.x, names=sc.xtqx.row_names)\n",
    "covar.df().head()"
   ]
  },
  {
   "cell_type": "markdown",
   "metadata": {},
   "source": [
    "For covariance, very small numbers reflect that the parameter doesn't covary with another.  Does it make sense that rch_1 does not covary with other parameters?\n",
    "\n",
    "### We can visualize the correlation betwen the two parameters using a correlation coefficient"
   ]
  },
  {
   "cell_type": "code",
   "execution_count": 12,
   "metadata": {},
   "outputs": [
    {
     "data": {
      "text/plain": [
       "<matplotlib.colorbar.Colorbar at 0x2ca1a527af0>"
      ]
     },
     "execution_count": 12,
     "metadata": {},
     "output_type": "execute_result"
    },
    {
     "data": {
      "image/png": "[encoded data removed]",
      "text/plain": [
       "<Figure size 432x288 with 2 Axes>"
      ]
     },
     "metadata": {
      "needs_background": "light"
     },
     "output_type": "display_data"
    }
   ],
   "source": [
    "R = covar.to_pearson()\n",
    "plt.imshow(R.df(), interpolation='nearest', cmap='viridis')\n",
    "plt.colorbar()"
   ]
  },
  {
   "cell_type": "markdown",
   "metadata": {},
   "source": [
    "As expected, the parameters are correlated perfectly to themselves (1.0 along the yellow diagonal) buth they also can have appreciable correlation to each other, both positively and negatively \n",
    "\n",
    "#### Using zone hk_z03, let's look only at the parameters that have correlation > 0.5"
   ]
  },
  {
   "cell_type": "code",
   "execution_count": 34,
   "metadata": {},
   "outputs": [
    {
     "data": {
      "text/plain": [
       "strinf                    0.957545\n",
       "wel5                     -0.890032\n",
       "wel2                     -0.909004\n",
       "wel4                     -0.573685\n",
       "wel3                     -0.789966\n",
       "wel1                     -0.891873\n",
       "wel0                     -0.910985\n",
       "hk_i:37_j:17_zone:1.0    -0.792038\n",
       "hk_i:32_j:2_zone:1.0     -0.593785\n",
       "hk_i:37_j:12_zone:1.0    -0.753620\n",
       "hk_i:37_j:7_zone:1.0     -0.835852\n",
       "rch_i:32_j:2_zone:1.0     0.838964\n",
       "rch_i:37_j:12_zone:1.0    0.982280\n",
       "rch_i:7_j:12_zone:1.0     0.990987\n",
       "rch_i:2_j:12_zone:1.0     0.966127\n",
       "rch_i:7_j:2_zone:1.0      0.852257\n",
       "rch_i:22_j:2_zone:1.0     0.819109\n",
       "rch_i:32_j:7_zone:1.0     0.910418\n",
       "rch_i:7_j:17_zone:1.0     0.993008\n",
       "rch_i:7_j:7_zone:1.0      0.924855\n",
       "rch_i:2_j:7_zone:1.0      0.846567\n",
       "rch_i:2_j:17_zone:1.0     0.995596\n",
       "rch_i:12_j:17_zone:1.0    0.989992\n",
       "rch_i:22_j:12_zone:1.0    0.985569\n",
       "rch_i:17_j:17_zone:1.0    0.987200\n",
       "rch_i:22_j:17_zone:1.0    0.984711\n",
       "rch_i:12_j:12_zone:1.0    1.000000\n",
       "rch_i:27_j:7_zone:1.0     0.852169\n",
       "rch_i:32_j:12_zone:1.0    0.981351\n",
       "rch_i:17_j:12_zone:1.0    0.996096\n",
       "rch_i:27_j:12_zone:1.0    0.976701\n",
       "rch_i:12_j:2_zone:1.0     0.899809\n",
       "rch_i:37_j:7_zone:1.0     0.943443\n",
       "rch_i:22_j:7_zone:1.0     0.922721\n",
       "rch_i:27_j:2_zone:1.0     0.795656\n",
       "rch_i:32_j:17_zone:1.0    0.978387\n",
       "rch_i:27_j:17_zone:1.0    0.982265\n",
       "rch_i:17_j:2_zone:1.0     0.891263\n",
       "rch_i:2_j:2_zone:1.0      0.833505\n",
       "rch_i:37_j:17_zone:1.0    0.971579\n",
       "Name: rch_i:12_j:12_zone:1.0, dtype: float64"
      ]
     },
     "execution_count": 34,
     "metadata": {},
     "output_type": "execute_result"
    }
   ],
   "source": [
    "cpar = 'rch_i:12_j:12_zone:1.0'\n",
    "R.df().loc[cpar][np.abs(R.df().loc[cpar])>.5]"
   ]
  },
  {
   "cell_type": "markdown",
   "metadata": {},
   "source": [
    "Saying parameters are correlated is really saying that when a parameter changes it has a similar effect on the observations as the other parameter(s). So in this case that means that when hk_z03 increases it has a similar effect on observations as increasing hk_z02.  If we add a new observation type (or less powerfully, a new location) we can break the correlation.  And we've seen this:  adding a flux observation broke the correlation between R and K!"
   ]
  },
  {
   "cell_type": "markdown",
   "metadata": {},
   "source": [
    "We can use this pyemu picture to interrogate the correlation - here we say plot this but cut out all that correlations under 0.9.  Play with this by putting other numbers between 0.3 and 1.0 and re-run the block below."
   ]
  },
  {
   "cell_type": "code",
   "execution_count": 14,
   "metadata": {},
   "outputs": [
    {
     "data": {
      "text/plain": [
       "<matplotlib.colorbar.Colorbar at 0x2ca1b5ca280>"
      ]
     },
     "execution_count": 14,
     "metadata": {},
     "output_type": "execute_result"
    },
    {
     "data": {
      "image/png": "[encoded data removed]",
      "text/plain": [
       "<Figure size 432x288 with 2 Axes>"
      ]
     },
     "metadata": {
      "needs_background": "light"
     },
     "output_type": "display_data"
    }
   ],
   "source": [
    "R_plot = R.as_2d.copy()\n",
    "R_plot[np.abs(R_plot)>0.9] = np.nan\n",
    "plt.imshow(R_plot, interpolation='nearest', cmap='viridis')\n",
    "plt.colorbar()"
   ]
  },
  {
   "cell_type": "markdown",
   "metadata": {},
   "source": [
    "In practice, correlation >0.95 or so becomes a problem for the parameter estimation problem.  "
   ]
  },
  {
   "cell_type": "markdown",
   "metadata": {},
   "source": [
    "# 2. Global Sensitivity\n",
    "### Secondly, let's run GSA, a global sensitivity analysis tool.  By default (no extra settings), GSA will run the Method of Morris with 4 discretization points for each parameter (36 runs) plus the 4 new starting points from the intial conditions (4 runs). That is, 44 runs instead of the 11 needed for the local sensitivity method, so we'll use sweep."
   ]
  },
  {
   "cell_type": "code",
   "execution_count": 15,
   "metadata": {},
   "outputs": [],
   "source": [
    "pyemu.os_utils.start_workers(working_dir, # the folder which contains the \"template\" PEST dataset\n",
    "                            'pestpp-sen', #the PEST software version we want to run\n",
    "                            pst_name, # the control file to use with PEST\n",
    "                            num_workers=num_workers, #how many agents to deploy\n",
    "                            worker_root='.', #where to deploy the agent directories; relative to where python is running\n",
    "                            master_dir=m_d, #the manager directory\n",
    "                            )"
   ]
  },
  {
   "cell_type": "markdown",
   "metadata": {},
   "source": [
    "#### Again, let's echo out the working directory in case you want to look at the files that were just created..."
   ]
  },
  {
   "cell_type": "code",
   "execution_count": 16,
   "metadata": {},
   "outputs": [
    {
     "data": {
      "text/plain": [
       "'d:\\\\Workspace\\\\hugm0001\\\\github\\\\GMDSI_notebooks_fork\\\\tutorials\\\\part1_xx3_global_sensitivity'"
      ]
     },
     "execution_count": 16,
     "metadata": {},
     "output_type": "execute_result"
    }
   ],
   "source": [
    "os.getcwd()"
   ]
  },
  {
   "cell_type": "markdown",
   "metadata": {},
   "source": [
    "## GSA results\n",
    "\n",
    "Let's look at a table and plot of the GSA results.  In this case we are looking at the mean sensitivity, and the standard deviation of the sensitivity as you change the starting value in the parameter space.  \n",
    "\n",
    "> If the __mean sensitivity is high__ it shows that parameter has higher sensitivity across the parameter space.  \n",
    "\n",
    ">If the __standard deviation is low__, then the linear assumptions of FOSM hold (that is, the sensitivity is the similar regardless of starting value).  "
   ]
  },
  {
   "cell_type": "code",
   "execution_count": 17,
   "metadata": {},
   "outputs": [
    {
     "data": {
      "text/html": [
       "<div>\n",
       "<style scoped>\n",
       "    .dataframe tbody tr th:only-of-type {\n",
       "        vertical-align: middle;\n",
       "    }\n",
       "\n",
       "    .dataframe tbody tr th {\n",
       "        vertical-align: top;\n",
       "    }\n",
       "\n",
       "    .dataframe thead th {\n",
       "        text-align: right;\n",
       "    }\n",
       "</style>\n",
       "<table border=\"1\" class=\"dataframe\">\n",
       "  <thead>\n",
       "    <tr style=\"text-align: right;\">\n",
       "      <th></th>\n",
       "      <th>n_samples</th>\n",
       "      <th>sen_mean</th>\n",
       "      <th>sen_mean_abs</th>\n",
       "      <th>sen_std_dev</th>\n",
       "      <th>parnme</th>\n",
       "    </tr>\n",
       "    <tr>\n",
       "      <th>parnme</th>\n",
       "      <th></th>\n",
       "      <th></th>\n",
       "      <th></th>\n",
       "      <th></th>\n",
       "      <th></th>\n",
       "    </tr>\n",
       "  </thead>\n",
       "  <tbody>\n",
       "    <tr>\n",
       "      <th>rch1</th>\n",
       "      <td>4</td>\n",
       "      <td>0.000</td>\n",
       "      <td>0.000</td>\n",
       "      <td>0.000</td>\n",
       "      <td>rch1</td>\n",
       "    </tr>\n",
       "    <tr>\n",
       "      <th>strinf</th>\n",
       "      <td>4</td>\n",
       "      <td>405.552</td>\n",
       "      <td>4934.630</td>\n",
       "      <td>7635.800</td>\n",
       "      <td>strinf</td>\n",
       "    </tr>\n",
       "    <tr>\n",
       "      <th>wel5</th>\n",
       "      <td>4</td>\n",
       "      <td>-553.984</td>\n",
       "      <td>553.984</td>\n",
       "      <td>884.045</td>\n",
       "      <td>wel5</td>\n",
       "    </tr>\n",
       "    <tr>\n",
       "      <th>wel2</th>\n",
       "      <td>4</td>\n",
       "      <td>-276.242</td>\n",
       "      <td>692.051</td>\n",
       "      <td>1137.280</td>\n",
       "      <td>wel2</td>\n",
       "    </tr>\n",
       "    <tr>\n",
       "      <th>wel4</th>\n",
       "      <td>4</td>\n",
       "      <td>127.936</td>\n",
       "      <td>127.936</td>\n",
       "      <td>139.486</td>\n",
       "      <td>wel4</td>\n",
       "    </tr>\n",
       "  </tbody>\n",
       "</table>\n",
       "</div>"
      ],
      "text/plain": [
       "        n_samples  sen_mean  sen_mean_abs  sen_std_dev  parnme\n",
       "parnme                                                        \n",
       "rch1            4     0.000         0.000        0.000    rch1\n",
       "strinf          4   405.552      4934.630     7635.800  strinf\n",
       "wel5            4  -553.984       553.984      884.045    wel5\n",
       "wel2            4  -276.242       692.051     1137.280    wel2\n",
       "wel4            4   127.936       127.936      139.486    wel4"
      ]
     },
     "execution_count": 17,
     "metadata": {},
     "output_type": "execute_result"
    }
   ],
   "source": [
    "df = pd.read_csv(os.path.join(m_d,pst_name.replace(\".pst\",\".msn\")),skipinitialspace=True)\n",
    "df.loc[:,\"parnme\"] = df.pop(\"parameter_name\").apply(lambda x : x.lower().replace(\"log(\",'').replace(')',''))\n",
    "df.index = df.parnme\n",
    "df.head()"
   ]
  },
  {
   "cell_type": "code",
   "execution_count": 41,
   "metadata": {},
   "outputs": [
    {
     "data": {
      "image/png": "[encoded data removed]",
      "text/plain": [
       "<Figure size 936x288 with 1 Axes>"
      ]
     },
     "metadata": {
      "needs_background": "light"
     },
     "output_type": "display_data"
    }
   ],
   "source": [
    "df.loc[:,[\"sen_mean_abs\",\"sen_std_dev\"]].plot(kind=\"bar\", figsize=(13,4))\n",
    "plt.yscale('log');"
   ]
  },
  {
   "cell_type": "markdown",
   "metadata": {},
   "source": [
    "### Interesting!  ``hk_z03`` is more sensitive across parameter space compared to the other HK parameters but hk_z02 is similar (hmm, weren't these two correlated above?)...and it and ``rch_0`` looks to be suffering from non-linearity (and/or interactions with other parameters - Method of Morris can't distinguish the two)!"
   ]
  },
  {
   "cell_type": "code",
   "execution_count": 42,
   "metadata": {},
   "outputs": [
    {
     "data": {
      "text/plain": [
       "<AxesSubplot:>"
      ]
     },
     "execution_count": 42,
     "metadata": {},
     "output_type": "execute_result"
    },
    {
     "data": {
      "image/png": "[encoded data removed]",
      "text/plain": [
       "<Figure size 936x288 with 1 Axes>"
      ]
     },
     "metadata": {
      "needs_background": "light"
     },
     "output_type": "display_data"
    }
   ],
   "source": [
    "cpar = 'rch_i:12_j:12_zone:1.0'\n",
    "R.df().loc[cpar][np.abs(R.df().loc[cpar])>.5].sort_values().plot(kind='bar', figsize=(13,4))"
   ]
  },
  {
   "cell_type": "code",
   "execution_count": 59,
   "metadata": {},
   "outputs": [
    {
     "data": {
      "image/png": "[encoded data removed]",
      "text/plain": [
       "<Figure size 936x180 with 1 Axes>"
      ]
     },
     "metadata": {
      "needs_background": "light"
     },
     "output_type": "display_data"
    },
    {
     "data": {
      "image/png": "[encoded data removed]",
      "text/plain": [
       "<Figure size 936x180 with 1 Axes>"
      ]
     },
     "metadata": {
      "needs_background": "light"
     },
     "output_type": "display_data"
    },
    {
     "data": {
      "image/png": "[encoded data removed]",
      "text/plain": [
       "<Figure size 936x180 with 1 Axes>"
      ]
     },
     "metadata": {
      "needs_background": "light"
     },
     "output_type": "display_data"
    },
    {
     "data": {
      "image/png": "[encoded data removed]",
      "text/plain": [
       "<Figure size 936x180 with 1 Axes>"
      ]
     },
     "metadata": {
      "needs_background": "light"
     },
     "output_type": "display_data"
    }
   ],
   "source": [
    "df_pred_sen = pd.read_csv(os.path.join(m_d,pst_name.replace(\".pst\",\".mio\")),skipinitialspace=True)\n",
    "\n",
    "for forecast in pst.forecast_names:\n",
    "    tmp_df = df_pred_sen.loc[df_pred_sen.observation_name==forecast].sort_values(by='sen_mean_abs', ascending=False)\n",
    "    #tmp_df.plot(x='parameter_name',y='sen_mean_abs', kind='bar')\n",
    "    tmp_df.plot(x=\"parameter_name\",y=[\"sen_mean_abs\",\"sen_std_dev\"],kind=\"bar\", figsize=(13,2.5))\n",
    "    plt.title(forecast)\n",
    "    plt.yscale('log');"
   ]
  },
  {
   "cell_type": "code",
   "execution_count": null,
   "metadata": {},
   "outputs": [],
   "source": []
  }
 ],
 "metadata": {
  "anaconda-cloud": {},
  "kernelspec": {
   "display_name": "Python 3.9.12 ('gmdsitut')",
   "language": "python",
   "name": "python3"
  },
  "language_info": {
   "codemirror_mode": {
    "name": "ipython",
    "version": 3
   },
   "file_extension": ".py",
   "mimetype": "text/x-python",
   "name": "python",
   "nbconvert_exporter": "python",
   "pygments_lexer": "ipython3",
   "version": "3.9.12"
  },
  "vscode": {
   "interpreter": {
    "hash": "1074cc2a408d702fd055a0733ab6591f28fca24f552c9af1e24a27d203837ac3"
   }
  }
 },
 "nbformat": 4,
 "nbformat_minor": 1
}
