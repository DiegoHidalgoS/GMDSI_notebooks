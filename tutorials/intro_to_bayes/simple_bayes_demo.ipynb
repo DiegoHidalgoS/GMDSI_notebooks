{
 "cells": [
  {
   "cell_type": "markdown",
   "id": "eda88ac0",
   "metadata": {},
   "source": [
    "# Simple closed-form Bayes demo\n",
    "\n",
    "In this very simple notebook, we can explore how Bayes equation works for a one-dimensional gaussian inference problem."
   ]
  },
  {
   "cell_type": "code",
   "execution_count": 1,
   "id": "7291766e",
   "metadata": {
    "execution": {
     "iopub.execute_input": "2022-07-29T08:00:20.541847Z",
     "iopub.status.busy": "2022-07-29T08:00:20.541847Z",
     "iopub.status.idle": "2022-07-29T08:00:22.165962Z",
     "shell.execute_reply": "2022-07-29T08:00:22.165041Z"
    }
   },
   "outputs": [],
   "source": [
    "import os\n",
    "import sys\n",
    "sys.path.insert(0,os.path.join(\"..\", \"..\", \"dependencies\"))\n",
    "import pyemu\n",
    "import flopy\n",
    "assert \"dependencies\" in flopy.__file__\n",
    "assert \"dependencies\" in pyemu.__file__\n",
    "from IPython.core.pylabtools import figsize\n",
    "import numpy as np\n",
    "from matplotlib import pyplot as plt\n",
    "figsize(11, 6)\n",
    "import bayes_helper as bh\n",
    "from ipywidgets import interact"
   ]
  },
  {
   "cell_type": "markdown",
   "id": "aa4ad57b",
   "metadata": {},
   "source": [
    "The function `bayes_helper.plot_posterior()` returns an interesting fig.  You pass it the first and second moments of the prior and likelihood functions.  It calculates the first and second posterior moments and then plots them up on a crude figure..."
   ]
  },
  {
   "cell_type": "code",
   "execution_count": 2,
   "id": "3927c591",
   "metadata": {
    "execution": {
     "iopub.execute_input": "2022-07-29T08:00:22.169952Z",
     "iopub.status.busy": "2022-07-29T08:00:22.168954Z",
     "iopub.status.idle": "2022-07-29T08:00:22.371859Z",
     "shell.execute_reply": "2022-07-29T08:00:22.370852Z"
    }
   },
   "outputs": [
    {
     "name": "stderr",
     "output_type": "stream",
     "text": [
      "findfont: Font family ['sans-serif'] not found. Falling back to DejaVu Sans.\n",
      "findfont: Generic family 'sans-serif' not found because none of the following families were found: Univers 57 Condensed\n"
     ]
    },
    {
     "data": {
      "image/png": "[encoded data removed]",
      "text/plain": [
       "<Figure size 432x288 with 1 Axes>"
      ]
     },
     "metadata": {
      "needs_background": "light"
     },
     "output_type": "display_data"
    }
   ],
   "source": [
    "bh.plot_posterior(prior_mean=10, prior_std=11, likeli_mean = 25, likeli_std=5)"
   ]
  },
  {
   "cell_type": "markdown",
   "id": "ccaf0e4c",
   "metadata": {},
   "source": [
    "We can also use the notebook machinery to make this interactive-ish...."
   ]
  },
  {
   "cell_type": "code",
   "execution_count": 3,
   "id": "2ca6d841",
   "metadata": {
    "execution": {
     "iopub.execute_input": "2022-07-29T08:00:22.378875Z",
     "iopub.status.busy": "2022-07-29T08:00:22.378875Z",
     "iopub.status.idle": "2022-07-29T08:00:22.639344Z",
     "shell.execute_reply": "2022-07-29T08:00:22.638296Z"
    }
   },
   "outputs": [
    {
     "name": "stderr",
     "output_type": "stream",
     "text": [
      "C:\\ProgramData\\Anaconda3\\envs\\gmdsitut\\lib\\site-packages\\ipykernel\\pylab\\backend_inline.py:10: DeprecationWarning: `ipykernel.pylab.backend_inline` is deprecated, directly use `matplotlib_inline.backend_inline`\n"
     ]
    },
    {
     "data": {
      "application/vnd.jupyter.widget-view+json": {
       "model_id": "ad9b271aac4943e891c5240375ccd38e",
       "version_major": 2,
       "version_minor": 0
      },
      "text/plain": [
       "interactive(children=(FloatSlider(value=10.5, description='prior_mean', max=20.0, min=1.0, step=0.5), FloatSli…"
      ]
     },
     "metadata": {},
     "output_type": "display_data"
    }
   ],
   "source": [
    "interact(bh.plot_posterior,\n",
    "         prior_mean=(1, 20., .5), likeli_mean=(1, 20, 1), \n",
    "         prior_std=(.1, 8, .1), likeli_std=(.1, 8, 2));"
   ]
  },
  {
   "cell_type": "markdown",
   "id": "750ef7fa",
   "metadata": {},
   "source": [
    "Some experiements to try:\n",
    " - prior and likelihood have same standard deviation and same mean\n",
    " - prior and likelihood have same standard deviation and very different means\n",
    " - prior is very uncertain, likelihood is very certain\n",
    " - prior is very certain, likelihood is very uncertain\n"
   ]
  },
  {
   "cell_type": "markdown",
   "id": "d0ab2d4a",
   "metadata": {},
   "source": [
    "Conceptual understanding check:\n",
    " - where does the prior mean come from?\n",
    " - where does the prior standard deviation come from?\n",
    " - where does the likelihood mean come from?\n",
    " - where does the likelihood standard deviation come from?"
   ]
  },
  {
   "cell_type": "code",
   "execution_count": null,
   "id": "bc74ecb4",
   "metadata": {},
   "outputs": [],
   "source": []
  }
 ],
 "metadata": {
  "language_info": {
   "codemirror_mode": {
    "name": "ipython",
    "version": 3
   },
   "file_extension": ".py",
   "mimetype": "text/x-python",
   "name": "python",
   "nbconvert_exporter": "python",
   "pygments_lexer": "ipython3",
   "version": "3.9.13"
  },
  "widgets": {
   "application/vnd.jupyter.widget-state+json": {
    "state": {
     "2ad8b3a5916c4482bfd09abce229c2ef": {
      "model_module": "@jupyter-widgets/base",
      "model_module_version": "1.2.0",
      "model_name": "LayoutModel",
      "state": {
       "_model_module": "@jupyter-widgets/base",
       "_model_module_version": "1.2.0",
       "_model_name": "LayoutModel",
       "_view_count": null,
       "_view_module": "@jupyter-widgets/base",
       "_view_module_version": "1.2.0",
       "_view_name": "LayoutView",
       "align_content": null,
       "align_items": null,
       "align_self": null,
       "border": null,
       "bottom": null,
       "display": null,
       "flex": null,
       "flex_flow": null,
       "grid_area": null,
       "grid_auto_columns": null,
       "grid_auto_flow": null,
       "grid_auto_rows": null,
       "grid_column": null,
       "grid_gap": null,
       "grid_row": null,
       "grid_template_areas": null,
       "grid_template_columns": null,
       "grid_template_rows": null,
       "height": null,
       "justify_content": null,
       "justify_items": null,
       "left": null,
       "margin": null,
       "max_height": null,
       "max_width": null,
       "min_height": null,
       "min_width": null,
       "object_fit": null,
       "object_position": null,
       "order": null,
       "overflow": null,
       "overflow_x": null,
       "overflow_y": null,
       "padding": null,
       "right": null,
       "top": null,
       "visibility": null,
       "width": null
      }
     },
     "2c2bb5586f034bec9b57ee8f6661f457": {
      "model_module": "@jupyter-widgets/controls",
      "model_module_version": "1.5.0",
      "model_name": "SliderStyleModel",
      "state": {
       "_model_module": "@jupyter-widgets/controls",
       "_model_module_version": "1.5.0",
       "_model_name": "SliderStyleModel",
       "_view_count": null,
       "_view_module": "@jupyter-widgets/base",
       "_view_module_version": "1.2.0",
       "_view_name": "StyleView",
       "description_width": "",
       "handle_color": null
      }
     },
     "373d9b0075444dafa300ffe1e131244c": {
      "model_module": "@jupyter-widgets/controls",
      "model_module_version": "1.5.0",
      "model_name": "DescriptionStyleModel",
      "state": {
       "_model_module": "@jupyter-widgets/controls",
       "_model_module_version": "1.5.0",
       "_model_name": "DescriptionStyleModel",
       "_view_count": null,
       "_view_module": "@jupyter-widgets/base",
       "_view_module_version": "1.2.0",
       "_view_name": "StyleView",
       "description_width": ""
      }
     },
     "3863e21308424dd9a94953e617c5b013": {
      "model_module": "@jupyter-widgets/base",
      "model_module_version": "1.2.0",
      "model_name": "LayoutModel",
      "state": {
       "_model_module": "@jupyter-widgets/base",
       "_model_module_version": "1.2.0",
       "_model_name": "LayoutModel",
       "_view_count": null,
       "_view_module": "@jupyter-widgets/base",
       "_view_module_version": "1.2.0",
       "_view_name": "LayoutView",
       "align_content": null,
       "align_items": null,
       "align_self": null,
       "border": null,
       "bottom": null,
       "display": null,
       "flex": null,
       "flex_flow": null,
       "grid_area": null,
       "grid_auto_columns": null,
       "grid_auto_flow": null,
       "grid_auto_rows": null,
       "grid_column": null,
       "grid_gap": null,
       "grid_row": null,
       "grid_template_areas": null,
       "grid_template_columns": null,
       "grid_template_rows": null,
       "height": null,
       "justify_content": null,
       "justify_items": null,
       "left": null,
       "margin": null,
       "max_height": null,
       "max_width": null,
       "min_height": null,
       "min_width": null,
       "object_fit": null,
       "object_position": null,
       "order": null,
       "overflow": null,
       "overflow_x": null,
       "overflow_y": null,
       "padding": null,
       "right": null,
       "top": null,
       "visibility": null,
       "width": null
      }
     },
     "556d357094ec421b8578bce486c2438b": {
      "model_module": "@jupyter-widgets/controls",
      "model_module_version": "1.5.0",
      "model_name": "FloatSliderModel",
      "state": {
       "_dom_classes": [],
       "_model_module": "@jupyter-widgets/controls",
       "_model_module_version": "1.5.0",
       "_model_name": "FloatSliderModel",
       "_view_count": null,
       "_view_module": "@jupyter-widgets/controls",
       "_view_module_version": "1.5.0",
       "_view_name": "FloatSliderView",
       "continuous_update": true,
       "description": "prior_mean",
       "description_tooltip": null,
       "disabled": false,
       "layout": "IPY_MODEL_a4cb2f3d45ad44c68951db6532ff1ca8",
       "max": 20.0,
       "min": 1.0,
       "orientation": "horizontal",
       "readout": true,
       "readout_format": ".2f",
       "step": 0.5,
       "style": "IPY_MODEL_2c2bb5586f034bec9b57ee8f6661f457",
       "value": 10.5
      }
     },
     "55b474871c254336995a94ebb9e206bd": {
      "model_module": "@jupyter-widgets/controls",
      "model_module_version": "1.5.0",
      "model_name": "FloatSliderModel",
      "state": {
       "_dom_classes": [],
       "_model_module": "@jupyter-widgets/controls",
       "_model_module_version": "1.5.0",
       "_model_name": "FloatSliderModel",
       "_view_count": null,
       "_view_module": "@jupyter-widgets/controls",
       "_view_module_version": "1.5.0",
       "_view_name": "FloatSliderView",
       "continuous_update": true,
       "description": "likeli_std",
       "description_tooltip": null,
       "disabled": false,
       "layout": "IPY_MODEL_5e6cc132d17e4e79a259080726f65356",
       "max": 8.0,
       "min": 0.1,
       "orientation": "horizontal",
       "readout": true,
       "readout_format": ".2f",
       "step": 2.0,
       "style": "IPY_MODEL_58250437b51e4cac8cb343c1fa999c8f",
       "value": 2.1
      }
     },
     "58250437b51e4cac8cb343c1fa999c8f": {
      "model_module": "@jupyter-widgets/controls",
      "model_module_version": "1.5.0",
      "model_name": "SliderStyleModel",
      "state": {
       "_model_module": "@jupyter-widgets/controls",
       "_model_module_version": "1.5.0",
       "_model_name": "SliderStyleModel",
       "_view_count": null,
       "_view_module": "@jupyter-widgets/base",
       "_view_module_version": "1.2.0",
       "_view_name": "StyleView",
       "description_width": "",
       "handle_color": null
      }
     },
     "5e6cc132d17e4e79a259080726f65356": {
      "model_module": "@jupyter-widgets/base",
      "model_module_version": "1.2.0",
      "model_name": "LayoutModel",
      "state": {
       "_model_module": "@jupyter-widgets/base",
       "_model_module_version": "1.2.0",
       "_model_name": "LayoutModel",
       "_view_count": null,
       "_view_module": "@jupyter-widgets/base",
       "_view_module_version": "1.2.0",
       "_view_name": "LayoutView",
       "align_content": null,
       "align_items": null,
       "align_self": null,
       "border": null,
       "bottom": null,
       "display": null,
       "flex": null,
       "flex_flow": null,
       "grid_area": null,
       "grid_auto_columns": null,
       "grid_auto_flow": null,
       "grid_auto_rows": null,
       "grid_column": null,
       "grid_gap": null,
       "grid_row": null,
       "grid_template_areas": null,
       "grid_template_columns": null,
       "grid_template_rows": null,
       "height": null,
       "justify_content": null,
       "justify_items": null,
       "left": null,
       "margin": null,
       "max_height": null,
       "max_width": null,
       "min_height": null,
       "min_width": null,
       "object_fit": null,
       "object_position": null,
       "order": null,
       "overflow": null,
       "overflow_x": null,
       "overflow_y": null,
       "padding": null,
       "right": null,
       "top": null,
       "visibility": null,
       "width": null
      }
     },
     "7e1ca4c18ddc4413ad96526eb1ad8a2a": {
      "model_module": "@jupyter-widgets/controls",
      "model_module_version": "1.5.0",
      "model_name": "SliderStyleModel",
      "state": {
       "_model_module": "@jupyter-widgets/controls",
       "_model_module_version": "1.5.0",
       "_model_name": "SliderStyleModel",
       "_view_count": null,
       "_view_module": "@jupyter-widgets/base",
       "_view_module_version": "1.2.0",
       "_view_name": "StyleView",
       "description_width": "",
       "handle_color": null
      }
     },
     "99796bd3aaaa4e52a46ea46926f8e1cc": {
      "model_module": "@jupyter-widgets/base",
      "model_module_version": "1.2.0",
      "model_name": "LayoutModel",
      "state": {
       "_model_module": "@jupyter-widgets/base",
       "_model_module_version": "1.2.0",
       "_model_name": "LayoutModel",
       "_view_count": null,
       "_view_module": "@jupyter-widgets/base",
       "_view_module_version": "1.2.0",
       "_view_name": "LayoutView",
       "align_content": null,
       "align_items": null,
       "align_self": null,
       "border": null,
       "bottom": null,
       "display": null,
       "flex": null,
       "flex_flow": null,
       "grid_area": null,
       "grid_auto_columns": null,
       "grid_auto_flow": null,
       "grid_auto_rows": null,
       "grid_column": null,
       "grid_gap": null,
       "grid_row": null,
       "grid_template_areas": null,
       "grid_template_columns": null,
       "grid_template_rows": null,
       "height": null,
       "justify_content": null,
       "justify_items": null,
       "left": null,
       "margin": null,
       "max_height": null,
       "max_width": null,
       "min_height": null,
       "min_width": null,
       "object_fit": null,
       "object_position": null,
       "order": null,
       "overflow": null,
       "overflow_x": null,
       "overflow_y": null,
       "padding": null,
       "right": null,
       "top": null,
       "visibility": null,
       "width": null
      }
     },
     "9b90474967514f0799bdf3a45145c1e6": {
      "model_module": "@jupyter-widgets/controls",
      "model_module_version": "1.5.0",
      "model_name": "CheckboxModel",
      "state": {
       "_dom_classes": [],
       "_model_module": "@jupyter-widgets/controls",
       "_model_module_version": "1.5.0",
       "_model_name": "CheckboxModel",
       "_view_count": null,
       "_view_module": "@jupyter-widgets/controls",
       "_view_module_version": "1.5.0",
       "_view_name": "CheckboxView",
       "description": "legend",
       "description_tooltip": null,
       "disabled": false,
       "indent": true,
       "layout": "IPY_MODEL_3863e21308424dd9a94953e617c5b013",
       "style": "IPY_MODEL_d9e85f849c1841ce866b3c33323ac11a",
       "value": true
      }
     },
     "a4cb2f3d45ad44c68951db6532ff1ca8": {
      "model_module": "@jupyter-widgets/base",
      "model_module_version": "1.2.0",
      "model_name": "LayoutModel",
      "state": {
       "_model_module": "@jupyter-widgets/base",
       "_model_module_version": "1.2.0",
       "_model_name": "LayoutModel",
       "_view_count": null,
       "_view_module": "@jupyter-widgets/base",
       "_view_module_version": "1.2.0",
       "_view_name": "LayoutView",
       "align_content": null,
       "align_items": null,
       "align_self": null,
       "border": null,
       "bottom": null,
       "display": null,
       "flex": null,
       "flex_flow": null,
       "grid_area": null,
       "grid_auto_columns": null,
       "grid_auto_flow": null,
       "grid_auto_rows": null,
       "grid_column": null,
       "grid_gap": null,
       "grid_row": null,
       "grid_template_areas": null,
       "grid_template_columns": null,
       "grid_template_rows": null,
       "height": null,
       "justify_content": null,
       "justify_items": null,
       "left": null,
       "margin": null,
       "max_height": null,
       "max_width": null,
       "min_height": null,
       "min_width": null,
       "object_fit": null,
       "object_position": null,
       "order": null,
       "overflow": null,
       "overflow_x": null,
       "overflow_y": null,
       "padding": null,
       "right": null,
       "top": null,
       "visibility": null,
       "width": null
      }
     },
     "ad9b271aac4943e891c5240375ccd38e": {
      "model_module": "@jupyter-widgets/controls",
      "model_module_version": "1.5.0",
      "model_name": "VBoxModel",
      "state": {
       "_dom_classes": [
        "widget-interact"
       ],
       "_model_module": "@jupyter-widgets/controls",
       "_model_module_version": "1.5.0",
       "_model_name": "VBoxModel",
       "_view_count": null,
       "_view_module": "@jupyter-widgets/controls",
       "_view_module_version": "1.5.0",
       "_view_name": "VBoxView",
       "box_style": "",
       "children": [
        "IPY_MODEL_556d357094ec421b8578bce486c2438b",
        "IPY_MODEL_e86df2e0bac848b1b6fcd489b93e2a54",
        "IPY_MODEL_e83712725ff94a10a4e437c79522c5f6",
        "IPY_MODEL_55b474871c254336995a94ebb9e206bd",
        "IPY_MODEL_9b90474967514f0799bdf3a45145c1e6",
        "IPY_MODEL_dbb29b80f2d8431cb70042278755c37a",
        "IPY_MODEL_ca0ba4896c92487180b7a13b15a392e9"
       ],
       "layout": "IPY_MODEL_faba7e3aacfc4bbd8e5e5d65d9a0050c"
      }
     },
     "ca0ba4896c92487180b7a13b15a392e9": {
      "model_module": "@jupyter-widgets/output",
      "model_module_version": "1.0.0",
      "model_name": "OutputModel",
      "state": {
       "_dom_classes": [],
       "_model_module": "@jupyter-widgets/output",
       "_model_module_version": "1.0.0",
       "_model_name": "OutputModel",
       "_view_count": null,
       "_view_module": "@jupyter-widgets/output",
       "_view_module_version": "1.0.0",
       "_view_name": "OutputView",
       "layout": "IPY_MODEL_cd088b23313c43bb81650e6bdec0bd8f",
       "msg_id": "",
       "outputs": [
        {
         "data": {
          "image/png": "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\n",
          "text/plain": "<Figure size 432x288 with 1 Axes>"
         },
         "metadata": {
          "needs_background": "light"
         },
         "output_type": "display_data"
        }
       ]
      }
     },
     "cd088b23313c43bb81650e6bdec0bd8f": {
      "model_module": "@jupyter-widgets/base",
      "model_module_version": "1.2.0",
      "model_name": "LayoutModel",
      "state": {
       "_model_module": "@jupyter-widgets/base",
       "_model_module_version": "1.2.0",
       "_model_name": "LayoutModel",
       "_view_count": null,
       "_view_module": "@jupyter-widgets/base",
       "_view_module_version": "1.2.0",
       "_view_name": "LayoutView",
       "align_content": null,
       "align_items": null,
       "align_self": null,
       "border": null,
       "bottom": null,
       "display": null,
       "flex": null,
       "flex_flow": null,
       "grid_area": null,
       "grid_auto_columns": null,
       "grid_auto_flow": null,
       "grid_auto_rows": null,
       "grid_column": null,
       "grid_gap": null,
       "grid_row": null,
       "grid_template_areas": null,
       "grid_template_columns": null,
       "grid_template_rows": null,
       "height": null,
       "justify_content": null,
       "justify_items": null,
       "left": null,
       "margin": null,
       "max_height": null,
       "max_width": null,
       "min_height": null,
       "min_width": null,
       "object_fit": null,
       "object_position": null,
       "order": null,
       "overflow": null,
       "overflow_x": null,
       "overflow_y": null,
       "padding": null,
       "right": null,
       "top": null,
       "visibility": null,
       "width": null
      }
     },
     "d9e85f849c1841ce866b3c33323ac11a": {
      "model_module": "@jupyter-widgets/controls",
      "model_module_version": "1.5.0",
      "model_name": "DescriptionStyleModel",
      "state": {
       "_model_module": "@jupyter-widgets/controls",
       "_model_module_version": "1.5.0",
       "_model_name": "DescriptionStyleModel",
       "_view_count": null,
       "_view_module": "@jupyter-widgets/base",
       "_view_module_version": "1.2.0",
       "_view_name": "StyleView",
       "description_width": ""
      }
     },
     "dbb29b80f2d8431cb70042278755c37a": {
      "model_module": "@jupyter-widgets/controls",
      "model_module_version": "1.5.0",
      "model_name": "CheckboxModel",
      "state": {
       "_dom_classes": [],
       "_model_module": "@jupyter-widgets/controls",
       "_model_module_version": "1.5.0",
       "_model_name": "CheckboxModel",
       "_view_count": null,
       "_view_module": "@jupyter-widgets/controls",
       "_view_module_version": "1.5.0",
       "_view_name": "CheckboxView",
       "description": "savefigure",
       "description_tooltip": null,
       "disabled": false,
       "indent": true,
       "layout": "IPY_MODEL_2ad8b3a5916c4482bfd09abce229c2ef",
       "style": "IPY_MODEL_373d9b0075444dafa300ffe1e131244c",
       "value": false
      }
     },
     "e4bf29683e0d4951bbfb9c3ff897a4c6": {
      "model_module": "@jupyter-widgets/base",
      "model_module_version": "1.2.0",
      "model_name": "LayoutModel",
      "state": {
       "_model_module": "@jupyter-widgets/base",
       "_model_module_version": "1.2.0",
       "_model_name": "LayoutModel",
       "_view_count": null,
       "_view_module": "@jupyter-widgets/base",
       "_view_module_version": "1.2.0",
       "_view_name": "LayoutView",
       "align_content": null,
       "align_items": null,
       "align_self": null,
       "border": null,
       "bottom": null,
       "display": null,
       "flex": null,
       "flex_flow": null,
       "grid_area": null,
       "grid_auto_columns": null,
       "grid_auto_flow": null,
       "grid_auto_rows": null,
       "grid_column": null,
       "grid_gap": null,
       "grid_row": null,
       "grid_template_areas": null,
       "grid_template_columns": null,
       "grid_template_rows": null,
       "height": null,
       "justify_content": null,
       "justify_items": null,
       "left": null,
       "margin": null,
       "max_height": null,
       "max_width": null,
       "min_height": null,
       "min_width": null,
       "object_fit": null,
       "object_position": null,
       "order": null,
       "overflow": null,
       "overflow_x": null,
       "overflow_y": null,
       "padding": null,
       "right": null,
       "top": null,
       "visibility": null,
       "width": null
      }
     },
     "e83712725ff94a10a4e437c79522c5f6": {
      "model_module": "@jupyter-widgets/controls",
      "model_module_version": "1.5.0",
      "model_name": "IntSliderModel",
      "state": {
       "_dom_classes": [],
       "_model_module": "@jupyter-widgets/controls",
       "_model_module_version": "1.5.0",
       "_model_name": "IntSliderModel",
       "_view_count": null,
       "_view_module": "@jupyter-widgets/controls",
       "_view_module_version": "1.5.0",
       "_view_name": "IntSliderView",
       "continuous_update": true,
       "description": "likeli_mean",
       "description_tooltip": null,
       "disabled": false,
       "layout": "IPY_MODEL_e4bf29683e0d4951bbfb9c3ff897a4c6",
       "max": 20,
       "min": 1,
       "orientation": "horizontal",
       "readout": true,
       "readout_format": "d",
       "step": 1,
       "style": "IPY_MODEL_edec8d65712742448154a9df98fac776",
       "value": 10
      }
     },
     "e86df2e0bac848b1b6fcd489b93e2a54": {
      "model_module": "@jupyter-widgets/controls",
      "model_module_version": "1.5.0",
      "model_name": "FloatSliderModel",
      "state": {
       "_dom_classes": [],
       "_model_module": "@jupyter-widgets/controls",
       "_model_module_version": "1.5.0",
       "_model_name": "FloatSliderModel",
       "_view_count": null,
       "_view_module": "@jupyter-widgets/controls",
       "_view_module_version": "1.5.0",
       "_view_name": "FloatSliderView",
       "continuous_update": true,
       "description": "prior_std",
       "description_tooltip": null,
       "disabled": false,
       "layout": "IPY_MODEL_99796bd3aaaa4e52a46ea46926f8e1cc",
       "max": 8.0,
       "min": 0.1,
       "orientation": "horizontal",
       "readout": true,
       "readout_format": ".2f",
       "step": 0.1,
       "style": "IPY_MODEL_7e1ca4c18ddc4413ad96526eb1ad8a2a",
       "value": 4.0
      }
     },
     "edec8d65712742448154a9df98fac776": {
      "model_module": "@jupyter-widgets/controls",
      "model_module_version": "1.5.0",
      "model_name": "SliderStyleModel",
      "state": {
       "_model_module": "@jupyter-widgets/controls",
       "_model_module_version": "1.5.0",
       "_model_name": "SliderStyleModel",
       "_view_count": null,
       "_view_module": "@jupyter-widgets/base",
       "_view_module_version": "1.2.0",
       "_view_name": "StyleView",
       "description_width": "",
       "handle_color": null
      }
     },
     "faba7e3aacfc4bbd8e5e5d65d9a0050c": {
      "model_module": "@jupyter-widgets/base",
      "model_module_version": "1.2.0",
      "model_name": "LayoutModel",
      "state": {
       "_model_module": "@jupyter-widgets/base",
       "_model_module_version": "1.2.0",
       "_model_name": "LayoutModel",
       "_view_count": null,
       "_view_module": "@jupyter-widgets/base",
       "_view_module_version": "1.2.0",
       "_view_name": "LayoutView",
       "align_content": null,
       "align_items": null,
       "align_self": null,
       "border": null,
       "bottom": null,
       "display": null,
       "flex": null,
       "flex_flow": null,
       "grid_area": null,
       "grid_auto_columns": null,
       "grid_auto_flow": null,
       "grid_auto_rows": null,
       "grid_column": null,
       "grid_gap": null,
       "grid_row": null,
       "grid_template_areas": null,
       "grid_template_columns": null,
       "grid_template_rows": null,
       "height": null,
       "justify_content": null,
       "justify_items": null,
       "left": null,
       "margin": null,
       "max_height": null,
       "max_width": null,
       "min_height": null,
       "min_width": null,
       "object_fit": null,
       "object_position": null,
       "order": null,
       "overflow": null,
       "overflow_x": null,
       "overflow_y": null,
       "padding": null,
       "right": null,
       "top": null,
       "visibility": null,
       "width": null
      }
     }
    },
    "version_major": 2,
    "version_minor": 0
   }
  }
 },
 "nbformat": 4,
 "nbformat_minor": 5
}
