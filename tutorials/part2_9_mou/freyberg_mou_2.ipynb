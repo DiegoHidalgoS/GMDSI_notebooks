{
 "cells": [
  {
   "cell_type": "markdown",
   "metadata": {},
   "source": [
    "# When worlds collide even more: constrainted multi-objective optimization under uncertainty\n",
    "\n",
    "In the previous optimization notebook (\"freyberg_mou_1.ipynb\"), we saw how we can use PESTPP-MOU to do some pretty killer decision support with multi-objective optimization.  It was awesome...\n",
    "\n",
    "Now lets see how a stack, risk, and reliability can play here...\n"
   ]
  },
  {
   "cell_type": "markdown",
   "metadata": {},
   "source": [
    "### Admin\n",
    "\n",
    "Start off with the usual loading of dependencies and preparing model and PEST files. We will be continuing to work with the modified-Freyberg model (see \"intro to model\" notebook), and the high-dimensional PEST dataset prepared in the \"pstfrom pest setup\" and \"obs and weights\" notebooks. \n",
    "\n",
    "For the purposes of this notebook, you do not require familiarity with previous notebooks (but it helps...). \n",
    "\n",
    "Simply run the next few cells by pressing `shift+enter`."
   ]
  },
  {
   "cell_type": "code",
   "execution_count": null,
   "metadata": {},
   "outputs": [],
   "source": [
    "import os\n",
    "import warnings\n",
    "warnings.filterwarnings(\"ignore\")\n",
    "warnings.filterwarnings(\"ignore\", category=DeprecationWarning) \n",
    "import numpy as np\n",
    "import pandas as pd\n",
    "font = {'family' : 'normal',\n",
    "        'size'   : 15}\n",
    "import matplotlib\n",
    "matplotlib.rc('font', **font)\n",
    "import matplotlib.pyplot as plt;\n",
    "import shutil\n",
    "import psutil\n",
    "\n",
    "import sys\n",
    "sys.path.insert(0,os.path.join(\"..\", \"..\", \"dependencies\"))\n",
    "import pyemu\n",
    "import flopy\n",
    "assert \"dependencies\" in flopy.__file__\n",
    "assert \"dependencies\" in pyemu.__file__\n",
    "sys.path.insert(0,\"..\")\n",
    "import herebedragons as hbd\n",
    "\n"
   ]
  },
  {
   "cell_type": "markdown",
   "metadata": {},
   "source": [
    "To maintain continuity in the series of tutorials, we we use the PEST-dataset prepared in the \"obs and weigths\" tutorial. Run the next cell to copy fthe necessary files across. Note that if you will need to run the previous notebooks in the correct order beforehand.\n",
    "\n",
    "Specify the path to the PEST dataset template folder. Recall that we will prepare our PEST dataset files in this folder, keeping them separate from the original model files. Then copy across pre-prepared model and PEST files:"
   ]
  },
  {
   "cell_type": "code",
   "execution_count": null,
   "metadata": {},
   "outputs": [],
   "source": [
    "# specify the temporary working folder\n",
    "t_d = os.path.join('freyberg6_template_chance')\n",
    "if os.path.exists(t_d):\n",
    "    shutil.rmtree(t_d)\n",
    "\n",
    "org_t_d = os.path.join(\"freyberg6_template\")\n",
    "if not os.path.exists(org_t_d):\n",
    "    raise Exception(\"you need to run the '/part2_8_opt/freyberg_opt_1.ipynb' notebook\")\n",
    "\n",
    "shutil.copytree(org_t_d,t_d)"
   ]
  },
  {
   "cell_type": "code",
   "execution_count": null,
   "metadata": {},
   "outputs": [],
   "source": [
    "pst_path = os.path.join(t_d, 'freyberg_mf6.pst')"
   ]
  },
  {
   "cell_type": "code",
   "execution_count": null,
   "metadata": {},
   "outputs": [],
   "source": [
    "pst = pyemu.Pst(pst_path)"
   ]
  },
  {
   "cell_type": "markdown",
   "metadata": {},
   "source": [
    "## Stacks\n",
    "\n",
    "So mechanically, how do we come up with this constraint PDF?  We saw previously in the PESTPP-IES notebook that we had to run the posterior parameter ensemble to yield a predictive PDF.  Well its no different here:  We will grab that PESTPP-IES posterior parameter ensemble (and manipulate it a little to remove decision variables) and then identify that ensemble as a \"stack\" of parameter realizations that can be run thru the model to yield constraint PDFs.  Easy as!  \n",
    "\n",
    "Beware tho: including a stack in the optimization means we need to evaluate the stack at least once (see \"coupling\" below) which means we need queue up and run the stack along with the response matrix pertubation runs from before...lucky for you PESTPP-OPT does this automagically!"
   ]
  },
  {
   "cell_type": "code",
   "execution_count": null,
   "metadata": {},
   "outputs": [],
   "source": [
    "# check that the pestpp-ies directory exists and that the posterior parameter ensemble exists\n",
    "ies_dir = os.path.join(\"..\",\"part2_6_ies\",\"master_ies_1\")\n",
    "if not os.path.exists(ies_dir):\n",
    "    raise Exception(\"you need to run the 'part2_6_ies/freyberg_ies_1_basics.ipynb' notebook\")"
   ]
  },
  {
   "cell_type": "code",
   "execution_count": null,
   "metadata": {},
   "outputs": [],
   "source": [
    "pe_files = [f for f in os.listdir(ies_dir) if f.endswith(\".par.csv\") and f.startswith(\"freyberg_mf6\")]\n",
    "pe_files.sort()\n",
    "pe_files\n",
    "pe = pd.read_csv(os.path.join(ies_dir,pe_files[-1]),index_col=0)"
   ]
  },
  {
   "cell_type": "markdown",
   "metadata": {},
   "source": [
    "Now load the parameter ensemble from the last iteration of PESTPP-IES:"
   ]
  },
  {
   "cell_type": "code",
   "execution_count": null,
   "metadata": {},
   "outputs": [],
   "source": [
    "pe = pd.read_csv(os.path.join(ies_dir,pe_files[-1]),index_col=0)\n",
    "pe"
   ]
  },
  {
   "cell_type": "code",
   "execution_count": null,
   "metadata": {},
   "outputs": [],
   "source": [
    "par = pst.parameter_data\n",
    "par.loc[par.partrans==\"fixed\",\"partrans\"] = \"none\"\n",
    "wpar = par.loc[par.parnme.str.contains(\"wel\") & par.parnme.str.contains(\"cn\"),\"parnme\"]\n",
    "pe.loc[:,wpar.values] = 1.0"
   ]
  },
  {
   "cell_type": "code",
   "execution_count": null,
   "metadata": {},
   "outputs": [],
   "source": [
    "pe.to_csv(os.path.join(t_d,\"par_stack.csv\"))"
   ]
  },
  {
   "cell_type": "code",
   "execution_count": null,
   "metadata": {},
   "outputs": [],
   "source": [
    "risk_tpl = os.path.join(t_d,\"risk.dat.tpl\")\n",
    "with open(risk_tpl,'w') as f:\n",
    "          f.write(\"ptf ~\\n\")\n",
    "          f.write(\"risk ~ _risk_~ \\n\")\n",
    "pst.add_parameters(risk_tpl,pst_path=\".\")\n",
    "par = pst.parameter_data\n",
    "par.loc[\"_risk_\",\"partrans\"] = \"none\"\n",
    "par.loc[\"_risk_\",\"parubnd\"] = 0.999\n",
    "par.loc[\"_risk_\",\"parlbnd\"] = 0.001\n",
    "par.loc[\"_risk_\",\"parval1\"] = 0.5\n",
    "par.loc[\"_risk_\",\"pargp\"] = \"decvars\"\n",
    "\n",
    "\n",
    "pst.add_pi_equation([\"_risk_\"],pilbl=\"risk_eq\",obs_group=\"greater_than\")\n"
   ]
  },
  {
   "cell_type": "code",
   "execution_count": null,
   "metadata": {},
   "outputs": [],
   "source": [
    "pst.prior_information"
   ]
  },
  {
   "cell_type": "code",
   "execution_count": null,
   "metadata": {},
   "outputs": [],
   "source": [
    "dv_file = os.path.join(t_d,\"initial_dvpop.csv\")\n",
    "mou1_m_d = os.path.join(\"master_mou_1\")\n",
    "if os.path.exists(mou1_m_d):\n",
    "    files = [f for f in os.listdir(mou1_m_d) if f.endswith(\"dv_pop.csv\") and \"archive\" not in f]\n",
    "    files.sort()\n",
    "    dv_file = os.path.join(mou1_m_d,files[-2])\n",
    "print(dv_file)\n",
    "df = pd.read_csv(dv_file,index_col=0)\n",
    "df.loc[:,\"_risk_\"] = np.random.uniform(0.001,0.999,df.shape[0])\n",
    "df.to_csv(dv_file)"
   ]
  },
  {
   "cell_type": "code",
   "execution_count": null,
   "metadata": {},
   "outputs": [],
   "source": [
    "pst.pestpp_options[\"mou_objectives\"] += \",_risk_\"\n",
    "pst.pestpp_options[\"mou_risk_objective\"] = True\n",
    "pst.pestpp_options[\"opt_recalc_chance_every\"] = 100000"
   ]
  },
  {
   "cell_type": "code",
   "execution_count": null,
   "metadata": {},
   "outputs": [],
   "source": [
    "pst.pestpp_options[\"opt_par_stack\"] = \"par_stack.csv\"\n",
    "pst.pestpp_options[\"opt_risk\"] = 0.95"
   ]
  },
  {
   "cell_type": "code",
   "execution_count": null,
   "metadata": {},
   "outputs": [],
   "source": [
    "obs_org = pst.observation_data.copy()\n",
    "obs = pst.observation_data\n",
    "#obs.loc[obs.apply(lambda x: x.weight > 0 and \"wel\" in x.obsnme,axis=1),\"weight\"] = 0.0\n"
   ]
  },
  {
   "cell_type": "code",
   "execution_count": null,
   "metadata": {},
   "outputs": [],
   "source": [
    "pst.noptmax = 100\n",
    "pst.write(pst_path,version=2)"
   ]
  },
  {
   "cell_type": "markdown",
   "metadata": {},
   "source": [
    "## An aside on \"coupling\": interaction between decision variables, parameters, and constraints\n",
    "\n",
    "blahblahblah\n",
    "\n"
   ]
  },
  {
   "cell_type": "markdown",
   "metadata": {},
   "source": [
    "\n",
    "# Attention!\n",
    "\n",
    "You must specify the number which is adequate for ***your*** machine! Make sure to assign an appropriate value for the following `num_workers` variable:"
   ]
  },
  {
   "cell_type": "code",
   "execution_count": null,
   "metadata": {},
   "outputs": [],
   "source": []
  },
  {
   "cell_type": "code",
   "execution_count": null,
   "metadata": {},
   "outputs": [],
   "source": [
    "num_workers = 22 #psutil.cpu_count(logical=False) # update according to your available resources!"
   ]
  },
  {
   "cell_type": "markdown",
   "metadata": {},
   "source": [
    "Then specify the folder in which the PEST manager will run and record outcomes. It should be different from the `t_d` folder. "
   ]
  },
  {
   "cell_type": "code",
   "execution_count": null,
   "metadata": {},
   "outputs": [],
   "source": [
    "m_d = os.path.join('master_opt_2')"
   ]
  },
  {
   "cell_type": "markdown",
   "metadata": {},
   "source": [
    "The following cell deploys the PEST agents and manager and then starts the run using `pestpp-opt`. Run it by pressing `shift+enter`.\n",
    "\n",
    "If you wish to see the outputs in real-time, switch over to the terminal window (the one which you used to launch the `jupyter notebook`). There you should see `pestpp-opt`'s progress. \n",
    "\n",
    "If you open the tutorial folder, you should also see a bunch of new folders there named `worker_0`, `worker_1`, etc. These are the agent folders. `pyemu` will remove them when PEST finishes running.\n",
    "\n",
    "This run should take a while to complete (depending on the number of workers and the speed of your machine). If you get an error, make sure that your firewall or antivirus software is not blocking `pestpp-opt` from communicating with the agents (this is a common problem!)."
   ]
  },
  {
   "cell_type": "code",
   "execution_count": null,
   "metadata": {},
   "outputs": [],
   "source": [
    "pyemu.os_utils.start_workers(t_d,\"pestpp-mou\",\"freyberg_mf6.pst\",num_workers=num_workers,worker_root=\".\",\n",
    "                           master_dir=m_d)"
   ]
  },
  {
   "cell_type": "code",
   "execution_count": null,
   "metadata": {},
   "outputs": [],
   "source": []
  }
 ],
 "metadata": {
  "kernelspec": {
   "display_name": "Python 3 (ipykernel)",
   "language": "python",
   "name": "python3"
  },
  "language_info": {
   "codemirror_mode": {
    "name": "ipython",
    "version": 3
   },
   "file_extension": ".py",
   "mimetype": "text/x-python",
   "name": "python",
   "nbconvert_exporter": "python",
   "pygments_lexer": "ipython3",
   "version": "3.9.10"
  }
 },
 "nbformat": 4,
 "nbformat_minor": 2
}
